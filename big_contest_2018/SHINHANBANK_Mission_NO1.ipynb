{
 "cells": [
  {
   "cell_type": "markdown",
   "metadata": {},
   "source": [
    "# Concept\n",
    "\n",
    "- DataSet은 신한 은행에서 취급하는 기본정보(SEX_GBN, AGE_GBN, ADD_GBN, INCOME_GBN, JOB_GBN, MARRY_Y, DOUBLE_IN, NUMCHILD)에 대한 모집단을 완성하는 것이다. \n",
    "- 기본 정보의 밀도 있는 조합으로 평균 값으로 대체를 해도 추정에는 무리가 없다. \n",
    "\n",
    "\n",
    "# ToBe\n",
    "\n",
    "__1. target_set의 미응답처리__<br>\n",
    "\n",
    "- train_set에는 미응답이 없다는 명세가 있다. 하지만 target_set에는 미응답이 있어야 한다. 미응답이 있을 경우 해당 컬럼에 대한 정보가 없어 예측 시 컬럼이 존재 할 경우 알고리즘에 영향을 미친다. target_set미응답에 해당하는 레코드는 분할하여 존재하는 레코드만 활용하여 예측을 해야 정성있는 예측이 가능하다.\n",
    "\n",
    "__2. 결혼 유뮤에 따른 데이터 분류 분석__<br> \n",
    "- 결혼을 했다면 대부분의 사람들은 자산을 합치기 때문에 자산형성의 형태가 미혼인 사람들과 달라 동일 데이터로 분석을 한다면 서로 잡음으로 인식할 확률이 높다. <br> 실제로 분류하여 예측을 할 경우 정확도에 유의한 영향을 미친다.\n",
    "\n",
    "\n",
    "__3. outlier 전처리 & feature selection __<br>\n",
    "\n",
    "- 2-1 : 모집단을 평균으로 대체해도 무리가 없다는 가정하에 IQR을 이용한 6분위 분포를 생성 => entropy 정보를 확인한다.\n",
    "- 2-2 : 밀도있는 그룹을 찾는 방법 -> 각 금융 정보에 대하여<br><br>\n",
    "\n",
    "    - way1 : 수작업 -> 직업은 2번이면서 수입은 4번이고 아이는 2명 인 사람들 중에 해당 금융 정보(미리 지정하여 정의한)의 범위에 속한 그룹       - way2 : 확인 할 금융정보에 6분위 번호를 부여하여 기본속성의 분포가 가지는 특성을 파악하여 feature를 선택한다. \n",
    "    - way3 : 다변수 아노바를 활용.\n",
    "    \n",
    "__4. 모집단 DataSet을 완성 후 k-modes를 활용하여 군집 정보를 생성.__\n",
    "- 3-1 : 기본 정보만으로 그룹을 나눈다는 것은 무의미 하다. 기본 속성은 모두 동일 하더라도 금융 정보에 따라 가지는 특성은 충분히 달라 진다. MISSION에서 추가로 입력 받는 ASS_FIN, M_TOT_SAVING, TOT_SOBI 정보를 같이 고려 해야 한다. \n",
    "- 3-2 : Alternative Way => ASS_FIN, M_TOT_SAVING, TOT_SOBI예측 후 way 1,2,3과 같은 기본 속성의 조합  \n",
    "\n",
    "\n",
    "# ISSUE\n",
    "\n",
    "1. MARRY_Y == 1<br>\n",
    "    - 1-1 모집단 DataSet의 미혼이면서 DOULBL_IN, NUMCHILD가 NULL이 아닌 경우<br><br>\n",
    "        - train_set 578 row\n",
    "\n",
    "2. MARRY_Y ==2<br>\n",
    "    - 2-1 모집단 DataSet의 기혼이면서 NUMCHILD가 NULL인 경우.\n",
    "        - train_set 1212 row\n"
   ]
  },
  {
   "cell_type": "code",
   "execution_count": 1,
   "metadata": {},
   "outputs": [],
   "source": [
    "import pandas as pd\n",
    "import numpy as np\n",
    "import operator"
   ]
  },
  {
   "cell_type": "code",
   "execution_count": 2,
   "metadata": {},
   "outputs": [],
   "source": [
    "import matplotlib.pyplot as plt\n",
    "%matplotlib inline\n",
    "import seaborn as sns\n",
    "import warnings\n",
    "warnings.filterwarnings('ignore')"
   ]
  },
  {
   "cell_type": "code",
   "execution_count": 4,
   "metadata": {},
   "outputs": [],
   "source": [
    "data = pd.read_csv(\"20180811_DataSet.csv\")"
   ]
  },
  {
   "cell_type": "code",
   "execution_count": 5,
   "metadata": {},
   "outputs": [],
   "source": [
    "raw_d = pd.read_csv(\"20180811_DataSet.csv\")"
   ]
  },
  {
   "cell_type": "code",
   "execution_count": 6,
   "metadata": {},
   "outputs": [],
   "source": [
    "data_set = pd.read_csv(\"DataSet.csv\")"
   ]
  },
  {
   "cell_type": "code",
   "execution_count": 7,
   "metadata": {},
   "outputs": [],
   "source": [
    "raw =  pd.read_csv(\"DataSet.csv\")"
   ]
  },
  {
   "cell_type": "markdown",
   "metadata": {},
   "source": [
    "## 1. Explore data"
   ]
  },
  {
   "cell_type": "code",
   "execution_count": 8,
   "metadata": {},
   "outputs": [
    {
     "data": {
      "text/html": [
       "<div>\n",
       "<style scoped>\n",
       "    .dataframe tbody tr th:only-of-type {\n",
       "        vertical-align: middle;\n",
       "    }\n",
       "\n",
       "    .dataframe tbody tr th {\n",
       "        vertical-align: top;\n",
       "    }\n",
       "\n",
       "    .dataframe thead th {\n",
       "        text-align: right;\n",
       "    }\n",
       "</style>\n",
       "<table border=\"1\" class=\"dataframe\">\n",
       "  <thead>\n",
       "    <tr style=\"text-align: right;\">\n",
       "      <th></th>\n",
       "      <th>idx</th>\n",
       "      <th>SEX_GBN</th>\n",
       "      <th>AGE_GBN</th>\n",
       "      <th>JOB_GBN</th>\n",
       "      <th>ADD_GBN</th>\n",
       "      <th>INCOME_GBN</th>\n",
       "      <th>MARRY_Y</th>\n",
       "      <th>DOUBLE_IN</th>\n",
       "      <th>NUMCHILD</th>\n",
       "      <th>TOT_ASSET</th>\n",
       "      <th>...</th>\n",
       "      <th>D_JEONSEA</th>\n",
       "      <th>RETIRE_NEED</th>\n",
       "      <th>FOR_RETIRE</th>\n",
       "      <th>TOT_YEA</th>\n",
       "      <th>TOT_JEOK</th>\n",
       "      <th>TOT_CHUNG</th>\n",
       "      <th>TOT_FUND</th>\n",
       "      <th>TOT_ELS_ETE</th>\n",
       "      <th>TOT_SOBI</th>\n",
       "      <th>M_CRD_SPD</th>\n",
       "    </tr>\n",
       "  </thead>\n",
       "  <tbody>\n",
       "    <tr>\n",
       "      <th>0</th>\n",
       "      <td>5</td>\n",
       "      <td>1</td>\n",
       "      <td>2</td>\n",
       "      <td>2</td>\n",
       "      <td>4</td>\n",
       "      <td>2</td>\n",
       "      <td>1</td>\n",
       "      <td>NaN</td>\n",
       "      <td>NaN</td>\n",
       "      <td>2300</td>\n",
       "      <td>...</td>\n",
       "      <td>0</td>\n",
       "      <td>NaN</td>\n",
       "      <td>0</td>\n",
       "      <td>NaN</td>\n",
       "      <td>NaN</td>\n",
       "      <td>NaN</td>\n",
       "      <td>NaN</td>\n",
       "      <td>NaN</td>\n",
       "      <td>110</td>\n",
       "      <td>1437017</td>\n",
       "    </tr>\n",
       "    <tr>\n",
       "      <th>1</th>\n",
       "      <td>7</td>\n",
       "      <td>1</td>\n",
       "      <td>3</td>\n",
       "      <td>2</td>\n",
       "      <td>2</td>\n",
       "      <td>3</td>\n",
       "      <td>1</td>\n",
       "      <td>NaN</td>\n",
       "      <td>NaN</td>\n",
       "      <td>7500</td>\n",
       "      <td>...</td>\n",
       "      <td>0</td>\n",
       "      <td>NaN</td>\n",
       "      <td>30</td>\n",
       "      <td>2000.0</td>\n",
       "      <td>1000.0</td>\n",
       "      <td>800.0</td>\n",
       "      <td>NaN</td>\n",
       "      <td>NaN</td>\n",
       "      <td>104</td>\n",
       "      <td>3211358</td>\n",
       "    </tr>\n",
       "    <tr>\n",
       "      <th>2</th>\n",
       "      <td>9</td>\n",
       "      <td>2</td>\n",
       "      <td>3</td>\n",
       "      <td>2</td>\n",
       "      <td>2</td>\n",
       "      <td>6</td>\n",
       "      <td>2</td>\n",
       "      <td>2.0</td>\n",
       "      <td>1.0</td>\n",
       "      <td>41900</td>\n",
       "      <td>...</td>\n",
       "      <td>0</td>\n",
       "      <td>NaN</td>\n",
       "      <td>0</td>\n",
       "      <td>800.0</td>\n",
       "      <td>500.0</td>\n",
       "      <td>1200.0</td>\n",
       "      <td>NaN</td>\n",
       "      <td>NaN</td>\n",
       "      <td>300</td>\n",
       "      <td>2932871</td>\n",
       "    </tr>\n",
       "    <tr>\n",
       "      <th>3</th>\n",
       "      <td>10</td>\n",
       "      <td>1</td>\n",
       "      <td>5</td>\n",
       "      <td>2</td>\n",
       "      <td>4</td>\n",
       "      <td>6</td>\n",
       "      <td>2</td>\n",
       "      <td>1.0</td>\n",
       "      <td>3.0</td>\n",
       "      <td>123200</td>\n",
       "      <td>...</td>\n",
       "      <td>0</td>\n",
       "      <td>NaN</td>\n",
       "      <td>0</td>\n",
       "      <td>NaN</td>\n",
       "      <td>NaN</td>\n",
       "      <td>350.0</td>\n",
       "      <td>NaN</td>\n",
       "      <td>NaN</td>\n",
       "      <td>400</td>\n",
       "      <td>3106659</td>\n",
       "    </tr>\n",
       "    <tr>\n",
       "      <th>4</th>\n",
       "      <td>11</td>\n",
       "      <td>1</td>\n",
       "      <td>4</td>\n",
       "      <td>2</td>\n",
       "      <td>2</td>\n",
       "      <td>6</td>\n",
       "      <td>2</td>\n",
       "      <td>1.0</td>\n",
       "      <td>2.0</td>\n",
       "      <td>33500</td>\n",
       "      <td>...</td>\n",
       "      <td>0</td>\n",
       "      <td>200.0</td>\n",
       "      <td>0</td>\n",
       "      <td>NaN</td>\n",
       "      <td>NaN</td>\n",
       "      <td>NaN</td>\n",
       "      <td>NaN</td>\n",
       "      <td>NaN</td>\n",
       "      <td>350</td>\n",
       "      <td>3615840</td>\n",
       "    </tr>\n",
       "  </tbody>\n",
       "</table>\n",
       "<p>5 rows × 35 columns</p>\n",
       "</div>"
      ],
      "text/plain": [
       "   idx  SEX_GBN  AGE_GBN  JOB_GBN  ADD_GBN  INCOME_GBN  MARRY_Y  DOUBLE_IN  \\\n",
       "0    5        1        2        2        4           2        1        NaN   \n",
       "1    7        1        3        2        2           3        1        NaN   \n",
       "2    9        2        3        2        2           6        2        2.0   \n",
       "3   10        1        5        2        4           6        2        1.0   \n",
       "4   11        1        4        2        2           6        2        1.0   \n",
       "\n",
       "   NUMCHILD  TOT_ASSET    ...      D_JEONSEA  RETIRE_NEED  FOR_RETIRE  \\\n",
       "0       NaN       2300    ...              0          NaN           0   \n",
       "1       NaN       7500    ...              0          NaN          30   \n",
       "2       1.0      41900    ...              0          NaN           0   \n",
       "3       3.0     123200    ...              0          NaN           0   \n",
       "4       2.0      33500    ...              0        200.0           0   \n",
       "\n",
       "   TOT_YEA  TOT_JEOK  TOT_CHUNG  TOT_FUND  TOT_ELS_ETE  TOT_SOBI  M_CRD_SPD  \n",
       "0      NaN       NaN        NaN       NaN          NaN       110    1437017  \n",
       "1   2000.0    1000.0      800.0       NaN          NaN       104    3211358  \n",
       "2    800.0     500.0     1200.0       NaN          NaN       300    2932871  \n",
       "3      NaN       NaN      350.0       NaN          NaN       400    3106659  \n",
       "4      NaN       NaN        NaN       NaN          NaN       350    3615840  \n",
       "\n",
       "[5 rows x 35 columns]"
      ]
     },
     "execution_count": 8,
     "metadata": {},
     "output_type": "execute_result"
    }
   ],
   "source": [
    "data.head()"
   ]
  },
  {
   "cell_type": "code",
   "execution_count": 9,
   "metadata": {},
   "outputs": [],
   "source": [
    "data.drop('idx', inplace = True, axis = 1)"
   ]
  },
  {
   "cell_type": "markdown",
   "metadata": {},
   "source": [
    "### 1-1 basic info check "
   ]
  },
  {
   "cell_type": "code",
   "execution_count": 10,
   "metadata": {},
   "outputs": [
    {
     "data": {
      "text/plain": [
       "SEX_GBN          0\n",
       "AGE_GBN          0\n",
       "JOB_GBN          0\n",
       "ADD_GBN          0\n",
       "INCOME_GBN       0\n",
       "MARRY_Y          0\n",
       "DOUBLE_IN     6524\n",
       "NUMCHILD      7158\n",
       "TOT_ASSET        0\n",
       "dtype: int64"
      ]
     },
     "execution_count": 10,
     "metadata": {},
     "output_type": "execute_result"
    }
   ],
   "source": [
    "data.iloc[:,:9].apply(lambda x : x.isnull().sum())"
   ]
  },
  {
   "cell_type": "code",
   "execution_count": 11,
   "metadata": {},
   "outputs": [
    {
     "name": "stdout",
     "output_type": "stream",
     "text": [
      "DOUBLE_IN    6524\n",
      "NUMCHILD     5946\n",
      "dtype: int64\n",
      "미혼 인원 수 => 6524\n"
     ]
    }
   ],
   "source": [
    "print(data[data['MARRY_Y'] == 1][['DOUBLE_IN', 'NUMCHILD']].apply(lambda x : x.isnull().sum()))\n",
    "print('미혼 인원 수 =>' , len(data[data['MARRY_Y'] == 1]))"
   ]
  },
  {
   "cell_type": "code",
   "execution_count": 12,
   "metadata": {},
   "outputs": [
    {
     "data": {
      "text/plain": [
       "(578, 34)"
      ]
     },
     "execution_count": 12,
     "metadata": {},
     "output_type": "execute_result"
    }
   ],
   "source": [
    "data[(data['MARRY_Y'] == 1) & (data['NUMCHILD'].notnull())].shape"
   ]
  },
  {
   "cell_type": "code",
   "execution_count": 13,
   "metadata": {},
   "outputs": [
    {
     "data": {
      "text/html": [
       "<div>\n",
       "<style scoped>\n",
       "    .dataframe tbody tr th:only-of-type {\n",
       "        vertical-align: middle;\n",
       "    }\n",
       "\n",
       "    .dataframe tbody tr th {\n",
       "        vertical-align: top;\n",
       "    }\n",
       "\n",
       "    .dataframe thead th {\n",
       "        text-align: right;\n",
       "    }\n",
       "</style>\n",
       "<table border=\"1\" class=\"dataframe\">\n",
       "  <thead>\n",
       "    <tr style=\"text-align: right;\">\n",
       "      <th></th>\n",
       "      <th>SEX_GBN</th>\n",
       "      <th>AGE_GBN</th>\n",
       "      <th>JOB_GBN</th>\n",
       "      <th>ADD_GBN</th>\n",
       "      <th>INCOME_GBN</th>\n",
       "      <th>MARRY_Y</th>\n",
       "      <th>DOUBLE_IN</th>\n",
       "      <th>NUMCHILD</th>\n",
       "    </tr>\n",
       "  </thead>\n",
       "  <tbody>\n",
       "    <tr>\n",
       "      <th>1</th>\n",
       "      <td>289</td>\n",
       "      <td></td>\n",
       "      <td></td>\n",
       "      <td>18</td>\n",
       "      <td>22</td>\n",
       "      <td>578</td>\n",
       "      <td></td>\n",
       "      <td>211</td>\n",
       "    </tr>\n",
       "    <tr>\n",
       "      <th>2</th>\n",
       "      <td>289</td>\n",
       "      <td>8</td>\n",
       "      <td>193</td>\n",
       "      <td>97</td>\n",
       "      <td>133</td>\n",
       "      <td></td>\n",
       "      <td></td>\n",
       "      <td>320</td>\n",
       "    </tr>\n",
       "    <tr>\n",
       "      <th>3</th>\n",
       "      <td></td>\n",
       "      <td>41</td>\n",
       "      <td>29</td>\n",
       "      <td>142</td>\n",
       "      <td>151</td>\n",
       "      <td></td>\n",
       "      <td></td>\n",
       "      <td>47</td>\n",
       "    </tr>\n",
       "    <tr>\n",
       "      <th>4</th>\n",
       "      <td></td>\n",
       "      <td>164</td>\n",
       "      <td>16</td>\n",
       "      <td>141</td>\n",
       "      <td>123</td>\n",
       "      <td></td>\n",
       "      <td></td>\n",
       "      <td></td>\n",
       "    </tr>\n",
       "    <tr>\n",
       "      <th>5</th>\n",
       "      <td></td>\n",
       "      <td>307</td>\n",
       "      <td></td>\n",
       "      <td>180</td>\n",
       "      <td>57</td>\n",
       "      <td></td>\n",
       "      <td></td>\n",
       "      <td></td>\n",
       "    </tr>\n",
       "    <tr>\n",
       "      <th>6</th>\n",
       "      <td></td>\n",
       "      <td>58</td>\n",
       "      <td>11</td>\n",
       "      <td></td>\n",
       "      <td>61</td>\n",
       "      <td></td>\n",
       "      <td></td>\n",
       "      <td></td>\n",
       "    </tr>\n",
       "    <tr>\n",
       "      <th>7</th>\n",
       "      <td></td>\n",
       "      <td></td>\n",
       "      <td>58</td>\n",
       "      <td></td>\n",
       "      <td>31</td>\n",
       "      <td></td>\n",
       "      <td></td>\n",
       "      <td></td>\n",
       "    </tr>\n",
       "    <tr>\n",
       "      <th>8</th>\n",
       "      <td></td>\n",
       "      <td></td>\n",
       "      <td>69</td>\n",
       "      <td></td>\n",
       "      <td></td>\n",
       "      <td></td>\n",
       "      <td></td>\n",
       "      <td></td>\n",
       "    </tr>\n",
       "    <tr>\n",
       "      <th>9</th>\n",
       "      <td></td>\n",
       "      <td></td>\n",
       "      <td>103</td>\n",
       "      <td></td>\n",
       "      <td></td>\n",
       "      <td></td>\n",
       "      <td></td>\n",
       "      <td></td>\n",
       "    </tr>\n",
       "    <tr>\n",
       "      <th>10</th>\n",
       "      <td></td>\n",
       "      <td></td>\n",
       "      <td>70</td>\n",
       "      <td></td>\n",
       "      <td></td>\n",
       "      <td></td>\n",
       "      <td></td>\n",
       "      <td></td>\n",
       "    </tr>\n",
       "    <tr>\n",
       "      <th>11</th>\n",
       "      <td></td>\n",
       "      <td></td>\n",
       "      <td>29</td>\n",
       "      <td></td>\n",
       "      <td></td>\n",
       "      <td></td>\n",
       "      <td></td>\n",
       "      <td></td>\n",
       "    </tr>\n",
       "  </tbody>\n",
       "</table>\n",
       "</div>"
      ],
      "text/plain": [
       "   SEX_GBN AGE_GBN JOB_GBN ADD_GBN INCOME_GBN MARRY_Y DOUBLE_IN NUMCHILD\n",
       "1      289                      18         22     578                211\n",
       "2      289       8     193      97        133                        320\n",
       "3               41      29     142        151                         47\n",
       "4              164      16     141        123                           \n",
       "5              307             180         57                           \n",
       "6               58      11                 61                           \n",
       "7                       58                 31                           \n",
       "8                       69                                              \n",
       "9                      103                                              \n",
       "10                      70                                              \n",
       "11                      29                                              "
      ]
     },
     "execution_count": 13,
     "metadata": {},
     "output_type": "execute_result"
    }
   ],
   "source": [
    "data[(data['MARRY_Y'] == 1) & (data['NUMCHILD'].notnull())].iloc[:,:8].apply(lambda x: x.value_counts()).fillna(\"\")"
   ]
  },
  {
   "cell_type": "markdown",
   "metadata": {},
   "source": [
    "미혼 이면서 자녀가 있는 경우는 578명이 존재한다. \n",
    "40대 이상이 상당부분 차지하고 있다. "
   ]
  },
  {
   "cell_type": "code",
   "execution_count": 14,
   "metadata": {},
   "outputs": [
    {
     "data": {
      "text/plain": [
       "(1212, 34)"
      ]
     },
     "execution_count": 14,
     "metadata": {},
     "output_type": "execute_result"
    }
   ],
   "source": [
    "data[(data['MARRY_Y'] == 2) & (data['NUMCHILD'].isnull())].shape"
   ]
  },
  {
   "cell_type": "code",
   "execution_count": 15,
   "metadata": {},
   "outputs": [
    {
     "data": {
      "text/html": [
       "<div>\n",
       "<style scoped>\n",
       "    .dataframe tbody tr th:only-of-type {\n",
       "        vertical-align: middle;\n",
       "    }\n",
       "\n",
       "    .dataframe tbody tr th {\n",
       "        vertical-align: top;\n",
       "    }\n",
       "\n",
       "    .dataframe thead th {\n",
       "        text-align: right;\n",
       "    }\n",
       "</style>\n",
       "<table border=\"1\" class=\"dataframe\">\n",
       "  <thead>\n",
       "    <tr style=\"text-align: right;\">\n",
       "      <th></th>\n",
       "      <th>SEX_GBN</th>\n",
       "      <th>AGE_GBN</th>\n",
       "      <th>JOB_GBN</th>\n",
       "      <th>ADD_GBN</th>\n",
       "      <th>INCOME_GBN</th>\n",
       "      <th>MARRY_Y</th>\n",
       "      <th>DOUBLE_IN</th>\n",
       "      <th>NUMCHILD</th>\n",
       "    </tr>\n",
       "  </thead>\n",
       "  <tbody>\n",
       "    <tr>\n",
       "      <th>1</th>\n",
       "      <td>642</td>\n",
       "      <td></td>\n",
       "      <td></td>\n",
       "      <td>48</td>\n",
       "      <td>1</td>\n",
       "      <td></td>\n",
       "      <td>177</td>\n",
       "      <td></td>\n",
       "    </tr>\n",
       "    <tr>\n",
       "      <th>2</th>\n",
       "      <td>570</td>\n",
       "      <td>224</td>\n",
       "      <td>706</td>\n",
       "      <td>207</td>\n",
       "      <td>36</td>\n",
       "      <td>1212</td>\n",
       "      <td>1035</td>\n",
       "      <td></td>\n",
       "    </tr>\n",
       "    <tr>\n",
       "      <th>3</th>\n",
       "      <td></td>\n",
       "      <td>597</td>\n",
       "      <td>63</td>\n",
       "      <td>279</td>\n",
       "      <td>108</td>\n",
       "      <td></td>\n",
       "      <td></td>\n",
       "      <td></td>\n",
       "    </tr>\n",
       "    <tr>\n",
       "      <th>4</th>\n",
       "      <td></td>\n",
       "      <td>256</td>\n",
       "      <td>43</td>\n",
       "      <td>327</td>\n",
       "      <td>200</td>\n",
       "      <td></td>\n",
       "      <td></td>\n",
       "      <td></td>\n",
       "    </tr>\n",
       "    <tr>\n",
       "      <th>5</th>\n",
       "      <td></td>\n",
       "      <td>110</td>\n",
       "      <td></td>\n",
       "      <td>351</td>\n",
       "      <td>335</td>\n",
       "      <td></td>\n",
       "      <td></td>\n",
       "      <td></td>\n",
       "    </tr>\n",
       "    <tr>\n",
       "      <th>6</th>\n",
       "      <td></td>\n",
       "      <td>25</td>\n",
       "      <td>20</td>\n",
       "      <td></td>\n",
       "      <td>403</td>\n",
       "      <td></td>\n",
       "      <td></td>\n",
       "      <td></td>\n",
       "    </tr>\n",
       "    <tr>\n",
       "      <th>7</th>\n",
       "      <td></td>\n",
       "      <td></td>\n",
       "      <td>49</td>\n",
       "      <td></td>\n",
       "      <td>129</td>\n",
       "      <td></td>\n",
       "      <td></td>\n",
       "      <td></td>\n",
       "    </tr>\n",
       "    <tr>\n",
       "      <th>8</th>\n",
       "      <td></td>\n",
       "      <td></td>\n",
       "      <td>82</td>\n",
       "      <td></td>\n",
       "      <td></td>\n",
       "      <td></td>\n",
       "      <td></td>\n",
       "      <td></td>\n",
       "    </tr>\n",
       "    <tr>\n",
       "      <th>9</th>\n",
       "      <td></td>\n",
       "      <td></td>\n",
       "      <td>134</td>\n",
       "      <td></td>\n",
       "      <td></td>\n",
       "      <td></td>\n",
       "      <td></td>\n",
       "      <td></td>\n",
       "    </tr>\n",
       "    <tr>\n",
       "      <th>10</th>\n",
       "      <td></td>\n",
       "      <td></td>\n",
       "      <td>87</td>\n",
       "      <td></td>\n",
       "      <td></td>\n",
       "      <td></td>\n",
       "      <td></td>\n",
       "      <td></td>\n",
       "    </tr>\n",
       "    <tr>\n",
       "      <th>11</th>\n",
       "      <td></td>\n",
       "      <td></td>\n",
       "      <td>28</td>\n",
       "      <td></td>\n",
       "      <td></td>\n",
       "      <td></td>\n",
       "      <td></td>\n",
       "      <td></td>\n",
       "    </tr>\n",
       "  </tbody>\n",
       "</table>\n",
       "</div>"
      ],
      "text/plain": [
       "   SEX_GBN AGE_GBN JOB_GBN ADD_GBN INCOME_GBN MARRY_Y DOUBLE_IN NUMCHILD\n",
       "1      642                      48          1               177         \n",
       "2      570     224     706     207         36    1212      1035         \n",
       "3              597      63     279        108                           \n",
       "4              256      43     327        200                           \n",
       "5              110             351        335                           \n",
       "6               25      20                403                           \n",
       "7                       49                129                           \n",
       "8                       82                                              \n",
       "9                      134                                              \n",
       "10                      87                                              \n",
       "11                      28                                              "
      ]
     },
     "execution_count": 15,
     "metadata": {},
     "output_type": "execute_result"
    }
   ],
   "source": [
    "data[(data['MARRY_Y'] == 2) & (data['NUMCHILD'].isnull())].iloc[:,:8].apply(lambda x: x.value_counts()).fillna(\"\")"
   ]
  },
  {
   "cell_type": "markdown",
   "metadata": {},
   "source": [
    "설문에  응답할 의무가 있어 기혼인 경우에는 NUMCHILD에 NULL값이 없어야 하나 1212명이 존재 한다. \n",
    "<br>20~30대가 많고 40대 이상도 약 400명이 있다.\n",
    "<br>자녀 0명으로 대체 한다.\n",
    "___"
   ]
  },
  {
   "cell_type": "markdown",
   "metadata": {},
   "source": [
    "### 1-2 financial info check "
   ]
  },
  {
   "cell_type": "code",
   "execution_count": 16,
   "metadata": {},
   "outputs": [
    {
     "data": {
      "image/png": "[encoded data removed]",
      "text/plain": [
       "<matplotlib.figure.Figure at 0x1c7f81cb710>"
      ]
     },
     "metadata": {},
     "output_type": "display_data"
    }
   ],
   "source": [
    "plt.figure(figsize=(20,20))\n",
    "for i in range(len(data.iloc[:,8:].columns) ):\n",
    "        plt.subplot(5,6,i + 1)\n",
    "        sns.distplot(np.log1p(data[data.iloc[:,8:].columns[i]].fillna(0)))    \n",
    "plt.show()"
   ]
  },
  {
   "cell_type": "code",
   "execution_count": 17,
   "metadata": {},
   "outputs": [],
   "source": [
    "all_na = pd.DataFrame({'NA_Ratio' : data.iloc[:,8:].apply(lambda x : sum(x.fillna(0) == 0) / len(data.iloc[:,1]) * 100)}).sort_values(by = 'NA_Ratio', ascending = True)"
   ]
  },
  {
   "cell_type": "code",
   "execution_count": 18,
   "metadata": {
    "scrolled": true
   },
   "outputs": [
    {
     "data": {
      "text/html": [
       "<div>\n",
       "<style scoped>\n",
       "    .dataframe tbody tr th:only-of-type {\n",
       "        vertical-align: middle;\n",
       "    }\n",
       "\n",
       "    .dataframe tbody tr th {\n",
       "        vertical-align: top;\n",
       "    }\n",
       "\n",
       "    .dataframe thead th {\n",
       "        text-align: right;\n",
       "    }\n",
       "</style>\n",
       "<table border=\"1\" class=\"dataframe\">\n",
       "  <thead>\n",
       "    <tr style=\"text-align: right;\">\n",
       "      <th></th>\n",
       "      <th>NA_Ratio</th>\n",
       "    </tr>\n",
       "  </thead>\n",
       "  <tbody>\n",
       "    <tr>\n",
       "      <th>TOT_ASSET</th>\n",
       "      <td>0.000000</td>\n",
       "    </tr>\n",
       "    <tr>\n",
       "      <th>TOT_SOBI</th>\n",
       "      <td>0.000000</td>\n",
       "    </tr>\n",
       "    <tr>\n",
       "      <th>M_TOT_SAVING</th>\n",
       "      <td>0.000000</td>\n",
       "    </tr>\n",
       "    <tr>\n",
       "      <th>M_CRD_SPD</th>\n",
       "      <td>0.000000</td>\n",
       "    </tr>\n",
       "    <tr>\n",
       "      <th>ASS_FIN</th>\n",
       "      <td>0.000000</td>\n",
       "    </tr>\n",
       "    <tr>\n",
       "      <th>ASS_ETC</th>\n",
       "      <td>11.120871</td>\n",
       "    </tr>\n",
       "    <tr>\n",
       "      <th>ASS_REAL</th>\n",
       "      <td>22.148044</td>\n",
       "    </tr>\n",
       "    <tr>\n",
       "      <th>TOT_DEBT</th>\n",
       "      <td>41.584680</td>\n",
       "    </tr>\n",
       "    <tr>\n",
       "      <th>TOT_JEOK</th>\n",
       "      <td>51.985242</td>\n",
       "    </tr>\n",
       "    <tr>\n",
       "      <th>FOR_RETIRE</th>\n",
       "      <td>54.491684</td>\n",
       "    </tr>\n",
       "    <tr>\n",
       "      <th>CHUNG_Y</th>\n",
       "      <td>55.926446</td>\n",
       "    </tr>\n",
       "    <tr>\n",
       "      <th>TOT_CHUNG</th>\n",
       "      <td>55.926446</td>\n",
       "    </tr>\n",
       "    <tr>\n",
       "      <th>M_JEOK</th>\n",
       "      <td>56.412509</td>\n",
       "    </tr>\n",
       "    <tr>\n",
       "      <th>TOT_YEA</th>\n",
       "      <td>60.382994</td>\n",
       "    </tr>\n",
       "    <tr>\n",
       "      <th>M_CHUNG</th>\n",
       "      <td>66.209885</td>\n",
       "    </tr>\n",
       "    <tr>\n",
       "      <th>D_DAMBO</th>\n",
       "      <td>67.562661</td>\n",
       "    </tr>\n",
       "    <tr>\n",
       "      <th>RETIRE_NEED</th>\n",
       "      <td>68.728039</td>\n",
       "    </tr>\n",
       "    <tr>\n",
       "      <th>M_SAVING_INSUR</th>\n",
       "      <td>69.782150</td>\n",
       "    </tr>\n",
       "    <tr>\n",
       "      <th>D_JUTEAKDAMBO</th>\n",
       "      <td>73.020614</td>\n",
       "    </tr>\n",
       "    <tr>\n",
       "      <th>TOT_FUND</th>\n",
       "      <td>83.374327</td>\n",
       "    </tr>\n",
       "    <tr>\n",
       "      <th>D_SHINYONG</th>\n",
       "      <td>86.554228</td>\n",
       "    </tr>\n",
       "    <tr>\n",
       "      <th>M_FUND_STOCK</th>\n",
       "      <td>88.205669</td>\n",
       "    </tr>\n",
       "    <tr>\n",
       "      <th>M_FUND</th>\n",
       "      <td>90.788241</td>\n",
       "    </tr>\n",
       "    <tr>\n",
       "      <th>D_JEONSEA</th>\n",
       "      <td>91.900914</td>\n",
       "    </tr>\n",
       "    <tr>\n",
       "      <th>TOT_ELS_ETE</th>\n",
       "      <td>96.468728</td>\n",
       "    </tr>\n",
       "    <tr>\n",
       "      <th>M_STOCK</th>\n",
       "      <td>96.509721</td>\n",
       "    </tr>\n",
       "  </tbody>\n",
       "</table>\n",
       "</div>"
      ],
      "text/plain": [
       "                 NA_Ratio\n",
       "TOT_ASSET        0.000000\n",
       "TOT_SOBI         0.000000\n",
       "M_TOT_SAVING     0.000000\n",
       "M_CRD_SPD        0.000000\n",
       "ASS_FIN          0.000000\n",
       "ASS_ETC         11.120871\n",
       "ASS_REAL        22.148044\n",
       "TOT_DEBT        41.584680\n",
       "TOT_JEOK        51.985242\n",
       "FOR_RETIRE      54.491684\n",
       "CHUNG_Y         55.926446\n",
       "TOT_CHUNG       55.926446\n",
       "M_JEOK          56.412509\n",
       "TOT_YEA         60.382994\n",
       "M_CHUNG         66.209885\n",
       "D_DAMBO         67.562661\n",
       "RETIRE_NEED     68.728039\n",
       "M_SAVING_INSUR  69.782150\n",
       "D_JUTEAKDAMBO   73.020614\n",
       "TOT_FUND        83.374327\n",
       "D_SHINYONG      86.554228\n",
       "M_FUND_STOCK    88.205669\n",
       "M_FUND          90.788241\n",
       "D_JEONSEA       91.900914\n",
       "TOT_ELS_ETE     96.468728\n",
       "M_STOCK         96.509721"
      ]
     },
     "execution_count": 18,
     "metadata": {},
     "output_type": "execute_result"
    }
   ],
   "source": [
    "all_na"
   ]
  },
  {
   "cell_type": "markdown",
   "metadata": {},
   "source": [
    "___"
   ]
  },
  {
   "cell_type": "markdown",
   "metadata": {},
   "source": [
    "### 1-3 TOT_SOBI, M_TOT_SAVING, ASS_FIN \n",
    "#### 기본 정보 분포 확인"
   ]
  },
  {
   "cell_type": "code",
   "execution_count": 19,
   "metadata": {},
   "outputs": [
    {
     "data": {
      "image/png": "[encoded data removed]",
      "text/plain": [
       "<matplotlib.figure.Figure at 0x1c7f8724438>"
      ]
     },
     "metadata": {},
     "output_type": "display_data"
    }
   ],
   "source": [
    "plt.figure(figsize=(20,10))\n",
    "for i in range(len(data.iloc[:,:8].columns) ):\n",
    "        plt.subplot(2,4,i + 1)\n",
    "        sns.boxplot(x=data.iloc[:,:8].columns[i], y='TOT_SOBI', data=data)\n",
    "plt.show()"
   ]
  },
  {
   "cell_type": "code",
   "execution_count": 20,
   "metadata": {},
   "outputs": [
    {
     "data": {
      "image/png": "[encoded data removed]",
      "text/plain": [
       "<matplotlib.figure.Figure at 0x1c7fb3f78d0>"
      ]
     },
     "metadata": {},
     "output_type": "display_data"
    }
   ],
   "source": [
    "plt.figure(figsize=(20,10))\n",
    "for i in range(len(data.iloc[:,:8].columns) ):\n",
    "        plt.subplot(2,4,i + 1)\n",
    "        sns.boxplot(x=data.iloc[:,:8].columns[i], y='M_TOT_SAVING', data=data)\n",
    "plt.show()"
   ]
  },
  {
   "cell_type": "code",
   "execution_count": 21,
   "metadata": {},
   "outputs": [
    {
     "data": {
      "image/png": "[encoded data removed]",
      "text/plain": [
       "<matplotlib.figure.Figure at 0x1c7fb486128>"
      ]
     },
     "metadata": {},
     "output_type": "display_data"
    }
   ],
   "source": [
    "plt.figure(figsize=(20,10))\n",
    "for i in range(len(data.iloc[:,:8].columns) ):\n",
    "        plt.subplot(2,4,i + 1)\n",
    "        sns.boxplot(x=data.iloc[:,:8].columns[i], y='ASS_FIN', data=data)\n",
    "plt.show()"
   ]
  },
  {
   "cell_type": "markdown",
   "metadata": {},
   "source": [
    "___"
   ]
  },
  {
   "cell_type": "markdown",
   "metadata": {},
   "source": [
    "# 2. Feature Engineering & Selection"
   ]
  },
  {
   "cell_type": "code",
   "execution_count": 22,
   "metadata": {},
   "outputs": [],
   "source": [
    "import math\n",
    "import copy"
   ]
  },
  {
   "cell_type": "code",
   "execution_count": 23,
   "metadata": {},
   "outputs": [],
   "source": [
    "def sep6_percentile(data, col, name = 'GROUP_1'):\n",
    "    \n",
    "    qt = list(data[col].describe()[3:8])\n",
    "    IQR1_5 = qt[3] + ((qt[3] - qt[1]) * 1.5) ; qt.insert(-1, IQR1_5)\n",
    "    IQR3 = qt[3] + ((qt[3] - qt[1]) * 3); qt.insert(-1, IQR3)\n",
    "\n",
    "    for i in range(len(qt) - 1):\n",
    "        idx = list(data[data[col].between(qt[i], qt[i+1], inclusive=True)].index)\n",
    "        data.loc[np.array(idx), name] = i+1 \n",
    "    data[name] = data[name].astype(int)\n",
    "    return data"
   ]
  },
  {
   "cell_type": "code",
   "execution_count": 24,
   "metadata": {},
   "outputs": [],
   "source": [
    "def get_entropy(data, col):\n",
    "    set_col = list(set(data[col]))\n",
    "    set_col.sort()\n",
    "    print(set_col)\n",
    "    for i in set_col:\n",
    "        a = data[data[col] == i].iloc[:,:8].apply(lambda x : x.value_counts()).fillna(0)\n",
    "            \n",
    "        group_cnt = sum(a.iloc[:,1].values[np.where(a.iloc[:,1].values !=0)])\n",
    "        \n",
    "        if col in a.columns:\n",
    "            search_col = a.columns.drop(col)\n",
    "        else : \n",
    "            search_col = a.columns    \n",
    "        \n",
    "        print('\\n')\n",
    "        print(col + '_' + str(i))\n",
    "        for j in search_col:\n",
    "            wh = np.where(a[j].values in a[j].values !=0 )\n",
    "            \n",
    "            for_ent = 0\n",
    "        \n",
    "            for k in range(len(wh)):\n",
    "                for_ent += -(a[j].values[wh[0][k]] / group_cnt * math.log(a[j].values[wh[0][k]] / group_cnt,2))\n",
    "            print(j, '=>', '[',round(for_ent,4),']', end=' ')"
   ]
  },
  {
   "cell_type": "code",
   "execution_count": 25,
   "metadata": {},
   "outputs": [],
   "source": [
    "#미응답은 4로 통일\n",
    "data.loc[(data['MARRY_Y'] == 2) & (data['NUMCHILD'].isnull()), 'NUMCHILD'] = 0\n",
    "#data.drop('idx', inplace = True , axis = 1)\n",
    "data.iloc[:,:8] = data.iloc[:,:8].fillna(4)\n",
    "data_set.iloc[:,1:9] = data_set.iloc[:,1:9].fillna(4) "
   ]
  },
  {
   "cell_type": "markdown",
   "metadata": {},
   "source": [
    "### 2-1 자본 컬럼 추가\n",
    "- 자산(TOT_ASSET) = 자본(TOT_CAPITAL) + 부채(TOT_DEBT)"
   ]
  },
  {
   "cell_type": "code",
   "execution_count": 26,
   "metadata": {},
   "outputs": [
    {
     "data": {
      "text/html": [
       "<div>\n",
       "<style scoped>\n",
       "    .dataframe tbody tr th:only-of-type {\n",
       "        vertical-align: middle;\n",
       "    }\n",
       "\n",
       "    .dataframe tbody tr th {\n",
       "        vertical-align: top;\n",
       "    }\n",
       "\n",
       "    .dataframe thead th {\n",
       "        text-align: right;\n",
       "    }\n",
       "</style>\n",
       "<table border=\"1\" class=\"dataframe\">\n",
       "  <thead>\n",
       "    <tr style=\"text-align: right;\">\n",
       "      <th></th>\n",
       "      <th>INCOME_GBN</th>\n",
       "      <th>TOT_CAPITAL</th>\n",
       "    </tr>\n",
       "  </thead>\n",
       "  <tbody>\n",
       "    <tr>\n",
       "      <th>6</th>\n",
       "      <td>7</td>\n",
       "      <td>67010.830595</td>\n",
       "    </tr>\n",
       "    <tr>\n",
       "      <th>5</th>\n",
       "      <td>6</td>\n",
       "      <td>37340.072236</td>\n",
       "    </tr>\n",
       "    <tr>\n",
       "      <th>4</th>\n",
       "      <td>5</td>\n",
       "      <td>26970.112189</td>\n",
       "    </tr>\n",
       "    <tr>\n",
       "      <th>3</th>\n",
       "      <td>4</td>\n",
       "      <td>18639.029467</td>\n",
       "    </tr>\n",
       "    <tr>\n",
       "      <th>2</th>\n",
       "      <td>3</td>\n",
       "      <td>10569.464779</td>\n",
       "    </tr>\n",
       "    <tr>\n",
       "      <th>1</th>\n",
       "      <td>2</td>\n",
       "      <td>5347.356797</td>\n",
       "    </tr>\n",
       "    <tr>\n",
       "      <th>0</th>\n",
       "      <td>1</td>\n",
       "      <td>4880.621560</td>\n",
       "    </tr>\n",
       "  </tbody>\n",
       "</table>\n",
       "</div>"
      ],
      "text/plain": [
       "   INCOME_GBN   TOT_CAPITAL\n",
       "6           7  67010.830595\n",
       "5           6  37340.072236\n",
       "4           5  26970.112189\n",
       "3           4  18639.029467\n",
       "2           3  10569.464779\n",
       "1           2   5347.356797\n",
       "0           1   4880.621560"
      ]
     },
     "execution_count": 26,
     "metadata": {},
     "output_type": "execute_result"
    }
   ],
   "source": [
    "data['TOT_CAPITAL'] = data['TOT_ASSET'] - data['TOT_DEBT']\n",
    "data[['INCOME_GBN', 'TOT_CAPITAL']].groupby('INCOME_GBN', as_index=False).mean().sort_values('TOT_CAPITAL', ascending=False)"
   ]
  },
  {
   "cell_type": "code",
   "execution_count": 27,
   "metadata": {},
   "outputs": [
    {
     "data": {
      "text/plain": [
       "count     17076.000000\n",
       "mean      28425.191848\n",
       "std       37156.941758\n",
       "min      -48948.000000\n",
       "25%        4420.000000\n",
       "50%       16700.000000\n",
       "75%       37900.000000\n",
       "max      415300.000000\n",
       "Name: TOT_CAPITAL, dtype: float64"
      ]
     },
     "execution_count": 27,
     "metadata": {},
     "output_type": "execute_result"
    }
   ],
   "source": [
    "data['TOT_CAPITAL'].describe()"
   ]
  },
  {
   "cell_type": "markdown",
   "metadata": {},
   "source": [
    "### 2-2 예측변수 6분위 분포에 따른 기본 속성 엔트로피 확인"
   ]
  },
  {
   "cell_type": "markdown",
   "metadata": {},
   "source": [
    "###### TOT_CAPITAL"
   ]
  },
  {
   "cell_type": "code",
   "execution_count": 28,
   "metadata": {
    "scrolled": true
   },
   "outputs": [],
   "source": [
    "gr_data = sep6_percentile(data, 'TOT_CAPITAL')"
   ]
  },
  {
   "cell_type": "code",
   "execution_count": 29,
   "metadata": {},
   "outputs": [
    {
     "name": "stdout",
     "output_type": "stream",
     "text": [
      "[1, 2, 3, 4, 5, 6]\n",
      "\n",
      "\n",
      "GROUP_1_1\n",
      "SEX_GBN => [ 0.4861 ] AGE_GBN => [ 0.5137 ] JOB_GBN => [ 0.5115 ] ADD_GBN => [ 0.1501 ] INCOME_GBN => [ 0.2851 ] MARRY_Y => [ 0.3087 ] DOUBLE_IN => [ 0.2104 ] NUMCHILD => [ 0.2013 ] \n",
      "\n",
      "GROUP_1_2\n",
      "SEX_GBN => [ 0.4612 ] AGE_GBN => [ 0.476 ] JOB_GBN => [ 0.4953 ] ADD_GBN => [ 0.1442 ] INCOME_GBN => [ 0.0995 ] MARRY_Y => [ 0.5125 ] DOUBLE_IN => [ 0.3382 ] NUMCHILD => [ 0.333 ] \n",
      "\n",
      "GROUP_1_3\n",
      "SEX_GBN => [ 0.4248 ] AGE_GBN => [ 0.2552 ] JOB_GBN => [ 0.4938 ] ADD_GBN => [ 0.1549 ] INCOME_GBN => [ 0.0434 ] MARRY_Y => [ 0.4468 ] DOUBLE_IN => [ 0.4285 ] NUMCHILD => [ 0.3174 ] \n",
      "\n",
      "GROUP_1_4\n",
      "SEX_GBN => [ 0.4208 ] AGE_GBN => [ 0.197 ] JOB_GBN => [ 0.4872 ] ADD_GBN => [ 0.2254 ] INCOME_GBN => [ 0.0217 ] MARRY_Y => [ 0.3809 ] DOUBLE_IN => [ 0.4622 ] NUMCHILD => [ 0.2237 ] \n",
      "\n",
      "GROUP_1_5\n",
      "SEX_GBN => [ 0.3937 ] AGE_GBN => [ 0.1646 ] JOB_GBN => [ 0.4728 ] ADD_GBN => [ 0.3956 ] INCOME_GBN => [ 0.0246 ] MARRY_Y => [ 0.3572 ] DOUBLE_IN => [ 0.4684 ] NUMCHILD => [ 0.1646 ] \n",
      "\n",
      "GROUP_1_6\n",
      "SEX_GBN => [ 0.3964 ] AGE_GBN => [ 0.2236 ] JOB_GBN => [ 0.5133 ] ADD_GBN => [ 0.5044 ] INCOME_GBN => [ 0.0383 ] MARRY_Y => [ 0.3869 ] DOUBLE_IN => [ 0.467 ] NUMCHILD => [ 0.0911 ] "
     ]
    }
   ],
   "source": [
    "get_entropy(gr_data, 'GROUP_1')"
   ]
  },
  {
   "cell_type": "markdown",
   "metadata": {},
   "source": [
    "GOOD => INCOME_GBN, AGE_GBN, ADD_GBN<br>BAD => SEX_GBN, JOB_GBN\n",
    "___"
   ]
  },
  {
   "cell_type": "markdown",
   "metadata": {},
   "source": [
    "###### ASS_FIN"
   ]
  },
  {
   "cell_type": "code",
   "execution_count": 30,
   "metadata": {},
   "outputs": [],
   "source": [
    "gr_Asset = sep6_percentile(data, 'ASS_FIN')"
   ]
  },
  {
   "cell_type": "code",
   "execution_count": 31,
   "metadata": {},
   "outputs": [
    {
     "name": "stdout",
     "output_type": "stream",
     "text": [
      "[1, 2, 3, 4, 5, 6]\n",
      "\n",
      "\n",
      "GROUP_1_1\n",
      "SEX_GBN => [ 0.4281 ] AGE_GBN => [ 0.5282 ] JOB_GBN => [ 0.5232 ] ADD_GBN => [ 0.1558 ] INCOME_GBN => [ 0.2807 ] MARRY_Y => [ 0.4867 ] DOUBLE_IN => [ 0.3303 ] NUMCHILD => [ 0.2586 ] \n",
      "\n",
      "GROUP_1_2\n",
      "SEX_GBN => [ 0.4657 ] AGE_GBN => [ 0.508 ] JOB_GBN => [ 0.498 ] ADD_GBN => [ 0.1648 ] INCOME_GBN => [ 0.113 ] MARRY_Y => [ 0.5199 ] DOUBLE_IN => [ 0.3482 ] NUMCHILD => [ 0.2943 ] \n",
      "\n",
      "GROUP_1_3\n",
      "SEX_GBN => [ 0.4682 ] AGE_GBN => [ 0.4079 ] JOB_GBN => [ 0.4771 ] ADD_GBN => [ 0.1923 ] INCOME_GBN => [ 0.036 ] MARRY_Y => [ 0.5291 ] DOUBLE_IN => [ 0.3764 ] NUMCHILD => [ 0.2924 ] \n",
      "\n",
      "GROUP_1_4\n",
      "SEX_GBN => [ 0.4461 ] AGE_GBN => [ 0.2222 ] JOB_GBN => [ 0.4769 ] ADD_GBN => [ 0.2388 ] INCOME_GBN => [ 0.0379 ] MARRY_Y => [ 0.4963 ] DOUBLE_IN => [ 0.426 ] NUMCHILD => [ 0.2546 ] \n",
      "\n",
      "GROUP_1_5\n",
      "SEX_GBN => [ 0.4228 ] AGE_GBN => [ 0.1735 ] JOB_GBN => [ 0.4848 ] ADD_GBN => [ 0.2435 ] INCOME_GBN => [ 0.0121 ] MARRY_Y => [ 0.4479 ] DOUBLE_IN => [ 0.4768 ] NUMCHILD => [ 0.2125 ] \n",
      "\n",
      "GROUP_1_6\n",
      "SEX_GBN => [ 0.3711 ] AGE_GBN => [ 0.1597 ] JOB_GBN => [ 0.4971 ] ADD_GBN => [ 0.3346 ] INCOME_GBN => [ 0.056 ] MARRY_Y => [ 0.4594 ] DOUBLE_IN => [ 0.4676 ] NUMCHILD => [ 0.1754 ] "
     ]
    }
   ],
   "source": [
    "get_entropy(gr_Asset, 'GROUP_1')"
   ]
  },
  {
   "cell_type": "markdown",
   "metadata": {},
   "source": [
    "GOOD => INCOME_GBN, AGE_GBN, ADD_GBN, NUMCHILD<br>BAD => MARRY_Y, JOB_GBN, SEX_GBN\n",
    "___"
   ]
  },
  {
   "cell_type": "markdown",
   "metadata": {},
   "source": [
    "###### M_TOT_SAVING"
   ]
  },
  {
   "cell_type": "code",
   "execution_count": 32,
   "metadata": {},
   "outputs": [],
   "source": [
    "gr_MSaving = sep6_percentile(data, 'M_TOT_SAVING')"
   ]
  },
  {
   "cell_type": "code",
   "execution_count": 33,
   "metadata": {},
   "outputs": [
    {
     "name": "stdout",
     "output_type": "stream",
     "text": [
      "[1, 2, 3, 4, 5, 6]\n",
      "\n",
      "\n",
      "GROUP_1_1\n",
      "SEX_GBN => [ 0.4288 ] AGE_GBN => [ 0.5161 ] JOB_GBN => [ 0.529 ] ADD_GBN => [ 0.1544 ] INCOME_GBN => [ 0.3263 ] MARRY_Y => [ 0.4918 ] DOUBLE_IN => [ 0.3795 ] NUMCHILD => [ 0.2277 ] \n",
      "\n",
      "GROUP_1_2\n",
      "SEX_GBN => [ 0.4391 ] AGE_GBN => [ 0.4615 ] JOB_GBN => [ 0.499 ] ADD_GBN => [ 0.1658 ] INCOME_GBN => [ 0.0841 ] MARRY_Y => [ 0.5278 ] DOUBLE_IN => [ 0.3967 ] NUMCHILD => [ 0.2537 ] \n",
      "\n",
      "GROUP_1_3\n",
      "SEX_GBN => [ 0.4638 ] AGE_GBN => [ 0.4694 ] JOB_GBN => [ 0.4678 ] ADD_GBN => [ 0.2039 ] INCOME_GBN => [ 0.007 ] MARRY_Y => [ 0.5304 ] DOUBLE_IN => [ 0.3744 ] NUMCHILD => [ 0.2715 ] \n",
      "\n",
      "GROUP_1_4\n",
      "SEX_GBN => [ 0.4559 ] AGE_GBN => [ 0.3756 ] JOB_GBN => [ 0.4706 ] ADD_GBN => [ 0.2236 ] INCOME_GBN => [ 0.0038 ] MARRY_Y => [ 0.5124 ] DOUBLE_IN => [ 0.372 ] NUMCHILD => [ 0.3035 ] \n",
      "\n",
      "GROUP_1_5\n",
      "SEX_GBN => [ 0.4749 ] AGE_GBN => [ 0.2153 ] JOB_GBN => [ 0.4925 ] ADD_GBN => [ 0.2954 ] INCOME_GBN => [ 0.0109 ] MARRY_Y => [ 0.3642 ] DOUBLE_IN => [ 0.3865 ] NUMCHILD => [ 0.3782 ] \n",
      "\n",
      "GROUP_1_6\n",
      "SEX_GBN => [ 0.443 ] AGE_GBN => [ 0.3328 ] JOB_GBN => [ 0.4993 ] ADD_GBN => [ 0.3439 ] INCOME_GBN => [ 0.0254 ] MARRY_Y => [ 0.4537 ] DOUBLE_IN => [ 0.3151 ] NUMCHILD => [ 0.2683 ] "
     ]
    }
   ],
   "source": [
    "get_entropy(gr_MSaving, 'GROUP_1')"
   ]
  },
  {
   "cell_type": "markdown",
   "metadata": {},
   "source": [
    "GOOD => INCOME_GBN, ADD_GBN, NUMCHILD, DOUBLE_IN<br>BAD => MARRY_Y, JOB_GBN, SEX_GBN\n",
    "___"
   ]
  },
  {
   "cell_type": "markdown",
   "metadata": {},
   "source": [
    "###### TOT_SOBI"
   ]
  },
  {
   "cell_type": "code",
   "execution_count": 34,
   "metadata": {},
   "outputs": [],
   "source": [
    "gr_sobi = sep6_percentile(data, 'TOT_SOBI')"
   ]
  },
  {
   "cell_type": "code",
   "execution_count": 35,
   "metadata": {},
   "outputs": [
    {
     "name": "stdout",
     "output_type": "stream",
     "text": [
      "[1, 2, 3, 4, 5, 6]\n",
      "\n",
      "\n",
      "GROUP_1_1\n",
      "SEX_GBN => [ 0.4952 ] AGE_GBN => [ 0.5071 ] JOB_GBN => [ 0.5153 ] ADD_GBN => [ 0.1564 ] INCOME_GBN => [ 0.3739 ] MARRY_Y => [ 0.2607 ] DOUBLE_IN => [ 0.1857 ] NUMCHILD => [ 0.1894 ] \n",
      "\n",
      "GROUP_1_2\n",
      "SEX_GBN => [ 0.4605 ] AGE_GBN => [ 0.5059 ] JOB_GBN => [ 0.4933 ] ADD_GBN => [ 0.175 ] INCOME_GBN => [ 0.0124 ] MARRY_Y => [ 0.4698 ] DOUBLE_IN => [ 0.3322 ] NUMCHILD => [ 0.3142 ] \n",
      "\n",
      "GROUP_1_3\n",
      "SEX_GBN => [ 0.4342 ] AGE_GBN => [ 0.2867 ] JOB_GBN => [ 0.5034 ] ADD_GBN => [ 0.1765 ] INCOME_GBN => [ 0.0171 ] MARRY_Y => [ 0.4638 ] DOUBLE_IN => [ 0.436 ] NUMCHILD => [ 0.3361 ] \n",
      "\n",
      "GROUP_1_4\n",
      "SEX_GBN => [ 0.4138 ] AGE_GBN => [ 0.1699 ] JOB_GBN => [ 0.4799 ] ADD_GBN => [ 0.2364 ] INCOME_GBN => [ 0.0026 ] MARRY_Y => [ 0.2962 ] DOUBLE_IN => [ 0.4452 ] NUMCHILD => [ 0.2254 ] \n",
      "\n",
      "GROUP_1_5\n",
      "SEX_GBN => [ 0.364 ] AGE_GBN => [ 0.0774 ] JOB_GBN => [ 0.495 ] ADD_GBN => [ 0.3224 ] INCOME_GBN => [ 0.0211 ] MARRY_Y => [ 0.2328 ] DOUBLE_IN => [ 0.4702 ] NUMCHILD => [ 0.1576 ] \n",
      "\n",
      "GROUP_1_6\n",
      "SEX_GBN => [ 0.3482 ] AGE_GBN => [ 0.3439 ] JOB_GBN => [ 0.5303 ] ADD_GBN => [ 0.4462 ] INCOME_GBN => [ 0.1938 ] MARRY_Y => [ 0.4831 ] DOUBLE_IN => [ 0.4831 ] NUMCHILD => [ 0.1182 ] "
     ]
    }
   ],
   "source": [
    "get_entropy(gr_sobi, 'GROUP_1')"
   ]
  },
  {
   "cell_type": "markdown",
   "metadata": {},
   "source": [
    "GOOD => INCOME_GBN, NUMCHILD, ADD_GBN, MARRY_Y<br>BAD => JOB_GBN, SEX_GBN\n",
    "___"
   ]
  },
  {
   "cell_type": "markdown",
   "metadata": {},
   "source": [
    "- JOB_GBN 과 SEX_GBN은 예측에 불량한 결과를 줄 분포를 가지고 있다. feature에서 제외 한다."
   ]
  },
  {
   "cell_type": "code",
   "execution_count": 36,
   "metadata": {},
   "outputs": [],
   "source": [
    "data.drop(['SEX_GBN', 'JOB_GBN', 'GROUP_1'], inplace = True, axis =1 )"
   ]
  },
  {
   "cell_type": "code",
   "execution_count": 37,
   "metadata": {},
   "outputs": [],
   "source": [
    "data_set.drop(['SEX_GBN', 'JOB_GBN'], inplace = True, axis = 1)"
   ]
  },
  {
   "cell_type": "markdown",
   "metadata": {},
   "source": [
    "___"
   ]
  },
  {
   "cell_type": "markdown",
   "metadata": {},
   "source": [
    "### 2-3 금융상품 잔액 null값들 0으로 변경"
   ]
  },
  {
   "cell_type": "code",
   "execution_count": 38,
   "metadata": {},
   "outputs": [],
   "source": [
    "data.iloc[:,8:] = data.iloc[:,8:].fillna(0)"
   ]
  },
  {
   "cell_type": "code",
   "execution_count": 39,
   "metadata": {},
   "outputs": [
    {
     "data": {
      "text/html": [
       "<div>\n",
       "<style scoped>\n",
       "    .dataframe tbody tr th:only-of-type {\n",
       "        vertical-align: middle;\n",
       "    }\n",
       "\n",
       "    .dataframe tbody tr th {\n",
       "        vertical-align: top;\n",
       "    }\n",
       "\n",
       "    .dataframe thead th {\n",
       "        text-align: right;\n",
       "    }\n",
       "</style>\n",
       "<table border=\"1\" class=\"dataframe\">\n",
       "  <thead>\n",
       "    <tr style=\"text-align: right;\">\n",
       "      <th></th>\n",
       "      <th>AGE_GBN</th>\n",
       "      <th>ADD_GBN</th>\n",
       "      <th>INCOME_GBN</th>\n",
       "      <th>MARRY_Y</th>\n",
       "      <th>DOUBLE_IN</th>\n",
       "      <th>NUMCHILD</th>\n",
       "      <th>TOT_ASSET</th>\n",
       "      <th>ASS_FIN</th>\n",
       "      <th>ASS_REAL</th>\n",
       "      <th>ASS_ETC</th>\n",
       "      <th>...</th>\n",
       "      <th>RETIRE_NEED</th>\n",
       "      <th>FOR_RETIRE</th>\n",
       "      <th>TOT_YEA</th>\n",
       "      <th>TOT_JEOK</th>\n",
       "      <th>TOT_CHUNG</th>\n",
       "      <th>TOT_FUND</th>\n",
       "      <th>TOT_ELS_ETE</th>\n",
       "      <th>TOT_SOBI</th>\n",
       "      <th>M_CRD_SPD</th>\n",
       "      <th>TOT_CAPITAL</th>\n",
       "    </tr>\n",
       "  </thead>\n",
       "  <tbody>\n",
       "    <tr>\n",
       "      <th>0</th>\n",
       "      <td>2</td>\n",
       "      <td>4</td>\n",
       "      <td>2</td>\n",
       "      <td>1</td>\n",
       "      <td>4.0</td>\n",
       "      <td>4.0</td>\n",
       "      <td>2300</td>\n",
       "      <td>300</td>\n",
       "      <td>0</td>\n",
       "      <td>2000</td>\n",
       "      <td>...</td>\n",
       "      <td>0.0</td>\n",
       "      <td>0</td>\n",
       "      <td>0.0</td>\n",
       "      <td>0.0</td>\n",
       "      <td>0.0</td>\n",
       "      <td>0.0</td>\n",
       "      <td>0.0</td>\n",
       "      <td>110</td>\n",
       "      <td>1437017</td>\n",
       "      <td>600</td>\n",
       "    </tr>\n",
       "    <tr>\n",
       "      <th>1</th>\n",
       "      <td>3</td>\n",
       "      <td>2</td>\n",
       "      <td>3</td>\n",
       "      <td>1</td>\n",
       "      <td>4.0</td>\n",
       "      <td>4.0</td>\n",
       "      <td>7500</td>\n",
       "      <td>7000</td>\n",
       "      <td>500</td>\n",
       "      <td>0</td>\n",
       "      <td>...</td>\n",
       "      <td>0.0</td>\n",
       "      <td>30</td>\n",
       "      <td>2000.0</td>\n",
       "      <td>1000.0</td>\n",
       "      <td>800.0</td>\n",
       "      <td>0.0</td>\n",
       "      <td>0.0</td>\n",
       "      <td>104</td>\n",
       "      <td>3211358</td>\n",
       "      <td>7500</td>\n",
       "    </tr>\n",
       "    <tr>\n",
       "      <th>2</th>\n",
       "      <td>3</td>\n",
       "      <td>2</td>\n",
       "      <td>6</td>\n",
       "      <td>2</td>\n",
       "      <td>2.0</td>\n",
       "      <td>1.0</td>\n",
       "      <td>41900</td>\n",
       "      <td>5900</td>\n",
       "      <td>35000</td>\n",
       "      <td>1000</td>\n",
       "      <td>...</td>\n",
       "      <td>0.0</td>\n",
       "      <td>0</td>\n",
       "      <td>800.0</td>\n",
       "      <td>500.0</td>\n",
       "      <td>1200.0</td>\n",
       "      <td>0.0</td>\n",
       "      <td>0.0</td>\n",
       "      <td>300</td>\n",
       "      <td>2932871</td>\n",
       "      <td>25900</td>\n",
       "    </tr>\n",
       "    <tr>\n",
       "      <th>3</th>\n",
       "      <td>5</td>\n",
       "      <td>4</td>\n",
       "      <td>6</td>\n",
       "      <td>2</td>\n",
       "      <td>1.0</td>\n",
       "      <td>3.0</td>\n",
       "      <td>123200</td>\n",
       "      <td>16200</td>\n",
       "      <td>105000</td>\n",
       "      <td>2000</td>\n",
       "      <td>...</td>\n",
       "      <td>0.0</td>\n",
       "      <td>0</td>\n",
       "      <td>0.0</td>\n",
       "      <td>0.0</td>\n",
       "      <td>350.0</td>\n",
       "      <td>0.0</td>\n",
       "      <td>0.0</td>\n",
       "      <td>400</td>\n",
       "      <td>3106659</td>\n",
       "      <td>97400</td>\n",
       "    </tr>\n",
       "    <tr>\n",
       "      <th>4</th>\n",
       "      <td>4</td>\n",
       "      <td>2</td>\n",
       "      <td>6</td>\n",
       "      <td>2</td>\n",
       "      <td>1.0</td>\n",
       "      <td>2.0</td>\n",
       "      <td>33500</td>\n",
       "      <td>1500</td>\n",
       "      <td>30000</td>\n",
       "      <td>2000</td>\n",
       "      <td>...</td>\n",
       "      <td>200.0</td>\n",
       "      <td>0</td>\n",
       "      <td>0.0</td>\n",
       "      <td>0.0</td>\n",
       "      <td>0.0</td>\n",
       "      <td>0.0</td>\n",
       "      <td>0.0</td>\n",
       "      <td>350</td>\n",
       "      <td>3615840</td>\n",
       "      <td>29000</td>\n",
       "    </tr>\n",
       "  </tbody>\n",
       "</table>\n",
       "<p>5 rows × 33 columns</p>\n",
       "</div>"
      ],
      "text/plain": [
       "   AGE_GBN  ADD_GBN  INCOME_GBN  MARRY_Y  DOUBLE_IN  NUMCHILD  TOT_ASSET  \\\n",
       "0        2        4           2        1        4.0       4.0       2300   \n",
       "1        3        2           3        1        4.0       4.0       7500   \n",
       "2        3        2           6        2        2.0       1.0      41900   \n",
       "3        5        4           6        2        1.0       3.0     123200   \n",
       "4        4        2           6        2        1.0       2.0      33500   \n",
       "\n",
       "   ASS_FIN  ASS_REAL  ASS_ETC     ...       RETIRE_NEED  FOR_RETIRE  TOT_YEA  \\\n",
       "0      300         0     2000     ...               0.0           0      0.0   \n",
       "1     7000       500        0     ...               0.0          30   2000.0   \n",
       "2     5900     35000     1000     ...               0.0           0    800.0   \n",
       "3    16200    105000     2000     ...               0.0           0      0.0   \n",
       "4     1500     30000     2000     ...             200.0           0      0.0   \n",
       "\n",
       "   TOT_JEOK  TOT_CHUNG  TOT_FUND  TOT_ELS_ETE  TOT_SOBI  M_CRD_SPD  \\\n",
       "0       0.0        0.0       0.0          0.0       110    1437017   \n",
       "1    1000.0      800.0       0.0          0.0       104    3211358   \n",
       "2     500.0     1200.0       0.0          0.0       300    2932871   \n",
       "3       0.0      350.0       0.0          0.0       400    3106659   \n",
       "4       0.0        0.0       0.0          0.0       350    3615840   \n",
       "\n",
       "   TOT_CAPITAL  \n",
       "0          600  \n",
       "1         7500  \n",
       "2        25900  \n",
       "3        97400  \n",
       "4        29000  \n",
       "\n",
       "[5 rows x 33 columns]"
      ]
     },
     "execution_count": 39,
     "metadata": {},
     "output_type": "execute_result"
    }
   ],
   "source": [
    "data.head()"
   ]
  },
  {
   "cell_type": "markdown",
   "metadata": {},
   "source": [
    "# 3. Modeling"
   ]
  },
  {
   "cell_type": "code",
   "execution_count": 41,
   "metadata": {},
   "outputs": [],
   "source": [
    "from sklearn.kernel_ridge import KernelRidge\n",
    "from sklearn.linear_model import ElasticNet, Lasso\n",
    "from sklearn.model_selection import GridSearchCV\n",
    "from sklearn.model_selection import train_test_split\n",
    "from mlxtend.classifier import StackingCVClassifier\n",
    "from sklearn.pipeline import make_pipeline\n",
    "from sklearn.preprocessing import RobustScaler\n",
    "from sklearn.svm import SVR\n",
    "from sklearn.ensemble import RandomForestRegressor, GradientBoostingRegressor\n",
    "from xgboost import XGBRegressor\n",
    "import xgboost as xgb\n",
    "import lightgbm as lgb\n",
    "from sklearn.metrics import mean_squared_error\n",
    "from sklearn.metrics import mean_absolute_error\n",
    "from sklearn.metrics import median_absolute_error"
   ]
  },
  {
   "cell_type": "code",
   "execution_count": 42,
   "metadata": {},
   "outputs": [],
   "source": [
    "def make_dummy(data, ind_col= None, sep = None, target = None):\n",
    "    flag = False\n",
    "    if not (ind_col or sep or target):\n",
    "        flag = True\n",
    "        dum_data = data\n",
    "        \n",
    "    elif ind_col or sep or target != None:\n",
    "        dum_data = data.iloc[:,:ind_col]\n",
    "\n",
    "    if sep:\n",
    "        for drop_col in sep:\n",
    "            dum_data = dum_data.drop(drop_col, axis = 1)\n",
    "\n",
    "    dummies_data = pd.Series(range(len(data.iloc[:,1])))\n",
    "    for i in dum_data.columns:\n",
    "        temp = pd.get_dummies(dum_data[i], prefix=i , drop_first= True )\n",
    "        dummies_data = pd.concat([dummies_data, temp], axis = 1 )\n",
    "    \n",
    "    if flag or ind_col and not (sep or target):\n",
    "        return dummies_data.iloc[:,1:]\n",
    "    \n",
    "    if target and sep:\n",
    "        return pd.concat([dummies_data.iloc[:,1:], data.loc[:,sep], data[target]], axis = 1)\n",
    "    elif sep:\n",
    "        return pd.concat([dummies_data.iloc[:,1:], data.loc[:,sep]], axis = 1)\n",
    "    else:\n",
    "        return pd.concat([dummies_data.iloc[:,1:], data[target]], axis = 1)\n",
    "\n",
    "    return pd.concat([dummies_data.iloc[:,1:], data.loc[:,sep], data.iloc[:,ind_col:]], axis = 1)"
   ]
  },
  {
   "cell_type": "code",
   "execution_count": 43,
   "metadata": {},
   "outputs": [],
   "source": [
    "def flatten(x):\n",
    "    result = []\n",
    "    for el in x:\n",
    "        if hasattr(el, \"__iter__\") and not isinstance(el, str): \n",
    "            result.extend(flatten(el)) \n",
    "        else:\n",
    "            result.append(el)\n",
    "    return result"
   ]
  },
  {
   "cell_type": "code",
   "execution_count": 44,
   "metadata": {},
   "outputs": [],
   "source": [
    "def score(model, X_test, y_true):\n",
    "    model_prediction = model.predict(X_test)\n",
    "    model_mse = mean_squared_error(y_true, model_prediction)\n",
    "    model_rmse = np.sqrt(model_mse)\n",
    "    model_mae = mean_absolute_error(y_true, model_prediction)\n",
    "    return model_rmse, model_mae"
   ]
  },
  {
   "cell_type": "code",
   "execution_count": 45,
   "metadata": {},
   "outputs": [],
   "source": [
    "models = {'rf': RandomForestRegressor(n_estimators=500, max_depth=10, random_state=3, n_jobs=-1),\n",
    "          \n",
    "          'lasso': make_pipeline(RobustScaler(), Lasso(alpha =0.5, random_state=3)),\n",
    "          \n",
    "          'Enet' : make_pipeline(RobustScaler(), ElasticNet(alpha=0.5, l1_ratio=.9, random_state=3)),\n",
    "          \n",
    "          'KRR' :  KernelRidge(alpha=0.6, kernel='polynomial', degree=2, coef0=2.5),\n",
    "          \n",
    "          'xgb':   xgb.XGBRegressor(colsample_bytree=0.4603, gamma=0.0468, \n",
    "                                   learning_rate=0.05, max_depth=3, \n",
    "                                   min_child_weight=1.7817, n_estimators=2200,\n",
    "                                   reg_alpha=0.4640, reg_lambda=0.8571,\n",
    "                                   subsample=0.5213, silent=1,\n",
    "                                   random_state =3, nthread = -1),\n",
    "          'model_svr' : SVR(C=1, cache_size=200, coef0=0, degree=3, epsilon=0.0, gamma='auto',\n",
    "                              kernel='rbf', max_iter=-1, shrinking=True, tol=0.001, verbose=False)\n",
    "          \n",
    "#          'GBoost' : GradientBoostingRegressor(n_estimators=500, learning_rate=0.03,\n",
    "#                                   max_depth=30, max_features='sqrt',\n",
    "#                                   min_samples_leaf=15, min_samples_split=10, \n",
    "#                                   loss='huber', random_state =3)\n",
    "         }"
   ]
  },
  {
   "cell_type": "code",
   "execution_count": 46,
   "metadata": {},
   "outputs": [],
   "source": [
    "def make_stack_model(data, target, models):\n",
    "    sc_train = data\n",
    "    \n",
    "    x_train, x_test, y_train, y_test = train_test_split(sc_train.drop(target, axis = 1), sc_train[target], test_size=0.3, random_state = 3)\n",
    "    sc_dic = {}\n",
    "    \n",
    "    for name in models.keys():\n",
    "        models[name].fit(x_train, y_train)\n",
    "        sc_dic[name] = score(models[name], x_test, y_test)    \n",
    "    \n",
    "    res_sort = sorted(sc_dic.items(), key= operator.itemgetter(1))\n",
    "    res_sort = [ res_sort[:4][i][0] for i in range(4) ] \n",
    "    \n",
    "    meta = models[res_sort[0]]\n",
    "    stack_model = StackingCVClassifier(classifiers=[models[res_sort[1]], models[res_sort[2]],models[res_sort[3]]],meta_classifier=meta)\n",
    "    \n",
    "    return stack_model\n",
    "    "
   ]
  },
  {
   "cell_type": "markdown",
   "metadata": {},
   "source": [
    "# 4. Processing"
   ]
  },
  {
   "cell_type": "markdown",
   "metadata": {},
   "source": [
    "#### train_set에는 미응답이 없어 target_set의 미응답 레코드를 제외 하여 분할 예측"
   ]
  },
  {
   "cell_type": "code",
   "execution_count": 47,
   "metadata": {},
   "outputs": [],
   "source": [
    "dic = {}"
   ]
  },
  {
   "cell_type": "code",
   "execution_count": 48,
   "metadata": {},
   "outputs": [],
   "source": [
    "dic['data_ooo'] = data_set[(data_set['MARRY_Y'] == 4) \n",
    "                                             & (data_set['DOUBLE_IN'] == 4) \n",
    "                                             & (data_set['NUMCHILD'] == 4)].index.tolist()\n",
    "\n",
    "\n",
    "dic['data_oox'] = data_set[(data_set['MARRY_Y']== 4) \n",
    "                                             & (data_set['DOUBLE_IN'] == 4)\n",
    "                                             & (data_set['NUMCHILD'] != 4)].index.tolist()\n",
    "\n",
    "dic['data_oxo'] = data_set[(data_set['MARRY_Y'] == 4 )\n",
    "                                             & (data_set['DOUBLE_IN'] != 4 ) \n",
    "                                             & (data_set['NUMCHILD'] == 4)].index.tolist()\n",
    "\n",
    "dic['data_oxx'] = data_set[(data_set['MARRY_Y']== 4)\n",
    "                                             & (data_set['DOUBLE_IN'] != 4)\n",
    "                                             & (data_set['NUMCHILD'] != 4)].index.tolist()\n",
    "\n",
    "dic['data_xoo'] = data_set[(data_set['MARRY_Y'] != 4)\n",
    "                                             & (data_set['DOUBLE_IN'] == 4) \n",
    "                                             & (data_set['NUMCHILD'] == 4)].index.tolist()\n",
    "\n",
    "dic['data_xox'] = data_set[(data_set['MARRY_Y'] != 4 )\n",
    "                                             & (data_set['DOUBLE_IN'] == 4)\n",
    "                                             & (data_set['NUMCHILD'] !=4)].index.tolist()\n",
    "\n",
    "\n",
    "dic['data_xxo'] = data_set[(data_set['MARRY_Y'] != 4)\n",
    "                                             & (data_set['DOUBLE_IN'] !=4 )\n",
    "                                             & (data_set['NUMCHILD'] == 4)].index.tolist()\n",
    "\n",
    "dic['data_xxx'] = data_set[(data_set['MARRY_Y'] !=4 ) \n",
    "                                             & (data_set['DOUBLE_IN']!=4) \n",
    "                                             & (data_set['NUMCHILD']!=4)].index.tolist()"
   ]
  },
  {
   "cell_type": "code",
   "execution_count": 49,
   "metadata": {},
   "outputs": [
    {
     "data": {
      "text/plain": [
       "141750"
      ]
     },
     "execution_count": 49,
     "metadata": {},
     "output_type": "execute_result"
    }
   ],
   "source": [
    "len(dic['data_ooo']) + len(dic['data_oox']) + len(dic['data_oxo']) + len(dic['data_oxx']) + len(dic['data_xoo']) + len(dic['data_xox']) + len(dic['data_xxo']) + len(dic['data_xxx'])"
   ]
  },
  {
   "cell_type": "code",
   "execution_count": 50,
   "metadata": {},
   "outputs": [
    {
     "data": {
      "text/html": [
       "<div>\n",
       "<style scoped>\n",
       "    .dataframe tbody tr th:only-of-type {\n",
       "        vertical-align: middle;\n",
       "    }\n",
       "\n",
       "    .dataframe tbody tr th {\n",
       "        vertical-align: top;\n",
       "    }\n",
       "\n",
       "    .dataframe thead th {\n",
       "        text-align: right;\n",
       "    }\n",
       "</style>\n",
       "<table border=\"1\" class=\"dataframe\">\n",
       "  <thead>\n",
       "    <tr style=\"text-align: right;\">\n",
       "      <th></th>\n",
       "      <th>PEER_NO</th>\n",
       "      <th>AGE_GBN</th>\n",
       "      <th>ADD_GBN</th>\n",
       "      <th>INCOME_GBN</th>\n",
       "      <th>MARRY_Y</th>\n",
       "      <th>DOUBLE_IN</th>\n",
       "      <th>NUMCHILD</th>\n",
       "      <th>TOT_ASSET</th>\n",
       "      <th>ASS_FIN</th>\n",
       "      <th>ASS_REAL</th>\n",
       "      <th>...</th>\n",
       "      <th>D_JEONSEA</th>\n",
       "      <th>RETIRE_NEED</th>\n",
       "      <th>FOR_RETIRE</th>\n",
       "      <th>TOT_YEA</th>\n",
       "      <th>TOT_JEOK</th>\n",
       "      <th>TOT_CHUNG</th>\n",
       "      <th>TOT_FUND</th>\n",
       "      <th>TOT_ELS_ETE</th>\n",
       "      <th>TOT_SOBI</th>\n",
       "      <th>M_CRD_SPD</th>\n",
       "    </tr>\n",
       "  </thead>\n",
       "  <tbody>\n",
       "    <tr>\n",
       "      <th>0</th>\n",
       "      <td>1</td>\n",
       "      <td>2</td>\n",
       "      <td>1</td>\n",
       "      <td>1</td>\n",
       "      <td>1.0</td>\n",
       "      <td>1.0</td>\n",
       "      <td>0.0</td>\n",
       "      <td>NaN</td>\n",
       "      <td>NaN</td>\n",
       "      <td>NaN</td>\n",
       "      <td>...</td>\n",
       "      <td>NaN</td>\n",
       "      <td>NaN</td>\n",
       "      <td>NaN</td>\n",
       "      <td>NaN</td>\n",
       "      <td>NaN</td>\n",
       "      <td>NaN</td>\n",
       "      <td>NaN</td>\n",
       "      <td>NaN</td>\n",
       "      <td>NaN</td>\n",
       "      <td>NaN</td>\n",
       "    </tr>\n",
       "    <tr>\n",
       "      <th>1</th>\n",
       "      <td>2</td>\n",
       "      <td>2</td>\n",
       "      <td>1</td>\n",
       "      <td>1</td>\n",
       "      <td>2.0</td>\n",
       "      <td>1.0</td>\n",
       "      <td>0.0</td>\n",
       "      <td>NaN</td>\n",
       "      <td>NaN</td>\n",
       "      <td>NaN</td>\n",
       "      <td>...</td>\n",
       "      <td>NaN</td>\n",
       "      <td>NaN</td>\n",
       "      <td>NaN</td>\n",
       "      <td>NaN</td>\n",
       "      <td>NaN</td>\n",
       "      <td>NaN</td>\n",
       "      <td>NaN</td>\n",
       "      <td>NaN</td>\n",
       "      <td>NaN</td>\n",
       "      <td>NaN</td>\n",
       "    </tr>\n",
       "    <tr>\n",
       "      <th>2</th>\n",
       "      <td>3</td>\n",
       "      <td>2</td>\n",
       "      <td>1</td>\n",
       "      <td>1</td>\n",
       "      <td>4.0</td>\n",
       "      <td>1.0</td>\n",
       "      <td>0.0</td>\n",
       "      <td>NaN</td>\n",
       "      <td>NaN</td>\n",
       "      <td>NaN</td>\n",
       "      <td>...</td>\n",
       "      <td>NaN</td>\n",
       "      <td>NaN</td>\n",
       "      <td>NaN</td>\n",
       "      <td>NaN</td>\n",
       "      <td>NaN</td>\n",
       "      <td>NaN</td>\n",
       "      <td>NaN</td>\n",
       "      <td>NaN</td>\n",
       "      <td>NaN</td>\n",
       "      <td>NaN</td>\n",
       "    </tr>\n",
       "    <tr>\n",
       "      <th>3</th>\n",
       "      <td>4</td>\n",
       "      <td>2</td>\n",
       "      <td>1</td>\n",
       "      <td>1</td>\n",
       "      <td>1.0</td>\n",
       "      <td>2.0</td>\n",
       "      <td>0.0</td>\n",
       "      <td>NaN</td>\n",
       "      <td>NaN</td>\n",
       "      <td>NaN</td>\n",
       "      <td>...</td>\n",
       "      <td>NaN</td>\n",
       "      <td>NaN</td>\n",
       "      <td>NaN</td>\n",
       "      <td>NaN</td>\n",
       "      <td>NaN</td>\n",
       "      <td>NaN</td>\n",
       "      <td>NaN</td>\n",
       "      <td>NaN</td>\n",
       "      <td>NaN</td>\n",
       "      <td>NaN</td>\n",
       "    </tr>\n",
       "    <tr>\n",
       "      <th>4</th>\n",
       "      <td>5</td>\n",
       "      <td>2</td>\n",
       "      <td>1</td>\n",
       "      <td>1</td>\n",
       "      <td>2.0</td>\n",
       "      <td>2.0</td>\n",
       "      <td>0.0</td>\n",
       "      <td>NaN</td>\n",
       "      <td>NaN</td>\n",
       "      <td>NaN</td>\n",
       "      <td>...</td>\n",
       "      <td>NaN</td>\n",
       "      <td>NaN</td>\n",
       "      <td>NaN</td>\n",
       "      <td>NaN</td>\n",
       "      <td>NaN</td>\n",
       "      <td>NaN</td>\n",
       "      <td>NaN</td>\n",
       "      <td>NaN</td>\n",
       "      <td>NaN</td>\n",
       "      <td>NaN</td>\n",
       "    </tr>\n",
       "  </tbody>\n",
       "</table>\n",
       "<p>5 rows × 34 columns</p>\n",
       "</div>"
      ],
      "text/plain": [
       "   PEER_NO  AGE_GBN  ADD_GBN  INCOME_GBN  MARRY_Y  DOUBLE_IN  NUMCHILD  \\\n",
       "0        1        2        1           1      1.0        1.0       0.0   \n",
       "1        2        2        1           1      2.0        1.0       0.0   \n",
       "2        3        2        1           1      4.0        1.0       0.0   \n",
       "3        4        2        1           1      1.0        2.0       0.0   \n",
       "4        5        2        1           1      2.0        2.0       0.0   \n",
       "\n",
       "   TOT_ASSET  ASS_FIN  ASS_REAL    ...      D_JEONSEA  RETIRE_NEED  \\\n",
       "0        NaN      NaN       NaN    ...            NaN          NaN   \n",
       "1        NaN      NaN       NaN    ...            NaN          NaN   \n",
       "2        NaN      NaN       NaN    ...            NaN          NaN   \n",
       "3        NaN      NaN       NaN    ...            NaN          NaN   \n",
       "4        NaN      NaN       NaN    ...            NaN          NaN   \n",
       "\n",
       "   FOR_RETIRE  TOT_YEA  TOT_JEOK  TOT_CHUNG  TOT_FUND  TOT_ELS_ETE  TOT_SOBI  \\\n",
       "0         NaN      NaN       NaN        NaN       NaN          NaN       NaN   \n",
       "1         NaN      NaN       NaN        NaN       NaN          NaN       NaN   \n",
       "2         NaN      NaN       NaN        NaN       NaN          NaN       NaN   \n",
       "3         NaN      NaN       NaN        NaN       NaN          NaN       NaN   \n",
       "4         NaN      NaN       NaN        NaN       NaN          NaN       NaN   \n",
       "\n",
       "   M_CRD_SPD  \n",
       "0        NaN  \n",
       "1        NaN  \n",
       "2        NaN  \n",
       "3        NaN  \n",
       "4        NaN  \n",
       "\n",
       "[5 rows x 34 columns]"
      ]
     },
     "execution_count": 50,
     "metadata": {},
     "output_type": "execute_result"
    }
   ],
   "source": [
    "data_set.head()"
   ]
  },
  {
   "cell_type": "code",
   "execution_count": 51,
   "metadata": {},
   "outputs": [
    {
     "data": {
      "text/plain": [
       "Index(['PEER_NO', 'AGE_GBN', 'ADD_GBN', 'INCOME_GBN', 'MARRY_Y', 'DOUBLE_IN'], dtype='object')"
      ]
     },
     "execution_count": 51,
     "metadata": {},
     "output_type": "execute_result"
    }
   ],
   "source": [
    "data_set.columns[:6]"
   ]
  },
  {
   "cell_type": "code",
   "execution_count": 52,
   "metadata": {},
   "outputs": [],
   "source": [
    "data_set.drop('PEER_NO', inplace = True, axis = 1)"
   ]
  },
  {
   "cell_type": "code",
   "execution_count": 53,
   "metadata": {
    "scrolled": true
   },
   "outputs": [
    {
     "data": {
      "text/html": [
       "<div>\n",
       "<style scoped>\n",
       "    .dataframe tbody tr th:only-of-type {\n",
       "        vertical-align: middle;\n",
       "    }\n",
       "\n",
       "    .dataframe tbody tr th {\n",
       "        vertical-align: top;\n",
       "    }\n",
       "\n",
       "    .dataframe thead th {\n",
       "        text-align: right;\n",
       "    }\n",
       "</style>\n",
       "<table border=\"1\" class=\"dataframe\">\n",
       "  <thead>\n",
       "    <tr style=\"text-align: right;\">\n",
       "      <th></th>\n",
       "      <th>AGE_GBN</th>\n",
       "      <th>ADD_GBN</th>\n",
       "      <th>INCOME_GBN</th>\n",
       "      <th>MARRY_Y</th>\n",
       "      <th>DOUBLE_IN</th>\n",
       "      <th>NUMCHILD</th>\n",
       "      <th>TOT_ASSET</th>\n",
       "      <th>ASS_FIN</th>\n",
       "      <th>ASS_REAL</th>\n",
       "      <th>ASS_ETC</th>\n",
       "      <th>...</th>\n",
       "      <th>D_JEONSEA</th>\n",
       "      <th>RETIRE_NEED</th>\n",
       "      <th>FOR_RETIRE</th>\n",
       "      <th>TOT_YEA</th>\n",
       "      <th>TOT_JEOK</th>\n",
       "      <th>TOT_CHUNG</th>\n",
       "      <th>TOT_FUND</th>\n",
       "      <th>TOT_ELS_ETE</th>\n",
       "      <th>TOT_SOBI</th>\n",
       "      <th>M_CRD_SPD</th>\n",
       "    </tr>\n",
       "  </thead>\n",
       "  <tbody>\n",
       "    <tr>\n",
       "      <th>0</th>\n",
       "      <td>2</td>\n",
       "      <td>1</td>\n",
       "      <td>1</td>\n",
       "      <td>1.0</td>\n",
       "      <td>1.0</td>\n",
       "      <td>0.0</td>\n",
       "      <td>NaN</td>\n",
       "      <td>NaN</td>\n",
       "      <td>NaN</td>\n",
       "      <td>NaN</td>\n",
       "      <td>...</td>\n",
       "      <td>NaN</td>\n",
       "      <td>NaN</td>\n",
       "      <td>NaN</td>\n",
       "      <td>NaN</td>\n",
       "      <td>NaN</td>\n",
       "      <td>NaN</td>\n",
       "      <td>NaN</td>\n",
       "      <td>NaN</td>\n",
       "      <td>NaN</td>\n",
       "      <td>NaN</td>\n",
       "    </tr>\n",
       "    <tr>\n",
       "      <th>1</th>\n",
       "      <td>2</td>\n",
       "      <td>1</td>\n",
       "      <td>1</td>\n",
       "      <td>2.0</td>\n",
       "      <td>1.0</td>\n",
       "      <td>0.0</td>\n",
       "      <td>NaN</td>\n",
       "      <td>NaN</td>\n",
       "      <td>NaN</td>\n",
       "      <td>NaN</td>\n",
       "      <td>...</td>\n",
       "      <td>NaN</td>\n",
       "      <td>NaN</td>\n",
       "      <td>NaN</td>\n",
       "      <td>NaN</td>\n",
       "      <td>NaN</td>\n",
       "      <td>NaN</td>\n",
       "      <td>NaN</td>\n",
       "      <td>NaN</td>\n",
       "      <td>NaN</td>\n",
       "      <td>NaN</td>\n",
       "    </tr>\n",
       "    <tr>\n",
       "      <th>2</th>\n",
       "      <td>2</td>\n",
       "      <td>1</td>\n",
       "      <td>1</td>\n",
       "      <td>4.0</td>\n",
       "      <td>1.0</td>\n",
       "      <td>0.0</td>\n",
       "      <td>NaN</td>\n",
       "      <td>NaN</td>\n",
       "      <td>NaN</td>\n",
       "      <td>NaN</td>\n",
       "      <td>...</td>\n",
       "      <td>NaN</td>\n",
       "      <td>NaN</td>\n",
       "      <td>NaN</td>\n",
       "      <td>NaN</td>\n",
       "      <td>NaN</td>\n",
       "      <td>NaN</td>\n",
       "      <td>NaN</td>\n",
       "      <td>NaN</td>\n",
       "      <td>NaN</td>\n",
       "      <td>NaN</td>\n",
       "    </tr>\n",
       "    <tr>\n",
       "      <th>3</th>\n",
       "      <td>2</td>\n",
       "      <td>1</td>\n",
       "      <td>1</td>\n",
       "      <td>1.0</td>\n",
       "      <td>2.0</td>\n",
       "      <td>0.0</td>\n",
       "      <td>NaN</td>\n",
       "      <td>NaN</td>\n",
       "      <td>NaN</td>\n",
       "      <td>NaN</td>\n",
       "      <td>...</td>\n",
       "      <td>NaN</td>\n",
       "      <td>NaN</td>\n",
       "      <td>NaN</td>\n",
       "      <td>NaN</td>\n",
       "      <td>NaN</td>\n",
       "      <td>NaN</td>\n",
       "      <td>NaN</td>\n",
       "      <td>NaN</td>\n",
       "      <td>NaN</td>\n",
       "      <td>NaN</td>\n",
       "    </tr>\n",
       "    <tr>\n",
       "      <th>4</th>\n",
       "      <td>2</td>\n",
       "      <td>1</td>\n",
       "      <td>1</td>\n",
       "      <td>2.0</td>\n",
       "      <td>2.0</td>\n",
       "      <td>0.0</td>\n",
       "      <td>NaN</td>\n",
       "      <td>NaN</td>\n",
       "      <td>NaN</td>\n",
       "      <td>NaN</td>\n",
       "      <td>...</td>\n",
       "      <td>NaN</td>\n",
       "      <td>NaN</td>\n",
       "      <td>NaN</td>\n",
       "      <td>NaN</td>\n",
       "      <td>NaN</td>\n",
       "      <td>NaN</td>\n",
       "      <td>NaN</td>\n",
       "      <td>NaN</td>\n",
       "      <td>NaN</td>\n",
       "      <td>NaN</td>\n",
       "    </tr>\n",
       "  </tbody>\n",
       "</table>\n",
       "<p>5 rows × 33 columns</p>\n",
       "</div>"
      ],
      "text/plain": [
       "   AGE_GBN  ADD_GBN  INCOME_GBN  MARRY_Y  DOUBLE_IN  NUMCHILD  TOT_ASSET  \\\n",
       "0        2        1           1      1.0        1.0       0.0        NaN   \n",
       "1        2        1           1      2.0        1.0       0.0        NaN   \n",
       "2        2        1           1      4.0        1.0       0.0        NaN   \n",
       "3        2        1           1      1.0        2.0       0.0        NaN   \n",
       "4        2        1           1      2.0        2.0       0.0        NaN   \n",
       "\n",
       "   ASS_FIN  ASS_REAL  ASS_ETC    ...      D_JEONSEA  RETIRE_NEED  FOR_RETIRE  \\\n",
       "0      NaN       NaN      NaN    ...            NaN          NaN         NaN   \n",
       "1      NaN       NaN      NaN    ...            NaN          NaN         NaN   \n",
       "2      NaN       NaN      NaN    ...            NaN          NaN         NaN   \n",
       "3      NaN       NaN      NaN    ...            NaN          NaN         NaN   \n",
       "4      NaN       NaN      NaN    ...            NaN          NaN         NaN   \n",
       "\n",
       "   TOT_YEA  TOT_JEOK  TOT_CHUNG  TOT_FUND  TOT_ELS_ETE  TOT_SOBI  M_CRD_SPD  \n",
       "0      NaN       NaN        NaN       NaN          NaN       NaN        NaN  \n",
       "1      NaN       NaN        NaN       NaN          NaN       NaN        NaN  \n",
       "2      NaN       NaN        NaN       NaN          NaN       NaN        NaN  \n",
       "3      NaN       NaN        NaN       NaN          NaN       NaN        NaN  \n",
       "4      NaN       NaN        NaN       NaN          NaN       NaN        NaN  \n",
       "\n",
       "[5 rows x 33 columns]"
      ]
     },
     "execution_count": 53,
     "metadata": {},
     "output_type": "execute_result"
    }
   ],
   "source": [
    "data_set.head()"
   ]
  },
  {
   "cell_type": "code",
   "execution_count": 54,
   "metadata": {},
   "outputs": [],
   "source": [
    "#oxx,'data_xox','data_xxo','data_xxx'\n",
    "li = ['data_xoo','data_xox','data_xxo','data_xxx', 'data_ooo','data_oox','data_oxo','data_oxx']"
   ]
  },
  {
   "cell_type": "code",
   "execution_count": 55,
   "metadata": {},
   "outputs": [],
   "source": [
    "def processing(train_data, target_data, target = 'TOT_SOBI'):\n",
    "    data_set = target_data\n",
    "    data = train_data\n",
    "    \n",
    "    for i in li:\n",
    "        set_col = data_set.columns[:6][(data_set.loc[dic[i][0],'AGE_GBN':'NUMCHILD'] != 4).values]\n",
    "        check = [i for i in ['MARRY_Y','DOUBLE_IN','NUMCHILD'] if i in set_col] \n",
    "\n",
    "        test_set = data_set.loc[dic[i],set_col].astype('int')\n",
    "\n",
    "        if check != []:\n",
    "            train_set = data[flatten([set_col, data.iloc[:1,6:]])][((data[set_col][check].values == 4).sum(axis = 1) != len(check)).tolist()].fillna(0).astype('int')\n",
    "\n",
    "        else :\n",
    "            train_set = data.loc[data[set_col].dropna().index, flatten([set_col, data.iloc[:1,6:]])].fillna(0).astype('int')\n",
    "\n",
    "\n",
    "        if 'MARRY_Y' in set_col:\n",
    "            for k in range(1, 3):\n",
    "                \n",
    "                train_set1 = train_set[train_set['MARRY_Y'] == k]\n",
    "                test_set1 = test_set[test_set['MARRY_Y'] == k]\n",
    "               \n",
    "                if train_set1.shape[0] == 0:\n",
    "                    continue\n",
    "               \n",
    "                if 'INCOME_GBN' in set_col.values:\n",
    "                    print('marry_in' + str(k))\n",
    "                    print(set_col)\n",
    "                    \n",
    "                    dum_train = make_dummy(train_set1,ind_col= len(set_col), sep = ['INCOME_GBN'], target = target)\n",
    "                    dum_test = make_dummy(test_set1[set_col],ind_col= len(set_col), sep = ['INCOME_GBN'])\n",
    "\n",
    "                    \n",
    "                else:\n",
    "                    print('marry_2')\n",
    "                    dum_train = make_dummy(train_set,ind_col = len(set_col), sep = None, target = target)\n",
    "                    dum_test = make_dummy(test_set[set_col],ind_col= len(set_col))\n",
    "\n",
    "                dum_test = dum_test[np.array(dum_test.columns.intersection(dum_train.columns))].dropna()\n",
    "                dum_train = dum_train[flatten([np.array(dum_test.columns.intersection(dum_train.columns)), target])].dropna()\n",
    "\n",
    "                model = make_stack_model(dum_train, target, models)\n",
    "                model.fit(dum_train.iloc[:,:-1].values, np.log1p(dum_train[target].values))\n",
    "                pred = model.predict(dum_test.values)\n",
    "                data_set.loc[test_set1.index, target] = np.expm1(pred)\n",
    "                \n",
    "        else:\n",
    "                if 'INCOME_GBN' in set_col.values:\n",
    "                    print('marry not in')\n",
    "                    print(set_col)\n",
    "                    dum_train = make_dummy(train_set,ind_col= len(set_col), sep = ['INCOME_GBN'], target = target)\n",
    "                    dum_test = make_dummy(test_set[set_col],ind_col= len(set_col), sep = ['INCOME_GBN'])\n",
    "\n",
    "                else:\n",
    "                    dum_train = make_dummy(train_set,ind_col = len(set_col), sep = None, target = target)\n",
    "                    dum_test = make_dummy(test_set[set_col],ind_col= len(set_col))\n",
    "\n",
    "                dum_test = dum_test[np.array(dum_test.columns.intersection(dum_train.columns))].dropna()\n",
    "                dum_train = dum_train[flatten([np.array(dum_test.columns.intersection(dum_train.columns)), target])].dropna()\n",
    "\n",
    "                model = make_stack_model(dum_train, target, models)\n",
    "                model.fit(dum_train.iloc[:,:-1].values, np.log1p(dum_train[target].values))\n",
    "                pred = model.predict(dum_test.values)\n",
    "                data_set.loc[test_set.index, target] = np.expm1(pred)\n",
    "\n",
    "                \n",
    "    return data_set            "
   ]
  },
  {
   "cell_type": "code",
   "execution_count": 51,
   "metadata": {},
   "outputs": [],
   "source": [
    "#stack_model = make_stack_model(data, 'ASS_FIN', models)"
   ]
  },
  {
   "cell_type": "code",
   "execution_count": 56,
   "metadata": {},
   "outputs": [
    {
     "data": {
      "text/html": [
       "<div>\n",
       "<style scoped>\n",
       "    .dataframe tbody tr th:only-of-type {\n",
       "        vertical-align: middle;\n",
       "    }\n",
       "\n",
       "    .dataframe tbody tr th {\n",
       "        vertical-align: top;\n",
       "    }\n",
       "\n",
       "    .dataframe thead th {\n",
       "        text-align: right;\n",
       "    }\n",
       "</style>\n",
       "<table border=\"1\" class=\"dataframe\">\n",
       "  <thead>\n",
       "    <tr style=\"text-align: right;\">\n",
       "      <th></th>\n",
       "      <th>AGE_GBN</th>\n",
       "      <th>ADD_GBN</th>\n",
       "      <th>INCOME_GBN</th>\n",
       "      <th>MARRY_Y</th>\n",
       "      <th>DOUBLE_IN</th>\n",
       "      <th>NUMCHILD</th>\n",
       "      <th>TOT_ASSET</th>\n",
       "      <th>ASS_FIN</th>\n",
       "      <th>ASS_REAL</th>\n",
       "      <th>ASS_ETC</th>\n",
       "      <th>...</th>\n",
       "      <th>D_JEONSEA</th>\n",
       "      <th>RETIRE_NEED</th>\n",
       "      <th>FOR_RETIRE</th>\n",
       "      <th>TOT_YEA</th>\n",
       "      <th>TOT_JEOK</th>\n",
       "      <th>TOT_CHUNG</th>\n",
       "      <th>TOT_FUND</th>\n",
       "      <th>TOT_ELS_ETE</th>\n",
       "      <th>TOT_SOBI</th>\n",
       "      <th>M_CRD_SPD</th>\n",
       "    </tr>\n",
       "  </thead>\n",
       "  <tbody>\n",
       "    <tr>\n",
       "      <th>0</th>\n",
       "      <td>2</td>\n",
       "      <td>1</td>\n",
       "      <td>1</td>\n",
       "      <td>1.0</td>\n",
       "      <td>1.0</td>\n",
       "      <td>0.0</td>\n",
       "      <td>NaN</td>\n",
       "      <td>NaN</td>\n",
       "      <td>NaN</td>\n",
       "      <td>NaN</td>\n",
       "      <td>...</td>\n",
       "      <td>NaN</td>\n",
       "      <td>NaN</td>\n",
       "      <td>NaN</td>\n",
       "      <td>NaN</td>\n",
       "      <td>NaN</td>\n",
       "      <td>NaN</td>\n",
       "      <td>NaN</td>\n",
       "      <td>NaN</td>\n",
       "      <td>NaN</td>\n",
       "      <td>NaN</td>\n",
       "    </tr>\n",
       "    <tr>\n",
       "      <th>1</th>\n",
       "      <td>2</td>\n",
       "      <td>1</td>\n",
       "      <td>1</td>\n",
       "      <td>2.0</td>\n",
       "      <td>1.0</td>\n",
       "      <td>0.0</td>\n",
       "      <td>NaN</td>\n",
       "      <td>NaN</td>\n",
       "      <td>NaN</td>\n",
       "      <td>NaN</td>\n",
       "      <td>...</td>\n",
       "      <td>NaN</td>\n",
       "      <td>NaN</td>\n",
       "      <td>NaN</td>\n",
       "      <td>NaN</td>\n",
       "      <td>NaN</td>\n",
       "      <td>NaN</td>\n",
       "      <td>NaN</td>\n",
       "      <td>NaN</td>\n",
       "      <td>NaN</td>\n",
       "      <td>NaN</td>\n",
       "    </tr>\n",
       "    <tr>\n",
       "      <th>2</th>\n",
       "      <td>2</td>\n",
       "      <td>1</td>\n",
       "      <td>1</td>\n",
       "      <td>4.0</td>\n",
       "      <td>1.0</td>\n",
       "      <td>0.0</td>\n",
       "      <td>NaN</td>\n",
       "      <td>NaN</td>\n",
       "      <td>NaN</td>\n",
       "      <td>NaN</td>\n",
       "      <td>...</td>\n",
       "      <td>NaN</td>\n",
       "      <td>NaN</td>\n",
       "      <td>NaN</td>\n",
       "      <td>NaN</td>\n",
       "      <td>NaN</td>\n",
       "      <td>NaN</td>\n",
       "      <td>NaN</td>\n",
       "      <td>NaN</td>\n",
       "      <td>NaN</td>\n",
       "      <td>NaN</td>\n",
       "    </tr>\n",
       "    <tr>\n",
       "      <th>3</th>\n",
       "      <td>2</td>\n",
       "      <td>1</td>\n",
       "      <td>1</td>\n",
       "      <td>1.0</td>\n",
       "      <td>2.0</td>\n",
       "      <td>0.0</td>\n",
       "      <td>NaN</td>\n",
       "      <td>NaN</td>\n",
       "      <td>NaN</td>\n",
       "      <td>NaN</td>\n",
       "      <td>...</td>\n",
       "      <td>NaN</td>\n",
       "      <td>NaN</td>\n",
       "      <td>NaN</td>\n",
       "      <td>NaN</td>\n",
       "      <td>NaN</td>\n",
       "      <td>NaN</td>\n",
       "      <td>NaN</td>\n",
       "      <td>NaN</td>\n",
       "      <td>NaN</td>\n",
       "      <td>NaN</td>\n",
       "    </tr>\n",
       "    <tr>\n",
       "      <th>4</th>\n",
       "      <td>2</td>\n",
       "      <td>1</td>\n",
       "      <td>1</td>\n",
       "      <td>2.0</td>\n",
       "      <td>2.0</td>\n",
       "      <td>0.0</td>\n",
       "      <td>NaN</td>\n",
       "      <td>NaN</td>\n",
       "      <td>NaN</td>\n",
       "      <td>NaN</td>\n",
       "      <td>...</td>\n",
       "      <td>NaN</td>\n",
       "      <td>NaN</td>\n",
       "      <td>NaN</td>\n",
       "      <td>NaN</td>\n",
       "      <td>NaN</td>\n",
       "      <td>NaN</td>\n",
       "      <td>NaN</td>\n",
       "      <td>NaN</td>\n",
       "      <td>NaN</td>\n",
       "      <td>NaN</td>\n",
       "    </tr>\n",
       "  </tbody>\n",
       "</table>\n",
       "<p>5 rows × 33 columns</p>\n",
       "</div>"
      ],
      "text/plain": [
       "   AGE_GBN  ADD_GBN  INCOME_GBN  MARRY_Y  DOUBLE_IN  NUMCHILD  TOT_ASSET  \\\n",
       "0        2        1           1      1.0        1.0       0.0        NaN   \n",
       "1        2        1           1      2.0        1.0       0.0        NaN   \n",
       "2        2        1           1      4.0        1.0       0.0        NaN   \n",
       "3        2        1           1      1.0        2.0       0.0        NaN   \n",
       "4        2        1           1      2.0        2.0       0.0        NaN   \n",
       "\n",
       "   ASS_FIN  ASS_REAL  ASS_ETC    ...      D_JEONSEA  RETIRE_NEED  FOR_RETIRE  \\\n",
       "0      NaN       NaN      NaN    ...            NaN          NaN         NaN   \n",
       "1      NaN       NaN      NaN    ...            NaN          NaN         NaN   \n",
       "2      NaN       NaN      NaN    ...            NaN          NaN         NaN   \n",
       "3      NaN       NaN      NaN    ...            NaN          NaN         NaN   \n",
       "4      NaN       NaN      NaN    ...            NaN          NaN         NaN   \n",
       "\n",
       "   TOT_YEA  TOT_JEOK  TOT_CHUNG  TOT_FUND  TOT_ELS_ETE  TOT_SOBI  M_CRD_SPD  \n",
       "0      NaN       NaN        NaN       NaN          NaN       NaN        NaN  \n",
       "1      NaN       NaN        NaN       NaN          NaN       NaN        NaN  \n",
       "2      NaN       NaN        NaN       NaN          NaN       NaN        NaN  \n",
       "3      NaN       NaN        NaN       NaN          NaN       NaN        NaN  \n",
       "4      NaN       NaN        NaN       NaN          NaN       NaN        NaN  \n",
       "\n",
       "[5 rows x 33 columns]"
      ]
     },
     "execution_count": 56,
     "metadata": {},
     "output_type": "execute_result"
    }
   ],
   "source": [
    "data_set.head()"
   ]
  },
  {
   "cell_type": "code",
   "execution_count": 57,
   "metadata": {
    "scrolled": false
   },
   "outputs": [
    {
     "name": "stdout",
     "output_type": "stream",
     "text": [
      "marry_in1\n",
      "Index(['AGE_GBN', 'ADD_GBN', 'INCOME_GBN', 'MARRY_Y'], dtype='object')\n",
      "marry_in2\n",
      "Index(['AGE_GBN', 'ADD_GBN', 'INCOME_GBN', 'MARRY_Y'], dtype='object')\n",
      "marry_in1\n",
      "Index(['AGE_GBN', 'ADD_GBN', 'INCOME_GBN', 'MARRY_Y', 'NUMCHILD'], dtype='object')\n",
      "marry_in2\n",
      "Index(['AGE_GBN', 'ADD_GBN', 'INCOME_GBN', 'MARRY_Y', 'NUMCHILD'], dtype='object')\n",
      "marry_in1\n",
      "Index(['AGE_GBN', 'ADD_GBN', 'INCOME_GBN', 'MARRY_Y', 'DOUBLE_IN'], dtype='object')\n",
      "marry_in2\n",
      "Index(['AGE_GBN', 'ADD_GBN', 'INCOME_GBN', 'MARRY_Y', 'DOUBLE_IN'], dtype='object')\n",
      "marry_in1\n",
      "Index(['AGE_GBN', 'ADD_GBN', 'INCOME_GBN', 'MARRY_Y', 'DOUBLE_IN', 'NUMCHILD'], dtype='object')\n",
      "marry_in2\n",
      "Index(['AGE_GBN', 'ADD_GBN', 'INCOME_GBN', 'MARRY_Y', 'DOUBLE_IN', 'NUMCHILD'], dtype='object')\n",
      "marry not in\n",
      "Index(['AGE_GBN', 'ADD_GBN', 'INCOME_GBN'], dtype='object')\n",
      "marry not in\n",
      "Index(['AGE_GBN', 'ADD_GBN', 'INCOME_GBN', 'NUMCHILD'], dtype='object')\n",
      "marry not in\n",
      "Index(['AGE_GBN', 'ADD_GBN', 'INCOME_GBN', 'DOUBLE_IN'], dtype='object')\n",
      "marry not in\n",
      "Index(['AGE_GBN', 'ADD_GBN', 'INCOME_GBN', 'DOUBLE_IN', 'NUMCHILD'], dtype='object')\n"
     ]
    }
   ],
   "source": [
    "ass = processing(data, data_set,'ASS_FIN')"
   ]
  },
  {
   "cell_type": "code",
   "execution_count": 58,
   "metadata": {},
   "outputs": [
    {
     "data": {
      "text/plain": [
       "0"
      ]
     },
     "execution_count": 58,
     "metadata": {},
     "output_type": "execute_result"
    }
   ],
   "source": [
    "sum(ass['ASS_FIN'].isnull())"
   ]
  },
  {
   "cell_type": "code",
   "execution_count": 62,
   "metadata": {},
   "outputs": [
    {
     "name": "stdout",
     "output_type": "stream",
     "text": [
      "marry_in1\n",
      "Index(['AGE_GBN', 'ADD_GBN', 'INCOME_GBN', 'MARRY_Y'], dtype='object')\n",
      "marry_in2\n",
      "Index(['AGE_GBN', 'ADD_GBN', 'INCOME_GBN', 'MARRY_Y'], dtype='object')\n",
      "marry_in1\n",
      "Index(['AGE_GBN', 'ADD_GBN', 'INCOME_GBN', 'MARRY_Y', 'NUMCHILD'], dtype='object')\n",
      "marry_in2\n",
      "Index(['AGE_GBN', 'ADD_GBN', 'INCOME_GBN', 'MARRY_Y', 'NUMCHILD'], dtype='object')\n",
      "marry_in1\n",
      "Index(['AGE_GBN', 'ADD_GBN', 'INCOME_GBN', 'MARRY_Y', 'DOUBLE_IN'], dtype='object')\n",
      "marry_in2\n",
      "Index(['AGE_GBN', 'ADD_GBN', 'INCOME_GBN', 'MARRY_Y', 'DOUBLE_IN'], dtype='object')\n",
      "marry_in1\n",
      "Index(['AGE_GBN', 'ADD_GBN', 'INCOME_GBN', 'MARRY_Y', 'DOUBLE_IN', 'NUMCHILD'], dtype='object')\n",
      "marry_in2\n",
      "Index(['AGE_GBN', 'ADD_GBN', 'INCOME_GBN', 'MARRY_Y', 'DOUBLE_IN', 'NUMCHILD'], dtype='object')\n",
      "marry not in\n",
      "Index(['AGE_GBN', 'ADD_GBN', 'INCOME_GBN'], dtype='object')\n",
      "marry not in\n",
      "Index(['AGE_GBN', 'ADD_GBN', 'INCOME_GBN', 'NUMCHILD'], dtype='object')\n",
      "marry not in\n",
      "Index(['AGE_GBN', 'ADD_GBN', 'INCOME_GBN', 'DOUBLE_IN'], dtype='object')\n",
      "marry not in\n",
      "Index(['AGE_GBN', 'ADD_GBN', 'INCOME_GBN', 'DOUBLE_IN', 'NUMCHILD'], dtype='object')\n"
     ]
    }
   ],
   "source": [
    "#stack_model = make_stack_model(data, 'M_TOT_SAVING', models)\n",
    "totm = processing(data, data_set,'M_TOT_SAVING')"
   ]
  },
  {
   "cell_type": "code",
   "execution_count": 67,
   "metadata": {},
   "outputs": [
    {
     "data": {
      "text/plain": [
       "0"
      ]
     },
     "execution_count": 67,
     "metadata": {},
     "output_type": "execute_result"
    }
   ],
   "source": [
    "sum(totm['M_TOT_SAVING'].isnull())"
   ]
  },
  {
   "cell_type": "code",
   "execution_count": 68,
   "metadata": {},
   "outputs": [
    {
     "name": "stdout",
     "output_type": "stream",
     "text": [
      "marry_in1\n",
      "Index(['AGE_GBN', 'ADD_GBN', 'INCOME_GBN', 'MARRY_Y'], dtype='object')\n",
      "marry_in2\n",
      "Index(['AGE_GBN', 'ADD_GBN', 'INCOME_GBN', 'MARRY_Y'], dtype='object')\n",
      "marry_in1\n",
      "Index(['AGE_GBN', 'ADD_GBN', 'INCOME_GBN', 'MARRY_Y', 'NUMCHILD'], dtype='object')\n",
      "marry_in2\n",
      "Index(['AGE_GBN', 'ADD_GBN', 'INCOME_GBN', 'MARRY_Y', 'NUMCHILD'], dtype='object')\n",
      "marry_in1\n",
      "Index(['AGE_GBN', 'ADD_GBN', 'INCOME_GBN', 'MARRY_Y', 'DOUBLE_IN'], dtype='object')\n",
      "marry_in2\n",
      "Index(['AGE_GBN', 'ADD_GBN', 'INCOME_GBN', 'MARRY_Y', 'DOUBLE_IN'], dtype='object')\n",
      "marry_in1\n",
      "Index(['AGE_GBN', 'ADD_GBN', 'INCOME_GBN', 'MARRY_Y', 'DOUBLE_IN', 'NUMCHILD'], dtype='object')\n",
      "marry_in2\n",
      "Index(['AGE_GBN', 'ADD_GBN', 'INCOME_GBN', 'MARRY_Y', 'DOUBLE_IN', 'NUMCHILD'], dtype='object')\n",
      "marry not in\n",
      "Index(['AGE_GBN', 'ADD_GBN', 'INCOME_GBN'], dtype='object')\n",
      "marry not in\n",
      "Index(['AGE_GBN', 'ADD_GBN', 'INCOME_GBN', 'NUMCHILD'], dtype='object')\n",
      "marry not in\n",
      "Index(['AGE_GBN', 'ADD_GBN', 'INCOME_GBN', 'DOUBLE_IN'], dtype='object')\n",
      "marry not in\n",
      "Index(['AGE_GBN', 'ADD_GBN', 'INCOME_GBN', 'DOUBLE_IN', 'NUMCHILD'], dtype='object')\n"
     ]
    }
   ],
   "source": [
    "#stack_model = make_stack_model(data, 'TOT_SOBI', models)\n",
    "tots = processing(data, data_set,'TOT_SOBI')"
   ]
  },
  {
   "cell_type": "code",
   "execution_count": 69,
   "metadata": {},
   "outputs": [
    {
     "data": {
      "text/plain": [
       "0"
      ]
     },
     "execution_count": 69,
     "metadata": {},
     "output_type": "execute_result"
    }
   ],
   "source": [
    "sum(tots['TOT_SOBI'].isnull())"
   ]
  },
  {
   "cell_type": "code",
   "execution_count": null,
   "metadata": {},
   "outputs": [],
   "source": [
    "#for k in data_set.iloc[:,7:].drop(['ASS_FIN', 'M_TOT_SAVING', 'TOT_SOBI', 'M_CRD_SPD'], axis = 1).columns:\n",
    "#    processing(data, data_set, k)"
   ]
  },
  {
   "cell_type": "markdown",
   "metadata": {},
   "source": [
    "### RESULT"
   ]
  },
  {
   "cell_type": "code",
   "execution_count": 59,
   "metadata": {},
   "outputs": [
    {
     "data": {
      "text/plain": [
       "count    141750.000000\n",
       "mean       2306.794810\n",
       "std        2430.491382\n",
       "min          72.144203\n",
       "25%         701.126038\n",
       "50%        1456.445930\n",
       "75%        3228.005865\n",
       "max       53657.089844\n",
       "Name: ASS_FIN, dtype: float64"
      ]
     },
     "execution_count": 59,
     "metadata": {},
     "output_type": "execute_result"
    }
   ],
   "source": [
    "ass['ASS_FIN'].describe()"
   ]
  },
  {
   "cell_type": "code",
   "execution_count": 60,
   "metadata": {},
   "outputs": [
    {
     "data": {
      "text/plain": [
       "count     17076.000000\n",
       "mean       5797.606582\n",
       "std       10530.195655\n",
       "min          30.000000\n",
       "25%         600.000000\n",
       "50%        2200.000000\n",
       "75%        6300.000000\n",
       "max      186200.000000\n",
       "Name: ASS_FIN, dtype: float64"
      ]
     },
     "execution_count": 60,
     "metadata": {},
     "output_type": "execute_result"
    }
   ],
   "source": [
    "data['ASS_FIN'].describe()"
   ]
  },
  {
   "cell_type": "code",
   "execution_count": 82,
   "metadata": {},
   "outputs": [
    {
     "data": {
      "text/plain": [
       "<matplotlib.axes._subplots.AxesSubplot at 0x1c780fcceb8>"
      ]
     },
     "execution_count": 82,
     "metadata": {},
     "output_type": "execute_result"
    },
    {
     "data": {
      "image/png": "[encoded data removed]",
      "text/plain": [
       "<matplotlib.figure.Figure at 0x1c780fe1908>"
      ]
     },
     "metadata": {},
     "output_type": "display_data"
    }
   ],
   "source": [
    "sns.distplot(ass['ASS_FIN'])"
   ]
  },
  {
   "cell_type": "code",
   "execution_count": 81,
   "metadata": {},
   "outputs": [
    {
     "data": {
      "text/plain": [
       "<matplotlib.axes._subplots.AxesSubplot at 0x1c780b73400>"
      ]
     },
     "execution_count": 81,
     "metadata": {},
     "output_type": "execute_result"
    },
    {
     "data": {
      "image/png": "[encoded data removed]",
      "text/plain": [
       "<matplotlib.figure.Figure at 0x1c780b11e48>"
      ]
     },
     "metadata": {},
     "output_type": "display_data"
    }
   ],
   "source": [
    "sns.distplot(data['ASS_FIN'])"
   ]
  },
  {
   "cell_type": "code",
   "execution_count": 63,
   "metadata": {},
   "outputs": [
    {
     "data": {
      "text/plain": [
       "count    141750.000000\n",
       "mean         58.095275\n",
       "std          53.261449\n",
       "min           0.278316\n",
       "25%          19.347044\n",
       "50%          41.050763\n",
       "75%          81.420015\n",
       "max         521.268059\n",
       "Name: M_TOT_SAVING, dtype: float64"
      ]
     },
     "execution_count": 63,
     "metadata": {},
     "output_type": "execute_result"
    }
   ],
   "source": [
    "totm['M_TOT_SAVING'].describe()"
   ]
  },
  {
   "cell_type": "code",
   "execution_count": 64,
   "metadata": {},
   "outputs": [
    {
     "data": {
      "text/plain": [
       "count    17076.000000\n",
       "mean       103.914558\n",
       "std        129.567122\n",
       "min          1.000000\n",
       "25%         30.000000\n",
       "50%         70.000000\n",
       "75%        135.000000\n",
       "max       2500.000000\n",
       "Name: M_TOT_SAVING, dtype: float64"
      ]
     },
     "execution_count": 64,
     "metadata": {},
     "output_type": "execute_result"
    }
   ],
   "source": [
    "data['M_TOT_SAVING'].describe()"
   ]
  },
  {
   "cell_type": "code",
   "execution_count": 80,
   "metadata": {},
   "outputs": [
    {
     "data": {
      "text/plain": [
       "<matplotlib.axes._subplots.AxesSubplot at 0x1c780b04ef0>"
      ]
     },
     "execution_count": 80,
     "metadata": {},
     "output_type": "execute_result"
    },
    {
     "data": {
      "image/png": "[encoded data removed]",
      "text/plain": [
       "<matplotlib.figure.Figure at 0x1c7fe701c18>"
      ]
     },
     "metadata": {},
     "output_type": "display_data"
    }
   ],
   "source": [
    "sns.distplot(totm['M_TOT_SAVING'])"
   ]
  },
  {
   "cell_type": "code",
   "execution_count": 79,
   "metadata": {},
   "outputs": [
    {
     "data": {
      "text/plain": [
       "<matplotlib.axes._subplots.AxesSubplot at 0x1c7fb254710>"
      ]
     },
     "execution_count": 79,
     "metadata": {},
     "output_type": "execute_result"
    },
    {
     "data": {
      "image/png": "[encoded data removed]",
      "text/plain": [
       "<matplotlib.figure.Figure at 0x1c7fb29ac88>"
      ]
     },
     "metadata": {},
     "output_type": "display_data"
    }
   ],
   "source": [
    "sns.distplot(data['M_TOT_SAVING'])"
   ]
  },
  {
   "cell_type": "code",
   "execution_count": 70,
   "metadata": {},
   "outputs": [
    {
     "data": {
      "text/plain": [
       "count    141750.000000\n",
       "mean        165.984863\n",
       "std          98.034812\n",
       "min           4.949743\n",
       "25%          91.471802\n",
       "50%         155.456085\n",
       "75%         225.429699\n",
       "max         624.955688\n",
       "Name: TOT_SOBI, dtype: float64"
      ]
     },
     "execution_count": 70,
     "metadata": {},
     "output_type": "execute_result"
    }
   ],
   "source": [
    "tots['TOT_SOBI'].describe()"
   ]
  },
  {
   "cell_type": "code",
   "execution_count": 71,
   "metadata": {},
   "outputs": [
    {
     "data": {
      "text/plain": [
       "count    17076.000000\n",
       "mean       221.579175\n",
       "std        193.530906\n",
       "min          1.000000\n",
       "25%        100.000000\n",
       "50%        200.000000\n",
       "75%        300.000000\n",
       "max       6000.000000\n",
       "Name: TOT_SOBI, dtype: float64"
      ]
     },
     "execution_count": 71,
     "metadata": {},
     "output_type": "execute_result"
    }
   ],
   "source": [
    "data['TOT_SOBI'].describe()"
   ]
  },
  {
   "cell_type": "code",
   "execution_count": 78,
   "metadata": {},
   "outputs": [
    {
     "data": {
      "text/plain": [
       "<matplotlib.axes._subplots.AxesSubplot at 0x1c7fe7ad5f8>"
      ]
     },
     "execution_count": 78,
     "metadata": {},
     "output_type": "execute_result"
    },
    {
     "data": {
      "image/png": "[encoded data removed]",
      "text/plain": [
       "<matplotlib.figure.Figure at 0x1c7fb290438>"
      ]
     },
     "metadata": {},
     "output_type": "display_data"
    }
   ],
   "source": [
    "sns.distplot(tots['TOT_SOBI'])"
   ]
  },
  {
   "cell_type": "code",
   "execution_count": 77,
   "metadata": {},
   "outputs": [
    {
     "data": {
      "text/plain": [
       "<matplotlib.axes._subplots.AxesSubplot at 0x1c7fb428ba8>"
      ]
     },
     "execution_count": 77,
     "metadata": {},
     "output_type": "execute_result"
    },
    {
     "data": {
      "image/png": "[encoded data removed]",
      "text/plain": [
       "<matplotlib.figure.Figure at 0x1c7fe7f37f0>"
      ]
     },
     "metadata": {},
     "output_type": "display_data"
    }
   ],
   "source": [
    "sns.distplot(tots['TOT_SOBI'])"
   ]
  },
  {
   "cell_type": "code",
   "execution_count": 73,
   "metadata": {},
   "outputs": [
    {
     "data": {
      "text/plain": [
       "<matplotlib.axes._subplots.AxesSubplot at 0x1c7f881f9e8>"
      ]
     },
     "execution_count": 73,
     "metadata": {},
     "output_type": "execute_result"
    },
    {
     "data": {
      "image/png": "[encoded data removed]",
      "text/plain": [
       "<matplotlib.figure.Figure at 0x1c7fb361390>"
      ]
     },
     "metadata": {},
     "output_type": "display_data"
    }
   ],
   "source": [
    "sns.distplot(np.log1p(data['TOT_SOBI']))"
   ]
  },
  {
   "cell_type": "code",
   "execution_count": 74,
   "metadata": {},
   "outputs": [],
   "source": [
    "data_set1 = pd.concat([raw['SEX_GBN'], data_set['AGE_GBN'], raw['JOB_GBN'], data_set.iloc[:,1:6], ass['ASS_FIN'], totm['M_TOT_SAVING'], tots['TOT_SOBI']], axis = 1)"
   ]
  },
  {
   "cell_type": "code",
   "execution_count": 75,
   "metadata": {},
   "outputs": [
    {
     "data": {
      "text/html": [
       "<div>\n",
       "<style scoped>\n",
       "    .dataframe tbody tr th:only-of-type {\n",
       "        vertical-align: middle;\n",
       "    }\n",
       "\n",
       "    .dataframe tbody tr th {\n",
       "        vertical-align: top;\n",
       "    }\n",
       "\n",
       "    .dataframe thead th {\n",
       "        text-align: right;\n",
       "    }\n",
       "</style>\n",
       "<table border=\"1\" class=\"dataframe\">\n",
       "  <thead>\n",
       "    <tr style=\"text-align: right;\">\n",
       "      <th></th>\n",
       "      <th>SEX_GBN</th>\n",
       "      <th>AGE_GBN</th>\n",
       "      <th>JOB_GBN</th>\n",
       "      <th>ADD_GBN</th>\n",
       "      <th>INCOME_GBN</th>\n",
       "      <th>MARRY_Y</th>\n",
       "      <th>DOUBLE_IN</th>\n",
       "      <th>NUMCHILD</th>\n",
       "      <th>ASS_FIN</th>\n",
       "      <th>M_TOT_SAVING</th>\n",
       "      <th>TOT_SOBI</th>\n",
       "    </tr>\n",
       "  </thead>\n",
       "  <tbody>\n",
       "    <tr>\n",
       "      <th>0</th>\n",
       "      <td>1</td>\n",
       "      <td>2</td>\n",
       "      <td>2</td>\n",
       "      <td>1</td>\n",
       "      <td>1</td>\n",
       "      <td>1.0</td>\n",
       "      <td>1.0</td>\n",
       "      <td>0.0</td>\n",
       "      <td>149.272428</td>\n",
       "      <td>18.691837</td>\n",
       "      <td>29.998798</td>\n",
       "    </tr>\n",
       "    <tr>\n",
       "      <th>1</th>\n",
       "      <td>1</td>\n",
       "      <td>2</td>\n",
       "      <td>2</td>\n",
       "      <td>1</td>\n",
       "      <td>1</td>\n",
       "      <td>2.0</td>\n",
       "      <td>1.0</td>\n",
       "      <td>0.0</td>\n",
       "      <td>393.793818</td>\n",
       "      <td>13.060307</td>\n",
       "      <td>26.676347</td>\n",
       "    </tr>\n",
       "    <tr>\n",
       "      <th>2</th>\n",
       "      <td>1</td>\n",
       "      <td>2</td>\n",
       "      <td>2</td>\n",
       "      <td>1</td>\n",
       "      <td>1</td>\n",
       "      <td>4.0</td>\n",
       "      <td>1.0</td>\n",
       "      <td>0.0</td>\n",
       "      <td>483.979332</td>\n",
       "      <td>5.877057</td>\n",
       "      <td>33.261362</td>\n",
       "    </tr>\n",
       "    <tr>\n",
       "      <th>3</th>\n",
       "      <td>1</td>\n",
       "      <td>2</td>\n",
       "      <td>2</td>\n",
       "      <td>1</td>\n",
       "      <td>1</td>\n",
       "      <td>1.0</td>\n",
       "      <td>2.0</td>\n",
       "      <td>0.0</td>\n",
       "      <td>149.272428</td>\n",
       "      <td>18.691837</td>\n",
       "      <td>29.998798</td>\n",
       "    </tr>\n",
       "    <tr>\n",
       "      <th>4</th>\n",
       "      <td>1</td>\n",
       "      <td>2</td>\n",
       "      <td>2</td>\n",
       "      <td>1</td>\n",
       "      <td>1</td>\n",
       "      <td>2.0</td>\n",
       "      <td>2.0</td>\n",
       "      <td>0.0</td>\n",
       "      <td>416.393802</td>\n",
       "      <td>13.540199</td>\n",
       "      <td>12.658689</td>\n",
       "    </tr>\n",
       "  </tbody>\n",
       "</table>\n",
       "</div>"
      ],
      "text/plain": [
       "   SEX_GBN  AGE_GBN  JOB_GBN  ADD_GBN  INCOME_GBN  MARRY_Y  DOUBLE_IN  \\\n",
       "0        1        2        2        1           1      1.0        1.0   \n",
       "1        1        2        2        1           1      2.0        1.0   \n",
       "2        1        2        2        1           1      4.0        1.0   \n",
       "3        1        2        2        1           1      1.0        2.0   \n",
       "4        1        2        2        1           1      2.0        2.0   \n",
       "\n",
       "   NUMCHILD     ASS_FIN  M_TOT_SAVING   TOT_SOBI  \n",
       "0       0.0  149.272428     18.691837  29.998798  \n",
       "1       0.0  393.793818     13.060307  26.676347  \n",
       "2       0.0  483.979332      5.877057  33.261362  \n",
       "3       0.0  149.272428     18.691837  29.998798  \n",
       "4       0.0  416.393802     13.540199  12.658689  "
      ]
     },
     "execution_count": 75,
     "metadata": {},
     "output_type": "execute_result"
    }
   ],
   "source": [
    "data_set1.head()"
   ]
  },
  {
   "cell_type": "code",
   "execution_count": 76,
   "metadata": {},
   "outputs": [],
   "source": [
    "data_set1.to_csv('SHINHANBANK_Mission_NO1.csv', mode = 'w', index = False)"
   ]
  }
 ],
 "metadata": {
  "kernelspec": {
   "display_name": "Python 3",
   "language": "python",
   "name": "python3"
  },
  "language_info": {
   "codemirror_mode": {
    "name": "ipython",
    "version": 3
   },
   "file_extension": ".py",
   "mimetype": "text/x-python",
   "name": "python",
   "nbconvert_exporter": "python",
   "pygments_lexer": "ipython3",
   "version": "3.6.5"
  }
 },
 "nbformat": 4,
 "nbformat_minor": 2
}
