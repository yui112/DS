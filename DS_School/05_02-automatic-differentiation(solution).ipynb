{
 "cells": [
  {
   "cell_type": "code",
   "execution_count": 1,
   "metadata": {
    "collapsed": true
   },
   "outputs": [],
   "source": [
    "%matplotlib inline\n",
    "import numpy as np\n",
    "import matplotlib.pyplot as plt"
   ]
  },
  {
   "cell_type": "markdown",
   "metadata": {},
   "source": [
    "### Define Sigmoid"
   ]
  },
  {
   "cell_type": "code",
   "execution_count": 1,
   "metadata": {},
   "outputs": [
    {
     "data": {
      "text/plain": [
       "[<matplotlib.lines.Line2D at 0x11c502390>]"
      ]
     },
     "execution_count": 1,
     "metadata": {},
     "output_type": "execute_result"
    },
    {
     "data": {
      "image/png": "[encoded data removed]",
      "text/plain": [
       "<matplotlib.figure.Figure at 0x113ffdba8>"
      ]
     },
     "metadata": {},
     "output_type": "display_data"
    }
   ],
   "source": [
    "def sigmoid(n):\n",
    "    return 1 / (1 + np.exp(-n))\n",
    "\n",
    "xx = np.linspace(start=-9, stop=+9)\n",
    "yy = sigmoid(xx)\n",
    "\n",
    "plt.plot(xx, yy)"
   ]
  },
  {
   "cell_type": "code",
   "execution_count": 10,
   "metadata": {},
   "outputs": [
    {
     "name": "stdout",
     "output_type": "stream",
     "text": [
      "0.000123379349765\n",
      "0.25\n",
      "0.000123379349765\n"
     ]
    },
    {
     "data": {
      "text/plain": [
       "[<matplotlib.lines.Line2D at 0x11a24e4e0>]"
      ]
     },
     "execution_count": 10,
     "metadata": {},
     "output_type": "execute_result"
    },
    {
     "data": {
      "image/png": "[encoded data removed]",
      "text/plain": [
       "<matplotlib.figure.Figure at 0x11a1b4550>"
      ]
     },
     "metadata": {},
     "output_type": "display_data"
    }
   ],
   "source": [
    "def sigmoid_derivative(n):\n",
    "    return sigmoid(n) * (1 - sigmoid(n))\n",
    "\n",
    "print(sigmoid_derivative(-9))\n",
    "print(sigmoid_derivative(0))\n",
    "print(sigmoid_derivative(+9))\n",
    "\n",
    "xx = np.linspace(start=-9, stop=+9)\n",
    "yy = sigmoid_derivative(xx)\n",
    "\n",
    "plt.plot(xx, yy)"
   ]
  },
  {
   "cell_type": "markdown",
   "metadata": {},
   "source": [
    "### Automatic Differenciation"
   ]
  },
  {
   "cell_type": "code",
   "execution_count": 17,
   "metadata": {},
   "outputs": [
    {
     "name": "stdout",
     "output_type": "stream",
     "text": [
      "6\n",
      "(3, 2)\n"
     ]
    }
   ],
   "source": [
    "class Multiply:\n",
    "    def forward(self, x, y):\n",
    "        self.x = x\n",
    "        self.y = y\n",
    "\n",
    "        return self.x * self.y\n",
    "    \n",
    "    def backward(self):\n",
    "        return self.y, self.x\n",
    "        \n",
    "    \n",
    "multiply = Multiply()\n",
    "print(multiply.forward(2, 3))\n",
    "print(multiply.backward())"
   ]
  },
  {
   "cell_type": "code",
   "execution_count": 20,
   "metadata": {},
   "outputs": [
    {
     "name": "stdout",
     "output_type": "stream",
     "text": [
      "1.0\n",
      "1.0\n"
     ]
    }
   ],
   "source": [
    "class Exp:\n",
    "    def forward(self, x):\n",
    "        self.x = x\n",
    "\n",
    "        return np.exp(self.x)\n",
    "    \n",
    "    def backward(self):\n",
    "        return np.exp(self.x)\n",
    "\n",
    "exp = Exp()\n",
    "print(exp.forward(0))\n",
    "print(exp.backward())"
   ]
  },
  {
   "cell_type": "code",
   "execution_count": 24,
   "metadata": {},
   "outputs": [
    {
     "name": "stdout",
     "output_type": "stream",
     "text": [
      "5\n",
      "(1, 1)\n"
     ]
    }
   ],
   "source": [
    "class Add:\n",
    "    def forward(self, x, y):\n",
    "        self.x = x\n",
    "        self.y = y\n",
    "\n",
    "        return self.x + self.y\n",
    "    \n",
    "    def backward(self):\n",
    "        return 1, 1\n",
    "\n",
    "add = Add()\n",
    "print(add.forward(2, 3))\n",
    "print(add.backward())"
   ]
  },
  {
   "cell_type": "code",
   "execution_count": 48,
   "metadata": {},
   "outputs": [
    {
     "name": "stdout",
     "output_type": "stream",
     "text": [
      "0.5\n",
      "-0.25\n"
     ]
    }
   ],
   "source": [
    "class Flip:\n",
    "    def forward(self, x):\n",
    "        self.x = x\n",
    "\n",
    "        return 1 / self.x\n",
    "    \n",
    "    def backward(self):\n",
    "        return -1.0 / (self.x ** 2)\n",
    "\n",
    "flip = Flip()\n",
    "print(flip.forward(2))\n",
    "print(flip.backward())"
   ]
  },
  {
   "cell_type": "code",
   "execution_count": 49,
   "metadata": {},
   "outputs": [
    {
     "data": {
      "text/plain": [
       "True"
      ]
     },
     "execution_count": 49,
     "metadata": {},
     "output_type": "execute_result"
    }
   ],
   "source": [
    "x = +9\n",
    "\n",
    "multiply = Multiply()\n",
    "exp = Exp()\n",
    "add = Add()\n",
    "flip = Flip()\n",
    "\n",
    "forward1 = multiply.forward(x, -1)\n",
    "forward2 = exp.forward(forward1)\n",
    "forward3 = add.forward(forward2, 1)\n",
    "forward4 = flip.forward(forward3)\n",
    "\n",
    "forward4 == sigmoid(9)"
   ]
  },
  {
   "cell_type": "code",
   "execution_count": 54,
   "metadata": {},
   "outputs": [
    {
     "data": {
      "text/plain": [
       "True"
      ]
     },
     "execution_count": 54,
     "metadata": {},
     "output_type": "execute_result"
    }
   ],
   "source": [
    "backward1 = flip.backward()\n",
    "backward2 = backward1 * add.backward()[0]\n",
    "backward3 = backward2 * exp.backward()\n",
    "backward4 = backward3 * multiply.backward()[0]\n",
    "\n",
    "round(backward4, 5) == round(sigmoid_derivative(9), 5)"
   ]
  },
  {
   "cell_type": "code",
   "execution_count": null,
   "metadata": {
    "collapsed": true
   },
   "outputs": [],
   "source": []
  },
  {
   "cell_type": "code",
   "execution_count": null,
   "metadata": {
    "collapsed": true
   },
   "outputs": [],
   "source": []
  }
 ],
 "metadata": {
  "kernelspec": {
   "display_name": "Python 3",
   "language": "python",
   "name": "python3"
  },
  "language_info": {
   "codemirror_mode": {
    "name": "ipython",
    "version": 3
   },
   "file_extension": ".py",
   "mimetype": "text/x-python",
   "name": "python",
   "nbconvert_exporter": "python",
   "pygments_lexer": "ipython3",
   "version": "3.6.3"
  }
 },
 "nbformat": 4,
 "nbformat_minor": 2
}
