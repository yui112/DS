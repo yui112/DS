{
 "cells": [
  {
   "cell_type": "code",
   "execution_count": 3,
   "metadata": {},
   "outputs": [],
   "source": [
    "import tensorflow as tf\n",
    "import numpy as np"
   ]
  },
  {
   "cell_type": "code",
   "execution_count": 47,
   "metadata": {},
   "outputs": [],
   "source": [
    "#그래프를 빌드한 상황\n",
    "# x_train = [1,2,3]\n",
    "# y_train = [11,20,29]\n",
    "\n",
    "# w=9, b=2\n",
    "\n",
    "W = tf.Variable(tf.random_normal([1]), name='weight')\n",
    "b = tf.Variable(tf.random_normal([1]), name='bias')\n",
    "\n",
    "X = tf.placeholder(tf.float32, shape=[None])\n",
    "Y = tf.placeholder(tf.float32, shape=[None])\n",
    "\n",
    "hypothesis = x_train * W + b\n",
    "\n",
    "learning_rate = 0.01\n",
    "cost = tf.reduce_mean(tf.square(hypothesis - Y))\n",
    "gradient = tf.reduce_mean((W*X-Y)*X)\n",
    "descent = W - learning_rate*gradient\n",
    "update = W.assign(descent)\n",
    "\n",
    "# optimizer = tf.train.GradientDescentOptimizer(learning_rate=0.01)\n",
    "# train = optimizer.minimize(cost)"
   ]
  },
  {
   "cell_type": "code",
   "execution_count": 48,
   "metadata": {},
   "outputs": [
    {
     "name": "stdout",
     "output_type": "stream",
     "text": [
      "Step 0 Cost: [2.5993886] W: [8.991418] b: [0.01950853]\n",
      "Step 100 Cost: [8.946212] W: [8.991418] b: [0.01950853]\n",
      "Step 200 Cost: [8.999547] W: [8.991418] b: [0.01950853]\n",
      "Step 300 Cost: [8.99999] W: [8.991418] b: [0.01950853]\n",
      "Step 400 Cost: [8.99999] W: [8.991418] b: [0.01950853]\n",
      "Step 500 Cost: [8.99999] W: [8.991418] b: [0.01950853]\n",
      "Step 600 Cost: [8.99999] W: [8.991418] b: [0.01950853]\n",
      "Step 700 Cost: [8.99999] W: [8.991418] b: [0.01950853]\n",
      "Step 800 Cost: [8.99999] W: [8.991418] b: [0.01950853]\n",
      "Step 900 Cost: [8.99999] W: [8.991418] b: [0.01950853]\n",
      "Step 1000 Cost: [8.99999] W: [8.991418] b: [0.01950853]\n",
      "Step 1100 Cost: [8.99999] W: [8.991418] b: [0.01950853]\n",
      "Step 1200 Cost: [8.99999] W: [8.991418] b: [0.01950853]\n",
      "Step 1300 Cost: [8.99999] W: [8.991418] b: [0.01950853]\n",
      "Step 1400 Cost: [8.99999] W: [8.991418] b: [0.01950853]\n",
      "Step 1500 Cost: [8.99999] W: [8.991418] b: [0.01950853]\n",
      "Step 1600 Cost: [8.99999] W: [8.991418] b: [0.01950853]\n",
      "Step 1700 Cost: [8.99999] W: [8.991418] b: [0.01950853]\n",
      "Step 1800 Cost: [8.99999] W: [8.991418] b: [0.01950853]\n",
      "Step 1900 Cost: [8.99999] W: [8.991418] b: [0.01950853]\n"
     ]
    }
   ],
   "source": [
    "#여기서부터 실행이기 때문에 변수를 초기화 해주는 것이 필요함\n",
    "#바텀 업 방식이기때문에 마지막 코드에 변수만 실행 해주면된다.\n",
    "\n",
    "sess = tf.Session()\n",
    "sess.run(tf.global_variables_initializer())\n",
    "\n",
    "for step in range(2000):\n",
    "    _, c = sess.run([cost, update], feed_dict={X: [1,2,3],Y: [9,18,27]})\n",
    "    \n",
    "    if step % 100 == 0:\n",
    "        print('Step', step, \"Cost:\", c,\"W:\", w, \"b:\", k)"
   ]
  },
  {
   "cell_type": "code",
   "execution_count": 49,
   "metadata": {},
   "outputs": [],
   "source": [
    "####"
   ]
  },
  {
   "cell_type": "code",
   "execution_count": 64,
   "metadata": {},
   "outputs": [],
   "source": [
    "x1_data = [10., 12., 15., 16., 85.]\n",
    "x2_data = [13., 15., 25., 36., 45.]\n",
    "x3_data = [80., 2., 17., 26., 55.]\n",
    "y_data = [152., 188., 355., 400., 200.]\n",
    "\n",
    "x1 = tf.placeholder(tf.float32)\n",
    "x2 = tf.placeholder(tf.float32)\n",
    "x3 = tf.placeholder(tf.float32)\n",
    "Y = tf.placeholder(tf.float32)\n",
    "\n",
    "w1 = tf.Variable(tf.random_normal([1]), name='weight1')\n",
    "w2 = tf.Variable(tf.random_normal([1]), name='weight2')\n",
    "w3 = tf.Variable(tf.random_normal([1]), name='weight3')\n",
    "b = tf.Variable(tf.random_normal([1]), name='bias')\n",
    "\n",
    "hypothesis = x1 * w1 + x2 * w2 + x3 * w3 + b\n",
    "cost = tf.reduce_mean(tf.square(hypothesis-Y))\n",
    "optimizer = tf.train.GradientDescentOptimizer(learning_rate=1e-4)\n",
    "train = optimizer.minimize(cost)"
   ]
  },
  {
   "cell_type": "code",
   "execution_count": 65,
   "metadata": {},
   "outputs": [
    {
     "name": "stdout",
     "output_type": "stream",
     "text": [
      "Step: 0 Cost: 61465.855 Hy: [-2.2619853 20.820349  34.18482   52.1725    22.019344 ]\n",
      "Step: 100 Cost: 1606.1395 Hy: [147.4226  152.70819 282.06766 434.8698  215.13945]\n",
      "Step: 200 Cost: 1514.3429 Hy: [145.30183 157.74959 291.0635  449.72385 207.17113]\n",
      "Step: 300 Cost: 1511.1042 Hy: [145.19243 158.13878 291.6157  450.5482  206.69301]\n",
      "Step: 400 Cost: 1508.1797 Hy: [145.2012  158.2545  291.67188 450.5484  206.65494]\n",
      "Step: 500 Cost: 1505.2684 Hy: [145.21681 158.35397 291.6988  450.50024 206.64279]\n",
      "Step: 600 Cost: 1502.3676 Hy: [145.23288 158.45238 291.72406 450.44952 206.632  ]\n",
      "Step: 700 Cost: 1499.4791 Hy: [145.24889 158.5505  291.7491  450.39868 206.62144]\n",
      "Step: 800 Cost: 1496.5984 Hy: [145.26491 158.64847 291.77414 450.34784 206.61087]\n",
      "Step: 900 Cost: 1493.7283 Hy: [145.28085 158.74622 291.79913 450.2971  206.60033]\n",
      "Step: 1000 Cost: 1490.8704 Hy: [145.29688 158.84372 291.82385 450.2462  206.58986]\n",
      "Step: 1100 Cost: 1488.0222 Hy: [145.31279 158.94109 291.84866 450.19553 206.5795 ]\n",
      "Step: 1200 Cost: 1485.1843 Hy: [145.32864 159.03833 291.87347 450.14505 206.56903]\n",
      "Step: 1300 Cost: 1482.3558 Hy: [145.3445  159.1354  291.89832 450.09473 206.55855]\n",
      "Step: 1400 Cost: 1479.5403 Hy: [145.3603  159.23228 291.92307 450.04456 206.54808]\n",
      "Step: 1500 Cost: 1476.732 Hy: [145.37613 159.32903 291.94778 449.99435 206.53777]\n",
      "Step: 1600 Cost: 1473.9357 Hy: [145.39189 159.42555 291.97244 449.9443  206.5273 ]\n",
      "Step: 1700 Cost: 1471.1506 Hy: [145.40761 159.52188 291.997   449.89432 206.51692]\n",
      "Step: 1800 Cost: 1468.3728 Hy: [145.42334 159.61803 292.0215  449.84427 206.50652]\n",
      "Step: 1900 Cost: 1465.6077 Hy: [145.4391  159.71394 292.04587 449.79425 206.49632]\n"
     ]
    }
   ],
   "source": [
    "sess = tf.Session()\n",
    "sess.run(tf.global_variables_initializer())\n",
    "\n",
    "for step in range(2000):\n",
    "    cost_val, hy_val, _ = sess.run([cost, hypothesis, train], feed_dict={x1:x1_data, x2:x2_data,\n",
    "                                                                        x3:x3_data, Y:y_data})\n",
    "    \n",
    "    if step % 100 == 0 :\n",
    "        print(\"Step:\" ,step, \"Cost:\", cost_val, \"Hy:\", hy_val)"
   ]
  },
  {
   "cell_type": "code",
   "execution_count": null,
   "metadata": {},
   "outputs": [],
   "source": []
  }
 ],
 "metadata": {
  "kernelspec": {
   "display_name": "Python 3",
   "language": "python",
   "name": "python3"
  },
  "language_info": {
   "codemirror_mode": {
    "name": "ipython",
    "version": 3
   },
   "file_extension": ".py",
   "mimetype": "text/x-python",
   "name": "python",
   "nbconvert_exporter": "python",
   "pygments_lexer": "ipython3",
   "version": "3.6.5"
  }
 },
 "nbformat": 4,
 "nbformat_minor": 2
}
