{
 "cells": [
  {
   "cell_type": "code",
   "execution_count": 1,
   "metadata": {},
   "outputs": [
    {
     "name": "stderr",
     "output_type": "stream",
     "text": [
      "/Users/yunsungsong/anaconda3/lib/python3.6/site-packages/h5py/__init__.py:36: FutureWarning: Conversion of the second argument of issubdtype from `float` to `np.floating` is deprecated. In future, it will be treated as `np.float64 == np.dtype(float).type`.\n",
      "  from ._conv import register_converters as _register_converters\n"
     ]
    }
   ],
   "source": [
    "import numpy as np\n",
    "import tensorflow as tf\n",
    "import matplotlib.pyplot as plt"
   ]
  },
  {
   "cell_type": "code",
   "execution_count": 2,
   "metadata": {},
   "outputs": [],
   "source": [
    "def MinMaxScalar(data):\n",
    "    bunja = data - np.min(data,0)\n",
    "    bunmo = np.max(data,0) - np.min(data,0)\n",
    "    return bunja/(bunmo+1e-7)"
   ]
  },
  {
   "cell_type": "code",
   "execution_count": 3,
   "metadata": {},
   "outputs": [],
   "source": [
    "seq_length = 7\n",
    "data_dim = 5\n",
    "hidden_dim = 10\n",
    "output_dim = 1\n",
    "learning_rate = 0.01"
   ]
  },
  {
   "cell_type": "code",
   "execution_count": 4,
   "metadata": {},
   "outputs": [],
   "source": [
    "xy = np.loadtxt('stock_daily.csv', delimiter=',')\n",
    "xy = xy[::-1] # 순서를 뒤집고\n",
    "xy = MinMaxScalar(xy) # 스케일을 맞추고\n",
    "\n",
    "x = xy\n",
    "y = xy[:,[-1]]\n",
    "dataX = []\n",
    "dataY = []\n",
    "\n",
    "for i in range(0, len(y)-seq_length):\n",
    "    _x = x[i:i+seq_length]\n",
    "    _y = y[i+seq_length]\n",
    "    dataX.append(_x)\n",
    "    dataY.append(_y)\n",
    "\n",
    "train_size = int(len(dataY)*0.7)\n",
    "test_size = len(dataY)- train_size\n",
    "trainX, testX = np.array(dataX[0:train_size]), np.array(dataX[train_size:len(dataX)])\n",
    "trainY, testY = np.array(dataY[0:train_size]), np.array(dataY[train_size:len(dataY)])"
   ]
  },
  {
   "cell_type": "code",
   "execution_count": 5,
   "metadata": {},
   "outputs": [
    {
     "name": "stdout",
     "output_type": "stream",
     "text": [
      "WARNING:tensorflow:From <ipython-input-5-c15964f7ad25>:4: BasicLSTMCell.__init__ (from tensorflow.python.ops.rnn_cell_impl) is deprecated and will be removed in a future version.\n",
      "Instructions for updating:\n",
      "This class is deprecated, please use tf.nn.rnn_cell.LSTMCell, which supports all the feature this cell currently has. Please replace the existing code with tf.nn.rnn_cell.LSTMCell(name='basic_lstm_cell').\n"
     ]
    }
   ],
   "source": [
    "X = tf.placeholder(tf.float32, shape=[None, seq_length, data_dim])\n",
    "Y = tf.placeholder(tf.float32, shape=[None,1])\n",
    "cell = tf.contrib.rnn.BasicLSTMCell(num_units=hidden_dim, state_is_tuple=True, \n",
    "                                   activation=tf.tanh)\n",
    "outputs, _states = tf.nn.dynamic_rnn(cell,X, dtype=tf.float32)\n",
    "Y_pred = tf.contrib.layers.fully_connected(outputs[:,-1], output_dim, \n",
    "                                          activation_fn=None)\n",
    "loss = tf.reduce_mean(tf.reduce_sum(tf.square(Y_pred-Y)))\n",
    "optimizer = tf.train.AdamOptimizer(learning_rate=learning_rate)\n",
    "train = optimizer.minimize(loss)"
   ]
  },
  {
   "cell_type": "code",
   "execution_count": 6,
   "metadata": {},
   "outputs": [
    {
     "name": "stdout",
     "output_type": "stream",
     "text": [
      "step: 0 loss: 159.98334\n",
      "step: 100 loss: 1.0810437\n",
      "step: 200 loss: 0.95041287\n",
      "step: 300 loss: 0.8397301\n",
      "step: 400 loss: 0.73301905\n",
      "step: 500 loss: 0.6308885\n",
      "step: 600 loss: 0.57309943\n",
      "step: 700 loss: 0.54872143\n",
      "step: 800 loss: 0.53550047\n",
      "step: 900 loss: 0.5264355\n",
      "step: 1000 loss: 0.51985604\n",
      "step: 1100 loss: 0.5148078\n",
      "step: 1200 loss: 0.51059127\n",
      "step: 1300 loss: 0.50674343\n",
      "step: 1400 loss: 0.5030261\n",
      "step: 1500 loss: 0.49939924\n",
      "step: 1600 loss: 0.4959348\n",
      "step: 1700 loss: 0.4926609\n",
      "step: 1800 loss: 0.48947564\n",
      "step: 1900 loss: 0.48622\n"
     ]
    }
   ],
   "source": [
    "sess = tf.Session()\n",
    "sess.run(tf.global_variables_initializer())\n",
    "for step in range(2000):\n",
    "    l,_ = sess.run([loss, train], feed_dict={X:dataX, Y:dataY})\n",
    "    if step % 100 == 0:\n",
    "        print (\"step:\",step,\"loss:\",l)\n",
    "\n",
    "\n"
   ]
  },
  {
   "cell_type": "code",
   "execution_count": null,
   "metadata": {},
   "outputs": [],
   "source": []
  }
 ],
 "metadata": {
  "kernelspec": {
   "display_name": "Python 3",
   "language": "python",
   "name": "python3"
  },
  "language_info": {
   "codemirror_mode": {
    "name": "ipython",
    "version": 3
   },
   "file_extension": ".py",
   "mimetype": "text/x-python",
   "name": "python",
   "nbconvert_exporter": "python",
   "pygments_lexer": "ipython3",
   "version": "3.6.5"
  }
 },
 "nbformat": 4,
 "nbformat_minor": 2
}
