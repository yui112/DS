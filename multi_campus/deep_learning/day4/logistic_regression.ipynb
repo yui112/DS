{
 "cells": [
  {
   "cell_type": "code",
   "execution_count": 1,
   "metadata": {},
   "outputs": [
    {
     "name": "stderr",
     "output_type": "stream",
     "text": [
      "/Users/yunsungsong/anaconda3/lib/python3.6/site-packages/h5py/__init__.py:36: FutureWarning: Conversion of the second argument of issubdtype from `float` to `np.floating` is deprecated. In future, it will be treated as `np.float64 == np.dtype(float).type`.\n",
      "  from ._conv import register_converters as _register_converters\n"
     ]
    }
   ],
   "source": [
    "import tensorflow as tf\n",
    "import numpy as np"
   ]
  },
  {
   "cell_type": "code",
   "execution_count": 15,
   "metadata": {},
   "outputs": [],
   "source": [
    "x_data = [[1,2],[3,4,],[5,6],[7,8]]\n",
    "y_data = [[0], [1], [1], [0]]\n",
    "\n",
    "X = tf.placeholder(tf.float32, shape=[None, 2])\n",
    "Y = tf.placeholder(tf.float32, shape=[None, 1])\n",
    "\n",
    "W = tf.Variable(tf.random_normal([2,1]))\n",
    "b = tf.Variable(tf.random_normal([1]))\n",
    "\n",
    "hypothesis = tf.sigmoid(tf.matmul(X, W)+b)\n",
    "cost = -tf.reduce_mean(tf.reduce_sum(Y * tf.log(hypothesis) + (1-Y)*tf.log(1-hypothesis)))\n",
    "\n",
    "optimizer = tf.train.GradientDescentOptimizer(learning_rate=0.001)\n",
    "train = optimizer.minimize(cost)\n"
   ]
  },
  {
   "cell_type": "code",
   "execution_count": 25,
   "metadata": {},
   "outputs": [
    {
     "name": "stdout",
     "output_type": "stream",
     "text": [
      "Step: 0 cost: 9.938467\n",
      "Step: 1000 cost: 3.039848\n",
      "Step: 2000 cost: 2.9308772\n",
      "Step: 3000 cost: 2.8642795\n",
      "Step: 4000 cost: 2.8249574\n",
      "Step: 5000 cost: 2.8022447\n",
      "Step: 6000 cost: 2.7892985\n",
      "Step: 7000 cost: 2.7819772\n",
      "Step: 8000 cost: 2.7778552\n",
      "Step: 9000 cost: 2.77554\n",
      "Step: 10000 cost: 2.7742422\n",
      "Step: 11000 cost: 2.7735143\n",
      "Step: 12000 cost: 2.773107\n",
      "Step: 13000 cost: 2.772879\n",
      "Step: 14000 cost: 2.7727513\n",
      "Step: 15000 cost: 2.7726796\n",
      "Step: 16000 cost: 2.7726393\n",
      "Step: 17000 cost: 2.7726173\n",
      "Step: 18000 cost: 2.7726047\n",
      "Step: 19000 cost: 2.7725978\n",
      "[[0.]\n",
      " [0.]]\n"
     ]
    }
   ],
   "source": [
    "sess = tf.Session()\n",
    "sess.run(tf.global_variables_initializer())\n",
    "\n",
    "predicted =tf.cast(hypothesis > 0.5, dtype = tf.float32)\n",
    "accuracy = tf.reduce_mean(tf.cast(tf.equal(predicted, Y), dtype=tf.float32))\n",
    "\n",
    "for step in range(20000):\n",
    "    c_v, _ = sess.run([cost, train], feed_dict={X:x_data, Y:y_data})\n",
    "    \n",
    "    if step % 1000 ==0:\n",
    "        print(\"Step:\", step, \"cost:\", c_v)\n",
    "\n",
    "# print(sess.run(accuracy, feed_dict={X:x_data, Y:y_data}))\n",
    "\n",
    "print(sess.run(predicted, feed_dict={X:[[1,2],[3,4]]}))"
   ]
  },
  {
   "cell_type": "code",
   "execution_count": 26,
   "metadata": {},
   "outputs": [],
   "source": [
    "xy = np.loadtxt('diabetes.csv', delimiter=',', dtype=np.float32)"
   ]
  },
  {
   "cell_type": "code",
   "execution_count": 34,
   "metadata": {},
   "outputs": [],
   "source": [
    "x_data = xy[:250,0:-1]\n",
    "y_data = xy[:250,[-1]]\n",
    "x_test = xy[250:-1,0:-1]\n",
    "y_test = xy[250:-1,[-1]]"
   ]
  },
  {
   "cell_type": "code",
   "execution_count": 35,
   "metadata": {},
   "outputs": [
    {
     "data": {
      "text/plain": [
       "array([[-0.294118  ,  0.487437  ,  0.180328  , ...,  0.00149028,\n",
       "        -0.53117   , -0.0333333 ],\n",
       "       [-0.882353  , -0.145729  ,  0.0819672 , ..., -0.207153  ,\n",
       "        -0.766866  , -0.666667  ],\n",
       "       [-0.0588235 ,  0.839196  ,  0.0491803 , ..., -0.305514  ,\n",
       "        -0.492741  , -0.633333  ],\n",
       "       ...,\n",
       "       [ 0.0588235 ,  0.0653266 , -0.147541  , ..., -0.0700447 ,\n",
       "        -0.742101  , -0.3       ],\n",
       "       [-0.764706  ,  0.296482  ,  0.377049  , ..., -0.165425  ,\n",
       "        -0.824082  , -0.8       ],\n",
       "       [-0.764706  , -0.0954774 ,  0.311475  , ..., -0.272727  ,\n",
       "        -0.853971  , -0.9       ]], dtype=float32)"
      ]
     },
     "execution_count": 35,
     "metadata": {},
     "output_type": "execute_result"
    }
   ],
   "source": [
    "x_data"
   ]
  },
  {
   "cell_type": "code",
   "execution_count": 36,
   "metadata": {},
   "outputs": [],
   "source": [
    "X = tf.placeholder(tf.float32, shape=[None, 8])\n",
    "Y = tf.placeholder(tf.float32, shape=[None, 1])\n",
    "\n",
    "W = tf.Variable(tf.random_normal([8,1]))\n",
    "b = tf.Variable(tf.random_normal([1]))\n",
    "\n",
    "hypothesis = tf.sigmoid(tf.matmul(X, W)+b)\n",
    "cost = -tf.reduce_mean(tf.reduce_sum(Y * tf.log(hypothesis) + (1-Y)*tf.log(1-hypothesis)))\n",
    "\n",
    "optimizer = tf.train.GradientDescentOptimizer(learning_rate=0.001)\n",
    "train = optimizer.minimize(cost)\n"
   ]
  },
  {
   "cell_type": "code",
   "execution_count": 39,
   "metadata": {},
   "outputs": [
    {
     "name": "stdout",
     "output_type": "stream",
     "text": [
      "Step: 0 cost: 303.96066\n",
      "Step: 1000 cost: 120.70008\n",
      "Step: 2000 cost: 120.571655\n",
      "Step: 3000 cost: 120.56328\n",
      "Step: 4000 cost: 120.56249\n",
      "Step: 5000 cost: 120.56241\n",
      "Step: 6000 cost: 120.56239\n",
      "Step: 7000 cost: 120.56239\n",
      "Step: 8000 cost: 120.56239\n",
      "Step: 9000 cost: 120.5624\n",
      "Step: 10000 cost: 120.56239\n",
      "Step: 11000 cost: 120.56239\n",
      "Step: 12000 cost: 120.56239\n",
      "Step: 13000 cost: 120.56239\n",
      "Step: 14000 cost: 120.56239\n",
      "Step: 15000 cost: 120.56239\n",
      "Step: 16000 cost: 120.56239\n",
      "Step: 17000 cost: 120.56239\n",
      "Step: 18000 cost: 120.56239\n",
      "Step: 19000 cost: 120.56239\n"
     ]
    }
   ],
   "source": [
    "sess = tf.Session()\n",
    "sess.run(tf.global_variables_initializer())\n",
    "\n",
    "predicted =tf.cast(hypothesis > 0.5, dtype = tf.float32)\n",
    "accuracy = tf.reduce_mean(tf.cast(tf.equal(predicted, Y), dtype=tf.float32))\n",
    "\n",
    "for step in range(20000):\n",
    "    c_v, _ = sess.run([cost, train], feed_dict={X:x_data, Y:y_data})\n",
    "    \n",
    "    if step % 1000 ==0:\n",
    "        print(\"Step:\", step, \"cost:\", c_v)\n",
    "\n",
    "# print(sess.run(accuracy, feed_dict={X:x_data, Y:y_data}))\n",
    "hy = sess.run(predicted, feed_dict={X:x_test})\n"
   ]
  },
  {
   "cell_type": "code",
   "execution_count": 44,
   "metadata": {},
   "outputs": [],
   "source": [
    "hy_accuracy = tf.reduce_mean(tf.cast(tf.equal(hy, y_test), dtype=tf.float32))"
   ]
  },
  {
   "cell_type": "code",
   "execution_count": 46,
   "metadata": {},
   "outputs": [
    {
     "name": "stdout",
     "output_type": "stream",
     "text": [
      "0.761811\n"
     ]
    }
   ],
   "source": [
    "print(sess.run(hy_accuracy))"
   ]
  },
  {
   "cell_type": "code",
   "execution_count": null,
   "metadata": {},
   "outputs": [],
   "source": []
  }
 ],
 "metadata": {
  "kernelspec": {
   "display_name": "Python 3",
   "language": "python",
   "name": "python3"
  },
  "language_info": {
   "codemirror_mode": {
    "name": "ipython",
    "version": 3
   },
   "file_extension": ".py",
   "mimetype": "text/x-python",
   "name": "python",
   "nbconvert_exporter": "python",
   "pygments_lexer": "ipython3",
   "version": "3.6.5"
  }
 },
 "nbformat": 4,
 "nbformat_minor": 2
}
