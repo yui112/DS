{
 "cells": [
  {
   "cell_type": "code",
   "execution_count": 1,
   "metadata": {},
   "outputs": [
    {
     "name": "stderr",
     "output_type": "stream",
     "text": [
      "/Users/yunsungsong/anaconda3/lib/python3.6/site-packages/h5py/__init__.py:36: FutureWarning: Conversion of the second argument of issubdtype from `float` to `np.floating` is deprecated. In future, it will be treated as `np.float64 == np.dtype(float).type`.\n",
      "  from ._conv import register_converters as _register_converters\n"
     ]
    }
   ],
   "source": [
    "import numpy as np\n",
    "import tensorflow as tf"
   ]
  },
  {
   "cell_type": "code",
   "execution_count": 2,
   "metadata": {},
   "outputs": [],
   "source": [
    "sample = ' my name is peter'\n",
    "idx2char = list(set(sample))\n",
    "char2idx = {c:i for i,c in enumerate(idx2char)}"
   ]
  },
  {
   "cell_type": "code",
   "execution_count": 3,
   "metadata": {},
   "outputs": [],
   "source": [
    "input_dim = len(idx2char)\n",
    "hidden_size = len(idx2char)\n",
    "num_classes = len(idx2char)\n",
    "sequence_length = 10\n",
    "learning_rate = 0.1\n",
    "\n",
    "dataX = []\n",
    "dataY = []\n",
    "for i in range(0, len(sample)-sequence_length):\n",
    "    x_str = sample[i:i+sequence_length]\n",
    "    y_str = sample[i+1:i+sequence_length+1]\n",
    "    x = [char2idx[c] for c in x_str]\n",
    "    y = [char2idx[c] for c in y_str]\n",
    "    dataX.append(x)\n",
    "    dataY.append(y)\n",
    "\n",
    "batch_size = len(dataX)"
   ]
  },
  {
   "cell_type": "code",
   "execution_count": 7,
   "metadata": {},
   "outputs": [],
   "source": [
    "X = tf.placeholder(tf.int32, shape=[None,sequence_length])\n",
    "Y = tf.placeholder(tf.int32, shape=[None,sequence_length])\n",
    "X_one_hot = tf.one_hot(X, input_dim)\n",
    "\n",
    "def lstm_cell():\n",
    "    return tf.contrib.rnn.BasicLSTMCell(hidden_size, state_is_tuple=True)\n",
    "\n",
    "multi_cells = tf.contrib.rnn.MultiRNNCell([lstm_cell()]*3, state_is_tuple=True)\n",
    "outputs, _states = tf.nn.dynamic_rnn(multi_cells, X_one_hot, dtype=tf.float32)\n",
    "X_for_fc = tf.reshape(outputs, [-1,hidden_size])\n",
    "outputs = tf.contrib.layers.fully_connected(X_for_fc, num_classes, activation_fn=None)\n",
    "outputs = tf.reshape(outputs, [batch_size,sequence_length, num_classes])\n",
    "weights = tf.ones([batch_size, sequence_length])\n",
    "sequence_loss = tf.contrib.seq2seq.sequence_loss(logits=outputs, targets=Y,\n",
    "                                                weights=weights)\n",
    "loss = tf.reduce_mean(sequence_loss)\n",
    "train = tf.train.AdamOptimizer(learning_rate=learning_rate).minimize(loss)\n"
   ]
  },
  {
   "cell_type": "code",
   "execution_count": 11,
   "metadata": {},
   "outputs": [
    {
     "name": "stdout",
     "output_type": "stream",
     "text": [
      "step: 0 Loss: 2.3985415\n",
      "step: 100 Loss: 0.041660246\n",
      "step: 200 Loss: 0.04049902\n",
      "step: 300 Loss: 0.040128354\n",
      "step: 400 Loss: 0.039956294\n",
      "step: 500 Loss: 0.039859645\n",
      "step: 600 Loss: 0.039798535\n",
      "step: 700 Loss: 0.03975747\n",
      "step: 800 Loss: 0.039728764\n",
      "step: 900 Loss: 0.039707854\n",
      "step: 1000 Loss: 0.039692067\n",
      "step: 1100 Loss: 0.039679803\n",
      "step: 1200 Loss: 0.03967006\n",
      "step: 1300 Loss: 0.039662186\n",
      "step: 1400 Loss: 0.039655715\n",
      "step: 1500 Loss: 0.03965033\n",
      "step: 1600 Loss: 0.039646313\n",
      "step: 1700 Loss: 0.03964201\n",
      "step: 1800 Loss: 0.039672296\n",
      "step: 1900 Loss: 0.039635964\n"
     ]
    }
   ],
   "source": [
    "sess = tf.Session()\n",
    "sess.run(tf.global_variables_initializer())\n",
    "for step in range(2000):\n",
    "    l, _ = sess.run([loss, train], feed_dict ={X:dataX, Y:dataY})\n",
    "    if step % 100 == 0:\n",
    "        print(\"step:\", step, \"Loss:\", l)"
   ]
  },
  {
   "cell_type": "code",
   "execution_count": 23,
   "metadata": {},
   "outputs": [
    {
     "name": "stdout",
     "output_type": "stream",
     "text": [
      "my name is peter"
     ]
    }
   ],
   "source": [
    "result = sess.run(outputs, feed_dict={X:dataX})\n",
    "for j, result in enumerate(result):\n",
    "    index = np.argmax(result, axis=1)\n",
    "    if j is 0:\n",
    "        print(''.join([idx2char[t] for t in index]), end='')\n",
    "    else:\n",
    "        print(idx2char[index[-1]], end='')"
   ]
  },
  {
   "cell_type": "code",
   "execution_count": null,
   "metadata": {},
   "outputs": [],
   "source": [
    "for "
   ]
  }
 ],
 "metadata": {
  "kernelspec": {
   "display_name": "Python 3",
   "language": "python",
   "name": "python3"
  },
  "language_info": {
   "codemirror_mode": {
    "name": "ipython",
    "version": 3
   },
   "file_extension": ".py",
   "mimetype": "text/x-python",
   "name": "python",
   "nbconvert_exporter": "python",
   "pygments_lexer": "ipython3",
   "version": "3.6.5"
  }
 },
 "nbformat": 4,
 "nbformat_minor": 2
}
