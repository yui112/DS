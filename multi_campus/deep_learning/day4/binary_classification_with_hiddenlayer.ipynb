{
 "cells": [
  {
   "cell_type": "code",
   "execution_count": 1,
   "metadata": {},
   "outputs": [
    {
     "name": "stderr",
     "output_type": "stream",
     "text": [
      "/Users/yunsungsong/anaconda3/lib/python3.6/site-packages/h5py/__init__.py:36: FutureWarning: Conversion of the second argument of issubdtype from `float` to `np.floating` is deprecated. In future, it will be treated as `np.float64 == np.dtype(float).type`.\n",
      "  from ._conv import register_converters as _register_converters\n"
     ]
    }
   ],
   "source": [
    "import tensorflow as tf\n",
    "import numpy as np"
   ]
  },
  {
   "cell_type": "code",
   "execution_count": 16,
   "metadata": {},
   "outputs": [
    {
     "name": "stdout",
     "output_type": "stream",
     "text": [
      "Step: 0 cost: 0.89313924\n",
      "Step: 1000 cost: 0.6963103\n",
      "Step: 2000 cost: 0.6945283\n",
      "Step: 3000 cost: 0.69326997\n",
      "Step: 4000 cost: 0.6919011\n",
      "Step: 5000 cost: 0.69023246\n",
      "Step: 6000 cost: 0.68798333\n",
      "Step: 7000 cost: 0.6847167\n",
      "Step: 8000 cost: 0.6797835\n",
      "Step: 9000 cost: 0.67238975\n",
      "Step: 10000 cost: 0.6619825\n",
      "Step: 11000 cost: 0.6486756\n",
      "Step: 12000 cost: 0.63275635\n",
      "Step: 13000 cost: 0.6138253\n",
      "Step: 14000 cost: 0.5910172\n",
      "Step: 15000 cost: 0.56366223\n",
      "Step: 16000 cost: 0.53148556\n",
      "Step: 17000 cost: 0.4944814\n",
      "Step: 18000 cost: 0.45314056\n",
      "Step: 19000 cost: 0.40892377\n",
      "1.0\n"
     ]
    }
   ],
   "source": [
    "x_data = [[0,0], [0,1], [1,0], [1,1]]\n",
    "y_data = [[0], [1], [1], [0]]\n",
    "\n",
    "X = tf.placeholder(tf.float32, shape=[None, 2])\n",
    "Y = tf.placeholder(tf.float32, shape=[None, 1])\n",
    "\n",
    "W1 = tf.Variable(tf.random_normal([2,2]))\n",
    "b1 = tf.Variable(tf.random_normal([2]))\n",
    "layer1 = tf.sigmoid(tf.matmul(X,W1)+b1)\n",
    "\n",
    "W2 = tf.Variable(tf.random_normal([2,1]))\n",
    "b2 = tf.Variable(tf.random_normal([1]))\n",
    "hypothesis = tf.sigmoid(tf.matmul(layer1, W2)+b2)\n",
    "\n",
    "cost = -tf.reduce_mean(Y * tf.log(hypothesis) + (1-Y)*tf.log(1-hypothesis))\n",
    "train = tf.train.GradientDescentOptimizer(learning_rate = 0.01).minimize(cost)\n",
    "\n",
    "sess = tf.Session()\n",
    "sess.run(tf.global_variables_initializer())\n",
    "\n",
    "predicted =tf.cast(hypothesis > 0.5, dtype = tf.float32)\n",
    "accuracy = tf.reduce_mean(tf.cast(tf.equal(predicted, Y), dtype=tf.float32))\n",
    "\n",
    "for step in range(20000):\n",
    "    c_v, _ = sess.run([cost, train], feed_dict={X:x_data, Y:y_data})\n",
    "    \n",
    "    if step % 1000 ==0:\n",
    "        print(\"Step:\", step, \"cost:\", c_v)\n",
    "\n",
    "print(sess.run(accuracy, feed_dict={X:x_data, Y:y_data}))"
   ]
  },
  {
   "cell_type": "code",
   "execution_count": 17,
   "metadata": {},
   "outputs": [
    {
     "name": "stdout",
     "output_type": "stream",
     "text": [
      "Step: 0 cost: 0.73244894\n",
      "Step: 1000 cost: 0.080429524\n",
      "Step: 2000 cost: 0.010786627\n",
      "Step: 3000 cost: 0.004996087\n",
      "Step: 4000 cost: 0.0031415783\n",
      "Step: 5000 cost: 0.0022591501\n",
      "Step: 6000 cost: 0.0017508307\n",
      "Step: 7000 cost: 0.0014229657\n",
      "Step: 8000 cost: 0.0011950902\n",
      "Step: 9000 cost: 0.0010280071\n",
      "Step: 10000 cost: 0.00090067025\n",
      "Step: 11000 cost: 0.000800462\n",
      "Step: 12000 cost: 0.0007197242\n",
      "Step: 13000 cost: 0.00065332255\n",
      "Step: 14000 cost: 0.00059779495\n",
      "Step: 15000 cost: 0.0005507243\n",
      "Step: 16000 cost: 0.00051033497\n",
      "Step: 17000 cost: 0.00047528459\n",
      "Step: 18000 cost: 0.00044463333\n",
      "Step: 19000 cost: 0.00041759064\n",
      "1.0\n"
     ]
    }
   ],
   "source": [
    "##딥하게 분석할 때\n",
    "\n",
    "x_data = [[0,0], [0,1], [1,0], [1,1]]\n",
    "y_data = [[0], [1], [1], [0]]\n",
    "\n",
    "X = tf.placeholder(tf.float32, shape=[None, 2])\n",
    "Y = tf.placeholder(tf.float32, shape=[None, 1])\n",
    "\n",
    "W1 = tf.Variable(tf.random_normal([2,10]))\n",
    "b1 = tf.Variable(tf.random_normal([10]))\n",
    "layer1 = tf.sigmoid(tf.matmul(X,W1)+b1)\n",
    "\n",
    "W2 = tf.Variable(tf.random_normal([10,10]))\n",
    "b2 = tf.Variable(tf.random_normal([10]))\n",
    "layer2 = tf.sigmoid(tf.matmul(layer1, W2)+b2)\n",
    "\n",
    "W3 = tf.Variable(tf.random_normal([10,10]))\n",
    "b3 = tf.Variable(tf.random_normal([10]))\n",
    "layer3 = tf.sigmoid(tf.matmul(layer2, W3)+b3)\n",
    "\n",
    "W4 = tf.Variable(tf.random_normal([10,1]))\n",
    "b4 = tf.Variable(tf.random_normal([1]))\n",
    "hypothesis = tf.sigmoid(tf.matmul(layer3, W4)+b4)\n",
    "\n",
    "cost = -tf.reduce_mean(Y * tf.log(hypothesis) + (1-Y)*tf.log(1-hypothesis))\n",
    "train = tf.train.GradientDescentOptimizer(learning_rate = 0.1).minimize(cost)\n",
    "\n",
    "sess = tf.Session()\n",
    "sess.run(tf.global_variables_initializer())\n",
    "\n",
    "predicted =tf.cast(hypothesis > 0.5, dtype = tf.float32)\n",
    "accuracy = tf.reduce_mean(tf.cast(tf.equal(predicted, Y), dtype=tf.float32))\n",
    "\n",
    "for step in range(20000):\n",
    "    c_v, _ = sess.run([cost, train], feed_dict={X:x_data, Y:y_data})\n",
    "    \n",
    "    if step % 1000 ==0:\n",
    "        print(\"Step:\", step, \"cost:\", c_v)\n",
    "\n",
    "print(sess.run(accuracy, feed_dict={X:x_data, Y:y_data}))"
   ]
  },
  {
   "cell_type": "code",
   "execution_count": 20,
   "metadata": {},
   "outputs": [
    {
     "name": "stdout",
     "output_type": "stream",
     "text": [
      "[[0.99963427]]\n"
     ]
    }
   ],
   "source": [
    "print(sess.run(hypothesis, feed_dict={X:[[0,1]]}))"
   ]
  },
  {
   "cell_type": "code",
   "execution_count": null,
   "metadata": {},
   "outputs": [],
   "source": []
  }
 ],
 "metadata": {
  "kernelspec": {
   "display_name": "Python 3",
   "language": "python",
   "name": "python3"
  },
  "language_info": {
   "codemirror_mode": {
    "name": "ipython",
    "version": 3
   },
   "file_extension": ".py",
   "mimetype": "text/x-python",
   "name": "python",
   "nbconvert_exporter": "python",
   "pygments_lexer": "ipython3",
   "version": "3.6.5"
  }
 },
 "nbformat": 4,
 "nbformat_minor": 2
}
