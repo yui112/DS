{
 "cells": [
  {
   "cell_type": "code",
   "execution_count": 1,
   "metadata": {},
   "outputs": [
    {
     "name": "stderr",
     "output_type": "stream",
     "text": [
      "/Users/yunsungsong/anaconda3/lib/python3.6/site-packages/h5py/__init__.py:36: FutureWarning: Conversion of the second argument of issubdtype from `float` to `np.floating` is deprecated. In future, it will be treated as `np.float64 == np.dtype(float).type`.\n",
      "  from ._conv import register_converters as _register_converters\n"
     ]
    }
   ],
   "source": [
    "import numpy as np\n",
    "import tensorflow as tf"
   ]
  },
  {
   "cell_type": "code",
   "execution_count": 2,
   "metadata": {},
   "outputs": [],
   "source": [
    "#hihell' teach\n",
    "# X: #hihell', Y: ihello'\n",
    "idx2char = ['h', 'i', 'h', 'e', 'l', 'o']\n",
    "\n",
    "x_data = [[0,1,0,2,3,3]]\n",
    "x_one_hot = [[\n",
    "                [1,0,0,0,0],\n",
    "                [0,1,0,0,0],\n",
    "                [1,0,0,0,0],\n",
    "                [0,0,1,0,0],\n",
    "                [0,0,0,1,0],\n",
    "                [1,0,0,1,0]\n",
    "    \n",
    "]]\n",
    "y_data = [[1,0,2,3,3,4]]"
   ]
  },
  {
   "cell_type": "code",
   "execution_count": 3,
   "metadata": {},
   "outputs": [],
   "source": [
    "num_classes = 5\n",
    "input_dim = 5\n",
    "hidden_size = 5\n",
    "batch_size = 1\n",
    "sequence_length = 6\n",
    "learning_rate = 0.01"
   ]
  },
  {
   "cell_type": "code",
   "execution_count": 4,
   "metadata": {},
   "outputs": [
    {
     "name": "stdout",
     "output_type": "stream",
     "text": [
      "WARNING:tensorflow:From <ipython-input-4-b6a5b7aa9d79>:5: BasicLSTMCell.__init__ (from tensorflow.python.ops.rnn_cell_impl) is deprecated and will be removed in a future version.\n",
      "Instructions for updating:\n",
      "This class is deprecated, please use tf.nn.rnn_cell.LSTMCell, which supports all the feature this cell currently has. Please replace the existing code with tf.nn.rnn_cell.LSTMCell(name='basic_lstm_cell').\n"
     ]
    }
   ],
   "source": [
    "X = tf.placeholder(tf.float32, shape=[None, sequence_length, input_dim])\n",
    "Y = tf.placeholder(tf.int32, shape=[None, sequence_length])\n",
    "\n",
    "# cell = tf.contrib.rnn.BasicRNNCell(num_units=hidden_size, state_is_tuple=True)\n",
    "cell = tf.contrib.rnn.BasicLSTMCell(num_units=hidden_size, state_is_tuple=True)\n",
    "# cell = tf.contrib.rnn.GRUCell(num_units=hidden_size, state_is_tuple=True)\n",
    "initial_state = cell.zero_state(batch_size, tf.float32)\n",
    "outputs, _states = tf.nn.dynamic_rnn(cell, X, initial_state=initial_state,\n",
    "                                dtype=tf.float32)\n",
    "X_for_fc = tf.reshape(outputs, [-1,hidden_size])\n",
    "outputs = tf.contrib.layers.fully_connected(\n",
    "        inputs=X_for_fc, num_outputs = num_classes, activation_fn=tf.nn.relu)\n",
    "\n",
    "outputs = tf.reshape(outputs, [batch_size, sequence_length, num_classes])\n",
    "\n",
    "weights = tf.ones([batch_size, sequence_length])\n",
    "sequence_loss = tf.contrib.seq2seq.sequence_loss(logits=outputs, targets=Y,\n",
    "                                        weights=weights)\n",
    "\n",
    "loss = tf.reduce_mean(sequence_loss)\n",
    "train = tf.train.AdamOptimizer(learning_rate=learning_rate).minimize(loss)\n",
    "\n",
    "prediction = tf.argmax(outputs,axis=2)\n",
    "\n"
   ]
  },
  {
   "cell_type": "code",
   "execution_count": 5,
   "metadata": {},
   "outputs": [
    {
     "name": "stdout",
     "output_type": "stream",
     "text": [
      "Step: 0 Loss: 1.6125463 Prediction: [[0 2 0 4 4 0]]\n",
      "Prediction: hhhllh\n",
      "Step: 100 Loss: 0.4440276 Prediction: [[1 0 1 3 3 4]]\n",
      "Prediction: ihieel\n",
      "Step: 200 Loss: 0.088567734 Prediction: [[1 0 2 3 3 4]]\n",
      "Prediction: ihheel\n",
      "Step: 300 Loss: 0.01621323 Prediction: [[1 0 2 3 3 4]]\n",
      "Prediction: ihheel\n",
      "Step: 400 Loss: 0.009272772 Prediction: [[1 0 2 3 3 4]]\n",
      "Prediction: ihheel\n",
      "Step: 500 Loss: 0.0063338717 Prediction: [[1 0 2 3 3 4]]\n",
      "Prediction: ihheel\n",
      "Step: 600 Loss: 0.0046891477 Prediction: [[1 0 2 3 3 4]]\n",
      "Prediction: ihheel\n",
      "Step: 700 Loss: 0.003635292 Prediction: [[1 0 2 3 3 4]]\n",
      "Prediction: ihheel\n",
      "Step: 800 Loss: 0.0029114725 Prediction: [[1 0 2 3 3 4]]\n",
      "Prediction: ihheel\n",
      "Step: 900 Loss: 0.0023890638 Prediction: [[1 0 2 3 3 4]]\n",
      "Prediction: ihheel\n",
      "Step: 1000 Loss: 0.0019977312 Prediction: [[1 0 2 3 3 4]]\n",
      "Prediction: ihheel\n",
      "Step: 1100 Loss: 0.0016960427 Prediction: [[1 0 2 3 3 4]]\n",
      "Prediction: ihheel\n",
      "Step: 1200 Loss: 0.0014576692 Prediction: [[1 0 2 3 3 4]]\n",
      "Prediction: ihheel\n",
      "Step: 1300 Loss: 0.0012659365 Prediction: [[1 0 2 3 3 4]]\n",
      "Prediction: ihheel\n",
      "Step: 1400 Loss: 0.0011090282 Prediction: [[1 0 2 3 3 4]]\n",
      "Prediction: ihheel\n",
      "Step: 1500 Loss: 0.0009789248 Prediction: [[1 0 2 3 3 4]]\n",
      "Prediction: ihheel\n",
      "Step: 1600 Loss: 0.00086982263 Prediction: [[1 0 2 3 3 4]]\n",
      "Prediction: ihheel\n",
      "Step: 1700 Loss: 0.00077762024 Prediction: [[1 0 2 3 3 4]]\n",
      "Prediction: ihheel\n",
      "Step: 1800 Loss: 0.0006991266 Prediction: [[1 0 2 3 3 4]]\n",
      "Prediction: ihheel\n",
      "Step: 1900 Loss: 0.0006314465 Prediction: [[1 0 2 3 3 4]]\n",
      "Prediction: ihheel\n",
      "Step: 2000 Loss: 0.0005726167 Prediction: [[1 0 2 3 3 4]]\n",
      "Prediction: ihheel\n",
      "Step: 2100 Loss: 0.00052105065 Prediction: [[1 0 2 3 3 4]]\n",
      "Prediction: ihheel\n",
      "Step: 2200 Loss: 0.00047569696 Prediction: [[1 0 2 3 3 4]]\n",
      "Prediction: ihheel\n",
      "Step: 2300 Loss: 0.00043554392 Prediction: [[1 0 2 3 3 4]]\n",
      "Prediction: ihheel\n",
      "Step: 2400 Loss: 0.0003997582 Prediction: [[1 0 2 3 3 4]]\n",
      "Prediction: ihheel\n",
      "Step: 2500 Loss: 0.00036802242 Prediction: [[1 0 2 3 3 4]]\n",
      "Prediction: ihheel\n",
      "Step: 2600 Loss: 0.0003395626 Prediction: [[1 0 2 3 3 4]]\n",
      "Prediction: ihheel\n",
      "Step: 2700 Loss: 0.00031392212 Prediction: [[1 0 2 3 3 4]]\n",
      "Prediction: ihheel\n",
      "Step: 2800 Loss: 0.00029080335 Prediction: [[1 0 2 3 3 4]]\n",
      "Prediction: ihheel\n",
      "Step: 2900 Loss: 0.00026980927 Prediction: [[1 0 2 3 3 4]]\n",
      "Prediction: ihheel\n",
      "Step: 3000 Loss: 0.00025064204 Prediction: [[1 0 2 3 3 4]]\n",
      "Prediction: ihheel\n",
      "Step: 3100 Loss: 0.00023326205 Prediction: [[1 0 2 3 3 4]]\n",
      "Prediction: ihheel\n",
      "Step: 3200 Loss: 0.00021731193 Prediction: [[1 0 2 3 3 4]]\n",
      "Prediction: ihheel\n",
      "Step: 3300 Loss: 0.00020273209 Prediction: [[1 0 2 3 3 4]]\n",
      "Prediction: ihheel\n",
      "Step: 3400 Loss: 0.00018936372 Prediction: [[1 0 2 3 3 4]]\n",
      "Prediction: ihheel\n",
      "Step: 3500 Loss: 0.00017698837 Prediction: [[1 0 2 3 3 4]]\n",
      "Prediction: ihheel\n",
      "Step: 3600 Loss: 0.00016560608 Prediction: [[1 0 2 3 3 4]]\n",
      "Prediction: ihheel\n",
      "Step: 3700 Loss: 0.00015511754 Prediction: [[1 0 2 3 3 4]]\n",
      "Prediction: ihheel\n",
      "Step: 3800 Loss: 0.00014544335 Prediction: [[1 0 2 3 3 4]]\n",
      "Prediction: ihheel\n",
      "Step: 3900 Loss: 0.00013646434 Prediction: [[1 0 2 3 3 4]]\n",
      "Prediction: ihheel\n"
     ]
    }
   ],
   "source": [
    "sess = tf.Session()\n",
    "sess.run(tf.global_variables_initializer())\n",
    "for step in range(4000):\n",
    "    l,_ = sess.run([loss,train], feed_dict={X:x_one_hot, Y:y_data})\n",
    "    result = sess.run(prediction, feed_dict={X:x_one_hot})\n",
    "    if step % 100 == 0:\n",
    "        print (\"Step:\",step,\"Loss:\",l,\"Prediction:\", result)\n",
    "        result_str = [idx2char[c] for c in np.squeeze(result)]\n",
    "        print (\"Prediction:\",\"\".join(result_str))\n",
    "    "
   ]
  },
  {
   "cell_type": "code",
   "execution_count": null,
   "metadata": {},
   "outputs": [],
   "source": []
  },
  {
   "cell_type": "code",
   "execution_count": null,
   "metadata": {},
   "outputs": [],
   "source": []
  }
 ],
 "metadata": {
  "kernelspec": {
   "display_name": "Python 3",
   "language": "python",
   "name": "python3"
  },
  "language_info": {
   "codemirror_mode": {
    "name": "ipython",
    "version": 3
   },
   "file_extension": ".py",
   "mimetype": "text/x-python",
   "name": "python",
   "nbconvert_exporter": "python",
   "pygments_lexer": "ipython3",
   "version": "3.6.5"
  }
 },
 "nbformat": 4,
 "nbformat_minor": 2
}
