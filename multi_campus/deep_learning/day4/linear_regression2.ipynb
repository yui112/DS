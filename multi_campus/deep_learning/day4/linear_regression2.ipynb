{
 "cells": [
  {
   "cell_type": "code",
   "execution_count": 1,
   "metadata": {},
   "outputs": [
    {
     "name": "stderr",
     "output_type": "stream",
     "text": [
      "/Users/yunsungsong/anaconda3/lib/python3.6/site-packages/h5py/__init__.py:36: FutureWarning: Conversion of the second argument of issubdtype from `float` to `np.floating` is deprecated. In future, it will be treated as `np.float64 == np.dtype(float).type`.\n",
      "  from ._conv import register_converters as _register_converters\n"
     ]
    }
   ],
   "source": [
    "import tensorflow as tf\n",
    "import numpy as np"
   ]
  },
  {
   "cell_type": "code",
   "execution_count": 14,
   "metadata": {},
   "outputs": [],
   "source": [
    "# x_data = [[10., 12., 15., 16.],\n",
    "#             [13., 15., 25., 36.],\n",
    "#             [80., 2., 17., 26.],\n",
    "#             [152., 188., 355., 400.],\n",
    "#             [112., 134., 144., 250.]]\n",
    "\n",
    "# y_data = [[20.],[34.],[55.],[82.],[99.]]\n",
    "\n",
    "# X = tf.placeholder(tf.float32, shape=[None,4])\n",
    "# Y = tf.placeholder(tf.float32, shape=[None,1])\n",
    "\n",
    "# W = tf.Variable(tf.random_normal([4,1]), name = 'weight')\n",
    "# b = tf.Variable(tf.random_normal([1]), name = 'bias')\n",
    "\n",
    "# hypothesis = tf.matmul(X,W)+b\n",
    "# cost = tf.reduce_mean(tf.square(hypothesis-Y))\n",
    "# optimizer = tf.train.GradientDescentOptimizer(learning_rate=1e-5)\n",
    "# train  = optimizer.minimize(cost)"
   ]
  },
  {
   "cell_type": "code",
   "execution_count": 15,
   "metadata": {},
   "outputs": [],
   "source": [
    "# sess = tf.Session()"
   ]
  },
  {
   "cell_type": "code",
   "execution_count": 16,
   "metadata": {},
   "outputs": [
    {
     "name": "stdout",
     "output_type": "stream",
     "text": [
      "step: 0 Cost: 48842.535 Hy_value: [[  -9.210043]\n",
      " [ -26.844036]\n",
      " [  10.680548]\n",
      " [-312.34384 ]\n",
      " [-187.6813  ]]\n",
      "step: 100 Cost: 173.2557 Hy_value: [[10.590146]\n",
      " [ 9.083797]\n",
      " [59.881157]\n",
      " [89.17311 ]\n",
      " [89.96469 ]]\n",
      "step: 200 Cost: 141.45757 Hy_value: [[10.547787]\n",
      " [ 9.455087]\n",
      " [57.24228 ]\n",
      " [84.97    ]\n",
      " [97.71863 ]]\n",
      "step: 300 Cost: 138.1322 Hy_value: [[10.486842]\n",
      " [ 9.60177 ]\n",
      " [55.799488]\n",
      " [83.883804]\n",
      " [99.83628 ]]\n",
      "step: 400 Cost: 137.51357 Hy_value: [[ 10.437849]\n",
      " [  9.680664]\n",
      " [ 55.282497]\n",
      " [ 83.55792 ]\n",
      " [100.48188 ]]\n",
      "step: 500 Cost: 137.17558 Hy_value: [[ 10.394647]\n",
      " [  9.737954]\n",
      " [ 55.112465]\n",
      " [ 83.454666]\n",
      " [100.6851  ]]\n",
      "step: 600 Cost: 136.86943 Hy_value: [[ 10.353788]\n",
      " [  9.788083]\n",
      " [ 55.058445]\n",
      " [ 83.420906]\n",
      " [100.74883 ]]\n",
      "step: 700 Cost: 136.56918 Hy_value: [[ 10.3140335]\n",
      " [  9.83568  ]\n",
      " [ 55.04215  ]\n",
      " [ 83.40932  ]\n",
      " [100.76796  ]]\n",
      "step: 800 Cost: 136.27225 Hy_value: [[ 10.274969]\n",
      " [  9.882229]\n",
      " [ 55.03798 ]\n",
      " [ 83.40492 ]\n",
      " [100.77281 ]]\n",
      "step: 900 Cost: 135.97818 Hy_value: [[ 10.236453 ]\n",
      " [  9.9282055]\n",
      " [ 55.037724 ]\n",
      " [ 83.402756 ]\n",
      " [100.773026 ]]\n",
      "step: 1000 Cost: 135.6871 Hy_value: [[ 10.198431]\n",
      " [  9.973761]\n",
      " [ 55.0387  ]\n",
      " [ 83.40135 ]\n",
      " [100.7718  ]]\n",
      "step: 1100 Cost: 135.39877 Hy_value: [[ 10.1608925]\n",
      " [ 10.018954 ]\n",
      " [ 55.04008  ]\n",
      " [ 83.40018  ]\n",
      " [100.770096 ]]\n",
      "step: 1200 Cost: 135.11319 Hy_value: [[ 10.123829]\n",
      " [ 10.063809]\n",
      " [ 55.041573]\n",
      " [ 83.399086]\n",
      " [100.76826 ]]\n",
      "step: 1300 Cost: 134.83023 Hy_value: [[ 10.087238]\n",
      " [ 10.108332]\n",
      " [ 55.043083]\n",
      " [ 83.39805 ]\n",
      " [100.76639 ]]\n",
      "step: 1400 Cost: 134.54993 Hy_value: [[ 10.051109]\n",
      " [ 10.152529]\n",
      " [ 55.044605]\n",
      " [ 83.39704 ]\n",
      " [100.764534]]\n",
      "step: 1500 Cost: 134.27223 Hy_value: [[ 10.015429]\n",
      " [ 10.19639 ]\n",
      " [ 55.046085]\n",
      " [ 83.395966]\n",
      " [100.76262 ]]\n",
      "step: 1600 Cost: 133.9971 Hy_value: [[  9.980204]\n",
      " [ 10.239935]\n",
      " [ 55.04758 ]\n",
      " [ 83.39496 ]\n",
      " [100.76076 ]]\n",
      "step: 1700 Cost: 133.72443 Hy_value: [[  9.945429]\n",
      " [ 10.283159]\n",
      " [ 55.049034]\n",
      " [ 83.39393 ]\n",
      " [100.7589  ]]\n",
      "step: 1800 Cost: 133.45416 Hy_value: [[  9.9111  ]\n",
      " [ 10.326069]\n",
      " [ 55.050495]\n",
      " [ 83.39287 ]\n",
      " [100.75706 ]]\n",
      "step: 1900 Cost: 133.18637 Hy_value: [[  9.877199]\n",
      " [ 10.368658]\n",
      " [ 55.051907]\n",
      " [ 83.39181 ]\n",
      " [100.75518 ]]\n"
     ]
    }
   ],
   "source": [
    "# sess.run(tf.global_variables_initializer())\n",
    "\n",
    "# for step in range(2000):\n",
    "#     cost_val, hy_val, _ = sess.run([cost, hypothesis, train], feed_dict={X:x_data, Y:y_data})\n",
    "    \n",
    "#     if step % 100 == 0:\n",
    "#         print(\"step:\", step, \"Cost:\", cost_val, \"Hy_value:\", hy_val)"
   ]
  },
  {
   "cell_type": "code",
   "execution_count": 5,
   "metadata": {},
   "outputs": [],
   "source": [
    "import pandas as pd"
   ]
  },
  {
   "cell_type": "code",
   "execution_count": 20,
   "metadata": {},
   "outputs": [],
   "source": [
    "data = pd.read_csv(\"test-score.csv\")"
   ]
  },
  {
   "cell_type": "code",
   "execution_count": 21,
   "metadata": {},
   "outputs": [],
   "source": [
    "xy = np.loadtxt('test-score.csv', delimiter=',', dtype=np.float32)"
   ]
  },
  {
   "cell_type": "code",
   "execution_count": 22,
   "metadata": {},
   "outputs": [],
   "source": [
    "x = xy[:,:len(xy[1])-1]"
   ]
  },
  {
   "cell_type": "code",
   "execution_count": 23,
   "metadata": {},
   "outputs": [],
   "source": [
    "y = xy[:,len(xy[1])-1:len(xy[1])]"
   ]
  },
  {
   "cell_type": "code",
   "execution_count": 24,
   "metadata": {},
   "outputs": [],
   "source": [
    "x_data = xy[:,0:-1]\n",
    "y_data = xy[:,[-1]]"
   ]
  },
  {
   "cell_type": "code",
   "execution_count": 25,
   "metadata": {},
   "outputs": [
    {
     "data": {
      "text/plain": [
       "array([[152.],\n",
       "       [185.],\n",
       "       [180.],\n",
       "       [196.],\n",
       "       [142.],\n",
       "       [101.],\n",
       "       [149.],\n",
       "       [115.],\n",
       "       [175.],\n",
       "       [164.],\n",
       "       [141.],\n",
       "       [141.],\n",
       "       [184.],\n",
       "       [152.],\n",
       "       [148.],\n",
       "       [192.],\n",
       "       [147.],\n",
       "       [183.],\n",
       "       [177.],\n",
       "       [159.],\n",
       "       [177.],\n",
       "       [175.],\n",
       "       [175.],\n",
       "       [149.],\n",
       "       [192.]], dtype=float32)"
      ]
     },
     "execution_count": 25,
     "metadata": {},
     "output_type": "execute_result"
    }
   ],
   "source": [
    "y_data"
   ]
  },
  {
   "cell_type": "code",
   "execution_count": 26,
   "metadata": {},
   "outputs": [],
   "source": [
    "X = tf.placeholder(tf.float32, shape=[None,3])\n",
    "Y = tf.placeholder(tf.float32, shape=[None,1])\n",
    "\n",
    "W = tf.Variable(tf.random_normal([3,1]), name = 'weight')\n",
    "b = tf.Variable(tf.random_normal([1]), name = 'bias')\n",
    "\n",
    "hypothesis = tf.matmul(X,W)+b\n",
    "cost = tf.reduce_mean(tf.square(hypothesis-Y))\n",
    "optimizer = tf.train.GradientDescentOptimizer(learning_rate=1e-5)\n",
    "train  = optimizer.minimize(cost)"
   ]
  },
  {
   "cell_type": "code",
   "execution_count": 27,
   "metadata": {},
   "outputs": [],
   "source": [
    "sess = tf.Session()"
   ]
  },
  {
   "cell_type": "code",
   "execution_count": 29,
   "metadata": {},
   "outputs": [
    {
     "name": "stdout",
     "output_type": "stream",
     "text": [
      "step: 0 Cost: 15565.334 Hy_value: [[25.227663]\n",
      " [49.537407]\n",
      " [38.415154]\n",
      " [47.052254]\n",
      " [38.39585 ]\n",
      " [38.881985]\n",
      " [37.80124 ]\n",
      " [30.997774]\n",
      " [57.272842]\n",
      " [66.48671 ]\n",
      " [36.795753]\n",
      " [46.851692]\n",
      " [34.60961 ]\n",
      " [22.646502]\n",
      " [41.446037]\n",
      " [53.497093]\n",
      " [21.201769]\n",
      " [44.077538]\n",
      " [29.207865]\n",
      " [25.06692 ]\n",
      " [45.114067]\n",
      " [50.422462]\n",
      " [39.900185]\n",
      " [13.566248]\n",
      " [45.795372]]\n",
      "step: 1000 Cost: 45.25943 Hy_value: [[145.84775]\n",
      " [188.3241 ]\n",
      " [178.47556]\n",
      " [198.0925 ]\n",
      " [143.93932]\n",
      " [113.66236]\n",
      " [150.37086]\n",
      " [113.94921]\n",
      " [183.71507]\n",
      " [179.74197]\n",
      " [144.94258]\n",
      " [150.18243]\n",
      " [180.73305]\n",
      " [145.83894]\n",
      " [153.44319]\n",
      " [193.47908]\n",
      " [138.42207]\n",
      " [179.66216]\n",
      " [169.70636]\n",
      " [151.17758]\n",
      " [176.76434]\n",
      " [179.55898]\n",
      " [166.36917]\n",
      " [138.52086]\n",
      " [191.30716]]\n"
     ]
    }
   ],
   "source": [
    "sess.run(tf.global_variables_initializer())\n",
    "\n",
    "for step in range(2000):\n",
    "    cost_val, hy_val, _ = sess.run([cost, hypothesis, train], feed_dict={X:x_data, Y:y_data})\n",
    "    \n",
    "    if step % 1000 == 0:\n",
    "        print(\"step:\", step, \"Cost:\", cost_val, \"Hy_value:\", hy_val)"
   ]
  },
  {
   "cell_type": "code",
   "execution_count": null,
   "metadata": {},
   "outputs": [],
   "source": []
  },
  {
   "cell_type": "code",
   "execution_count": null,
   "metadata": {},
   "outputs": [],
   "source": []
  }
 ],
 "metadata": {
  "kernelspec": {
   "display_name": "Python 3",
   "language": "python",
   "name": "python3"
  },
  "language_info": {
   "codemirror_mode": {
    "name": "ipython",
    "version": 3
   },
   "file_extension": ".py",
   "mimetype": "text/x-python",
   "name": "python",
   "nbconvert_exporter": "python",
   "pygments_lexer": "ipython3",
   "version": "3.6.5"
  }
 },
 "nbformat": 4,
 "nbformat_minor": 2
}
