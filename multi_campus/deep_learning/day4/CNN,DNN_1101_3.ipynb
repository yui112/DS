{
 "cells": [
  {
   "cell_type": "code",
   "execution_count": 1,
   "metadata": {
    "scrolled": true
   },
   "outputs": [
    {
     "name": "stderr",
     "output_type": "stream",
     "text": [
      "/Users/yunsungsong/anaconda3/lib/python3.6/site-packages/h5py/__init__.py:36: FutureWarning: Conversion of the second argument of issubdtype from `float` to `np.floating` is deprecated. In future, it will be treated as `np.float64 == np.dtype(float).type`.\n",
      "  from ._conv import register_converters as _register_converters\n"
     ]
    },
    {
     "name": "stdout",
     "output_type": "stream",
     "text": [
      "WARNING:tensorflow:From <ipython-input-1-d8dbec9078d4>:4: read_data_sets (from tensorflow.contrib.learn.python.learn.datasets.mnist) is deprecated and will be removed in a future version.\n",
      "Instructions for updating:\n",
      "Please use alternatives such as official/mnist/dataset.py from tensorflow/models.\n",
      "WARNING:tensorflow:From /Users/yunsungsong/anaconda3/lib/python3.6/site-packages/tensorflow/contrib/learn/python/learn/datasets/mnist.py:260: maybe_download (from tensorflow.contrib.learn.python.learn.datasets.base) is deprecated and will be removed in a future version.\n",
      "Instructions for updating:\n",
      "Please write your own downloading logic.\n",
      "WARNING:tensorflow:From /Users/yunsungsong/anaconda3/lib/python3.6/site-packages/tensorflow/contrib/learn/python/learn/datasets/mnist.py:262: extract_images (from tensorflow.contrib.learn.python.learn.datasets.mnist) is deprecated and will be removed in a future version.\n",
      "Instructions for updating:\n",
      "Please use tf.data to implement this functionality.\n",
      "Extracting MNIST_data/train-images-idx3-ubyte.gz\n",
      "WARNING:tensorflow:From /Users/yunsungsong/anaconda3/lib/python3.6/site-packages/tensorflow/contrib/learn/python/learn/datasets/mnist.py:267: extract_labels (from tensorflow.contrib.learn.python.learn.datasets.mnist) is deprecated and will be removed in a future version.\n",
      "Instructions for updating:\n",
      "Please use tf.data to implement this functionality.\n",
      "Extracting MNIST_data/train-labels-idx1-ubyte.gz\n",
      "WARNING:tensorflow:From /Users/yunsungsong/anaconda3/lib/python3.6/site-packages/tensorflow/contrib/learn/python/learn/datasets/mnist.py:110: dense_to_one_hot (from tensorflow.contrib.learn.python.learn.datasets.mnist) is deprecated and will be removed in a future version.\n",
      "Instructions for updating:\n",
      "Please use tf.one_hot on tensors.\n",
      "Extracting MNIST_data/t10k-images-idx3-ubyte.gz\n",
      "Extracting MNIST_data/t10k-labels-idx1-ubyte.gz\n",
      "WARNING:tensorflow:From /Users/yunsungsong/anaconda3/lib/python3.6/site-packages/tensorflow/contrib/learn/python/learn/datasets/mnist.py:290: DataSet.__init__ (from tensorflow.contrib.learn.python.learn.datasets.mnist) is deprecated and will be removed in a future version.\n",
      "Instructions for updating:\n",
      "Please use alternatives such as official/mnist/dataset.py from tensorflow/models.\n"
     ]
    }
   ],
   "source": [
    "import tensorflow as tf\n",
    "import numpy as np\n",
    "from tensorflow.examples.tutorials.mnist import input_data\n",
    "mnist = input_data.read_data_sets(\"MNIST_data/\",one_hot = True)"
   ]
  },
  {
   "cell_type": "code",
   "execution_count": 2,
   "metadata": {},
   "outputs": [],
   "source": [
    "x_data = mnist.train.images\n",
    "y_data = mnist.train.labels"
   ]
  },
  {
   "cell_type": "code",
   "execution_count": 3,
   "metadata": {},
   "outputs": [
    {
     "data": {
      "text/plain": [
       "(55000, 784)"
      ]
     },
     "execution_count": 3,
     "metadata": {},
     "output_type": "execute_result"
    }
   ],
   "source": [
    "x_data.shape"
   ]
  },
  {
   "cell_type": "code",
   "execution_count": 4,
   "metadata": {},
   "outputs": [],
   "source": [
    "# CNN부분은 이미지를 전처리하고\n",
    "# DNN에서 실제로 구현한다."
   ]
  },
  {
   "cell_type": "code",
   "execution_count": 5,
   "metadata": {},
   "outputs": [],
   "source": [
    "training_epoch = 15\n",
    "batch_size = 100\n",
    "learning_reat = 0.001"
   ]
  },
  {
   "cell_type": "code",
   "execution_count": 6,
   "metadata": {},
   "outputs": [],
   "source": [
    "X = tf.placeholder(tf.float32, [None,784 ])\n",
    "Y = tf.placeholder(tf.float32, [None,10 ])\n",
    "# drop을 위한 placeholder\n",
    "keep_prob = tf.placeholder(tf.float32)"
   ]
  },
  {
   "cell_type": "code",
   "execution_count": 7,
   "metadata": {},
   "outputs": [],
   "source": [
    "# CNN에 넣으려면 xdata를 image 파일 형태로 reshape해줘야한다.\n",
    "# 784개의 하나의 vector를 28*28*1 짜리 matrix로 변환\n",
    "X_img = tf.reshape(X,shape = [-1,28,28,1])"
   ]
  },
  {
   "cell_type": "code",
   "execution_count": 8,
   "metadata": {},
   "outputs": [
    {
     "name": "stdout",
     "output_type": "stream",
     "text": [
      "WARNING:tensorflow:From <ipython-input-8-d3fecbdeadc4>:66: softmax_cross_entropy_with_logits (from tensorflow.python.ops.nn_ops) is deprecated and will be removed in a future version.\n",
      "Instructions for updating:\n",
      "\n",
      "Future major versions of TensorFlow will allow gradients to flow\n",
      "into the labels input on backprop by default.\n",
      "\n",
      "See `tf.nn.softmax_cross_entropy_with_logits_v2`.\n",
      "\n"
     ]
    }
   ],
   "source": [
    "# CNN 첫번째 층 필터 32\n",
    "\n",
    "# weight 변수지정\n",
    "W1 = tf.Variable(tf.random_normal([3,3,1,32],stddev=0.01))\n",
    "# convol (filter) layer\n",
    "L1 = tf.nn.conv2d(X_img, W1, strides = [1,1,1,1], padding = \"SAME\")\n",
    "# relu layer\n",
    "L1 = tf.nn.relu(L1)\n",
    "# dropout\n",
    "L1 = tf.nn.dropout(L1, keep_prob = keep_prob)\n",
    "# pooling(max)\n",
    "L1 = tf.nn.max_pool(L1,ksize = [1,2,2,1],strides=[1,2,2,1],padding=\"SAME\")\n",
    "\n",
    "# -1 * 14 * 14 * 32\n",
    "\n",
    "# CNN 두번째 층 필터 64\n",
    "\n",
    "W2 = tf.Variable(tf.random_normal([3,3,32,64],stddev=0.01))\n",
    "# convol (filter) layer\n",
    "L2 = tf.nn.conv2d(L1, W2, strides = [1,1,1,1], padding = \"SAME\")\n",
    "# relu layer\n",
    "L2 = tf.nn.relu(L2)\n",
    "# dropout\n",
    "L2 = tf.nn.dropout(L2, keep_prob = keep_prob)\n",
    "# pooling(max)\n",
    "L2 = tf.nn.max_pool(L2,ksize = [1,2,2,1],strides=[1,2,2,1],padding=\"SAME\")\n",
    "\n",
    "# -1 * 7 * 7 * 64\n",
    "\n",
    "# CNN 세번째 층 필터 128\n",
    "\n",
    "W3 = tf.Variable(tf.random_normal([3,3,64,128],stddev=0.01))\n",
    "# convol (filter) layer\n",
    "L3 = tf.nn.conv2d(L2, W3, strides = [1,1,1,1], padding = \"SAME\")\n",
    "# relu layer\n",
    "L3 = tf.nn.relu(L3)\n",
    "# dropout\n",
    "L3 = tf.nn.dropout(L3, keep_prob = keep_prob)\n",
    "# pooling(max)\n",
    "L3 = tf.nn.max_pool(L3,ksize = [1,2,2,1],strides=[1,2,2,1],padding=\"SAME\")\n",
    "\n",
    "# -1 * 4 * 4 * 128\n",
    "# -1이 image갯수, 4 x 4 , depth가 128개\n",
    "\n",
    "# 이거 DNN으로 넘기려면(결과값) 다시 하나의 vector로 reshape해줘야한다.\n",
    "L3_flat = tf.reshape(L3, shape = [-1, 4 * 4 * 128])\n",
    "\n",
    "# DNN 첫번째 층 node 625\n",
    "\n",
    "W3 = tf.get_variable(\"W3\",shape = [4 * 4 * 128, 625],initializer= tf.contrib.layers.xavier_initializer())\n",
    "L4 = tf.nn.relu(tf.matmul(L3_flat,W3))\n",
    "L4 = tf.nn.dropout(L4, keep_prob = keep_prob)\n",
    "\n",
    "# DNN 두번쨰 층 node 256\n",
    "\n",
    "W4 = tf.get_variable(\"W4\",shape = [625, 256],initializer= tf.contrib.layers.xavier_initializer())\n",
    "L5 = tf.nn.relu(tf.matmul(L4,W4))\n",
    "L5 = tf.nn.dropout(L5, keep_prob = keep_prob)\n",
    "\n",
    "# 마지막\n",
    "W5 = tf.get_variable(\"W5\",shape = [256,10], initializer= tf.contrib.layers.xavier_initializer())\n",
    "logits = tf.matmul(L5,W5)\n",
    "\n",
    "hypothesis = tf.nn.softmax(logits)\n",
    "\n",
    "cost = tf.reduce_mean(tf.nn.softmax_cross_entropy_with_logits(logits = logits, labels = Y))\n",
    "# optimizer\n",
    "# optimizer = tf.train.GradientDescentOptimizer(learning_rate=0.01)\n",
    "optimizer = tf.train.AdamOptimizer(learning_rate=0.01)\n",
    "# 그래프그리기\n",
    "train = optimizer.minimize(cost)"
   ]
  },
  {
   "cell_type": "code",
   "execution_count": 9,
   "metadata": {},
   "outputs": [
    {
     "name": "stdout",
     "output_type": "stream",
     "text": [
      "Epoch 0 Cost 0.4988601893999359\n",
      "Epoch 1 Cost 0.2811866782199251\n",
      "Epoch 2 Cost 0.24630567378618481\n",
      "Epoch 3 Cost 0.2470569847930564\n",
      "Epoch 4 Cost 0.23878293129530817\n",
      "Epoch 5 Cost 0.24203002585606162\n",
      "Epoch 6 Cost 0.24807186138900852\n",
      "Epoch 7 Cost 0.22316944968294022\n",
      "Epoch 8 Cost 0.2503615116090935\n",
      "Epoch 9 Cost 0.2527445917305621\n",
      "Epoch 10 Cost 0.24977120459079769\n",
      "Epoch 11 Cost 0.28587415093725377\n",
      "Epoch 12 Cost 0.25805462069809426\n",
      "Epoch 13 Cost 0.24398258692838945\n",
      "Epoch 14 Cost 0.24182686544277457\n"
     ]
    }
   ],
   "source": [
    "sess = tf.Session()\n",
    "sess.run(tf.global_variables_initializer())\n",
    "for epoch in range(training_epoch):\n",
    "    total_batch = int(mnist.train.num_examples/batch_size)\n",
    "    avg_cost = 0\n",
    "    for i in range(total_batch):\n",
    "        batch_xs, batch_ys = mnist.train.next_batch(batch_size)\n",
    "        # slicing을 해서 x데이터와 y데이터를 나눠서 반환해준다.\n",
    "        c, _ = sess.run([cost,train], feed_dict = {X:batch_xs,Y:batch_ys,keep_prob:0.7})\n",
    "        avg_cost += c/total_batch\n",
    "        # cost를 다 더해서 total_Batch로 나눈것과 같은 효과\n",
    "    print(\"Epoch\",epoch, \"Cost\",avg_cost )"
   ]
  },
  {
   "cell_type": "code",
   "execution_count": 11,
   "metadata": {},
   "outputs": [
    {
     "data": {
      "text/plain": [
       "0.9653"
      ]
     },
     "execution_count": 11,
     "metadata": {},
     "output_type": "execute_result"
    }
   ],
   "source": [
    "x_test = mnist.test.images\n",
    "y_test = mnist.test.labels\n",
    "\n",
    "is_correct = tf.equal(tf.argmax(hypothesis,1),tf.argmax(Y,1))\n",
    "# hypothesis(예측값) 중 가장 큰 값의 index를 뽑아내는 것\n",
    "accuracy = tf.reduce_mean(tf.cast(is_correct, tf.float32))\n",
    "sess.run(accuracy, feed_dict={X:x_test,Y:y_test,keep_prob : 1})\n",
    "# accuracy할때는 1을 넣어야한다."
   ]
  },
  {
   "cell_type": "code",
   "execution_count": null,
   "metadata": {},
   "outputs": [],
   "source": []
  },
  {
   "cell_type": "code",
   "execution_count": null,
   "metadata": {},
   "outputs": [],
   "source": []
  },
  {
   "cell_type": "code",
   "execution_count": null,
   "metadata": {},
   "outputs": [],
   "source": []
  }
 ],
 "metadata": {
  "kernelspec": {
   "display_name": "Python 3",
   "language": "python",
   "name": "python3"
  },
  "language_info": {
   "codemirror_mode": {
    "name": "ipython",
    "version": 3
   },
   "file_extension": ".py",
   "mimetype": "text/x-python",
   "name": "python",
   "nbconvert_exporter": "python",
   "pygments_lexer": "ipython3",
   "version": "3.6.5"
  }
 },
 "nbformat": 4,
 "nbformat_minor": 2
}
