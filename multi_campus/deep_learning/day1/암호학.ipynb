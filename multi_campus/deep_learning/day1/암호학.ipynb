{
 "cells": [
  {
   "cell_type": "code",
   "execution_count": 1,
   "metadata": {},
   "outputs": [],
   "source": [
    "num = list(range(0, 10))"
   ]
  },
  {
   "cell_type": "code",
   "execution_count": 2,
   "metadata": {},
   "outputs": [],
   "source": [
    "num = ['0', '1', '2', '3', '4', '5', '6', '7', '8', '9']"
   ]
  },
  {
   "cell_type": "code",
   "execution_count": 3,
   "metadata": {},
   "outputs": [],
   "source": [
    "num = [str(i) for i in range(10)]"
   ]
  },
  {
   "cell_type": "code",
   "execution_count": 4,
   "metadata": {},
   "outputs": [],
   "source": [
    "alp = []\n",
    "for letter in range(97,123):\n",
    "    alp.append(chr(letter))"
   ]
  },
  {
   "cell_type": "code",
   "execution_count": 5,
   "metadata": {},
   "outputs": [],
   "source": [
    "ALP = []\n",
    "for letter in range(65, 91):\n",
    "    ALP.append(chr(letter))"
   ]
  },
  {
   "cell_type": "code",
   "execution_count": 6,
   "metadata": {},
   "outputs": [
    {
     "data": {
      "text/plain": [
       "'B'"
      ]
     },
     "execution_count": 6,
     "metadata": {},
     "output_type": "execute_result"
    }
   ],
   "source": [
    "ALP[1]"
   ]
  },
  {
   "cell_type": "code",
   "execution_count": 7,
   "metadata": {},
   "outputs": [],
   "source": [
    "text = \"2018/09/18 venis attack\""
   ]
  },
  {
   "cell_type": "code",
   "execution_count": 8,
   "metadata": {},
   "outputs": [],
   "source": [
    "text_set = list(text)"
   ]
  },
  {
   "cell_type": "code",
   "execution_count": 9,
   "metadata": {},
   "outputs": [
    {
     "data": {
      "text/plain": [
       "23"
      ]
     },
     "execution_count": 9,
     "metadata": {},
     "output_type": "execute_result"
    }
   ],
   "source": [
    "len(text_set)"
   ]
  },
  {
   "cell_type": "code",
   "execution_count": 10,
   "metadata": {},
   "outputs": [
    {
     "data": {
      "text/plain": [
       "'0'"
      ]
     },
     "execution_count": 10,
     "metadata": {},
     "output_type": "execute_result"
    }
   ],
   "source": [
    "text_set[1]"
   ]
  },
  {
   "cell_type": "code",
   "execution_count": 11,
   "metadata": {},
   "outputs": [],
   "source": [
    "for i in range (0, len(text_set)):\n",
    "    if text_set[i] in num:\n",
    "        record_num = 0\n",
    "        num_check = text_set[i]\n",
    "        \n",
    "        for j in range (0, 10):\n",
    "            if num[j] == num_check:\n",
    "                \n",
    "                if j+ 6>=10:\n",
    "                    k = (j + 6) - 10\n",
    "                    record_num = num[k]\n",
    "                \n",
    "                else:\n",
    "                    k = (j+6)\n",
    "                    record_num = num[k]\n",
    "                    \n",
    "        text_set[i] = record_num\n",
    "    \n",
    "    elif text_set[i] in alp:\n",
    "        record_alp = 0\n",
    "        alp_check = text_set[i]\n",
    "        \n",
    "        for k in range (0, 26):\n",
    "            if alp[k] == alp_check:\n",
    "                if k+ 6>=26:\n",
    "                    l = (k + 6) - 26\n",
    "                    record_alp = alp[l]\n",
    "                else:\n",
    "                    l = (k+6)\n",
    "                    record_alp = alp[l]\n",
    "        text_set[i] = record_alp\n",
    "        \n",
    "    elif text_set[i] in ALP:\n",
    "        record_ALP = 0\n",
    "        ALP_check = text_set[i]\n",
    "        \n",
    "        for m in range (0, 26):\n",
    "            if alp[m] == ALP_check:\n",
    "                if m+ 6>=26:\n",
    "                    l = (m + 6) - 26\n",
    "                    record_ALP = ALP[n]\n",
    "                else:\n",
    "                    l = (k+6)\n",
    "                    record_ALP = alp[n]\n",
    "        text_set[i] = record_ALP\n",
    "                    \n",
    "    "
   ]
  },
  {
   "cell_type": "code",
   "execution_count": 12,
   "metadata": {},
   "outputs": [
    {
     "data": {
      "text/plain": [
       "['8',\n",
       " '6',\n",
       " '7',\n",
       " '4',\n",
       " '/',\n",
       " '6',\n",
       " '5',\n",
       " '/',\n",
       " '7',\n",
       " '4',\n",
       " ' ',\n",
       " 'b',\n",
       " 'k',\n",
       " 't',\n",
       " 'o',\n",
       " 'y',\n",
       " ' ',\n",
       " 'g',\n",
       " 'z',\n",
       " 'z',\n",
       " 'g',\n",
       " 'i',\n",
       " 'q']"
      ]
     },
     "execution_count": 12,
     "metadata": {},
     "output_type": "execute_result"
    }
   ],
   "source": [
    "text_set "
   ]
  },
  {
   "cell_type": "code",
   "execution_count": 19,
   "metadata": {},
   "outputs": [
    {
     "name": "stdout",
     "output_type": "stream",
     "text": [
      "8674/65/74 bktoy gzzgiq"
     ]
    }
   ],
   "source": [
    "for i in range(0, len(text_set)):\n",
    "    print(text_set[i], end=\"\")"
   ]
  },
  {
   "cell_type": "code",
   "execution_count": null,
   "metadata": {},
   "outputs": [],
   "source": []
  },
  {
   "cell_type": "code",
   "execution_count": null,
   "metadata": {},
   "outputs": [],
   "source": []
  }
 ],
 "metadata": {
  "kernelspec": {
   "display_name": "Python 3",
   "language": "python",
   "name": "python3"
  },
  "language_info": {
   "codemirror_mode": {
    "name": "ipython",
    "version": 3
   },
   "file_extension": ".py",
   "mimetype": "text/x-python",
   "name": "python",
   "nbconvert_exporter": "python",
   "pygments_lexer": "ipython3",
   "version": "3.6.5"
  }
 },
 "nbformat": 4,
 "nbformat_minor": 2
}
