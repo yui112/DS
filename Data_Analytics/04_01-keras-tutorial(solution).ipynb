{
 "cells": [
  {
   "cell_type": "markdown",
   "metadata": {},
   "source": [
    "## Prerequisites"
   ]
  },
  {
   "cell_type": "code",
   "execution_count": 17,
   "metadata": {},
   "outputs": [],
   "source": [
    "!pip install keras"
   ]
  },
  {
   "cell_type": "code",
   "execution_count": 2,
   "metadata": {},
   "outputs": [
    {
     "name": "stderr",
     "output_type": "stream",
     "text": [
      "Using TensorFlow backend.\n",
      "/Users/shaynekang/anaconda3/lib/python3.6/importlib/_bootstrap.py:219: RuntimeWarning: compiletime version 3.5 of module 'tensorflow.python.framework.fast_tensor_util' does not match runtime version 3.6\n",
      "  return f(*args, **kwds)\n"
     ]
    }
   ],
   "source": [
    "import keras\n",
    "import numpy as np\n",
    "import pandas as pd"
   ]
  },
  {
   "cell_type": "markdown",
   "metadata": {},
   "source": [
    "## Load Dataset"
   ]
  },
  {
   "cell_type": "code",
   "execution_count": 3,
   "metadata": {},
   "outputs": [
    {
     "name": "stdout",
     "output_type": "stream",
     "text": [
      "(60000, 28, 28) (60000,)\n",
      "(10000, 28, 28) (10000,)\n"
     ]
    }
   ],
   "source": [
    "from keras.datasets import mnist\n",
    "\n",
    "((X_train, y_train), (X_test, y_test)) = mnist.load_data()\n",
    " \n",
    "print(X_train.shape, y_train.shape)\n",
    "print(X_test.shape, y_test.shape)"
   ]
  },
  {
   "cell_type": "markdown",
   "metadata": {},
   "source": [
    "### Visualize"
   ]
  },
  {
   "cell_type": "code",
   "execution_count": 4,
   "metadata": {},
   "outputs": [
    {
     "name": "stdout",
     "output_type": "stream",
     "text": [
      "[5 0 4 1 9 2 1 3 1 4]\n"
     ]
    },
    {
     "data": {
      "text/plain": [
       "<matplotlib.image.AxesImage at 0x1822d2cf28>"
      ]
     },
     "execution_count": 4,
     "metadata": {},
     "output_type": "execute_result"
    },
    {
     "data": {
      "text/plain": [
       "<matplotlib.figure.Figure at 0x10a60ce48>"
      ]
     },
     "metadata": {},
     "output_type": "display_data"
    },
    {
     "data": {
      "image/png": "[encoded data removed]",
      "text/plain": [
       "<matplotlib.figure.Figure at 0x181718a7f0>"
      ]
     },
     "metadata": {},
     "output_type": "display_data"
    }
   ],
   "source": [
    "%matplotlib inline\n",
    "import matplotlib.pyplot as plt\n",
    "\n",
    "plt.gray()\n",
    "\n",
    "print(y_train[0:10])\n",
    "\n",
    "figures, axes = plt.subplots(nrows=2, ncols=5)\n",
    "figures.set_size_inches(18, 8)\n",
    "\n",
    "axes[0][0].matshow(X_train[0])\n",
    "axes[0][1].matshow(X_train[1])\n",
    "axes[0][2].matshow(X_train[2])\n",
    "axes[0][3].matshow(X_train[3])\n",
    "axes[0][4].matshow(X_train[4])\n",
    "axes[1][0].matshow(X_train[5])\n",
    "axes[1][1].matshow(X_train[6])\n",
    "axes[1][2].matshow(X_train[7])\n",
    "axes[1][3].matshow(X_train[8])\n",
    "axes[1][4].matshow(X_train[9])"
   ]
  },
  {
   "cell_type": "markdown",
   "metadata": {},
   "source": [
    "## Single-layer & Multi-layer Neural Network"
   ]
  },
  {
   "cell_type": "markdown",
   "metadata": {},
   "source": [
    "### Preprocessing"
   ]
  },
  {
   "cell_type": "code",
   "execution_count": 5,
   "metadata": {},
   "outputs": [
    {
     "name": "stdout",
     "output_type": "stream",
     "text": [
      "(60000, 784) (10000, 784)\n"
     ]
    }
   ],
   "source": [
    "X_train = X_train.reshape(60000, 28 * 28)\n",
    "X_test = X_test.reshape(10000, 28 * 28)\n",
    "\n",
    "print(X_train.shape, X_test.shape)"
   ]
  },
  {
   "cell_type": "code",
   "execution_count": 6,
   "metadata": {},
   "outputs": [
    {
     "name": "stdout",
     "output_type": "stream",
     "text": [
      "(60000, 10) (10000, 10)\n"
     ]
    }
   ],
   "source": [
    "from keras.utils import to_categorical\n",
    "\n",
    "# One hot encoding을 합니다.\n",
    "# np.eye(10)[y_train]과 동일합니다.\n",
    "y_train_hot = to_categorical(y_train)\n",
    "\n",
    "# np.eye(10)[y_test]와 동일합니다.\n",
    "y_test_hot = to_categorical(y_test)\n",
    "\n",
    "print(y_train_hot.shape, y_test_hot.shape)"
   ]
  },
  {
   "cell_type": "markdown",
   "metadata": {},
   "source": [
    "### Build a Single-layer Neural Network"
   ]
  },
  {
   "cell_type": "code",
   "execution_count": 7,
   "metadata": {
    "collapsed": true
   },
   "outputs": [],
   "source": [
    "from keras.models import Sequential\n",
    "from keras.layers import Dense, Activation\n",
    "from keras.initializers import RandomUniform\n",
    "from keras.optimizers import SGD\n",
    "\n",
    "model = Sequential()\n",
    "model.add(Dense(units=10,\n",
    "                kernel_initializer=RandomUniform(minval=0.0, maxval=0.001),\n",
    "                input_shape=(28 * 28,)))\n",
    "model.add(Activation('sigmoid'))\n",
    "\n",
    "optimizers = SGD(lr=0.00001)\n",
    "model.compile(optimizer=optimizers,\n",
    "              loss='categorical_crossentropy',\n",
    "              metrics=['accuracy'])"
   ]
  },
  {
   "cell_type": "code",
   "execution_count": 8,
   "metadata": {},
   "outputs": [
    {
     "name": "stdout",
     "output_type": "stream",
     "text": [
      "Train on 60000 samples, validate on 10000 samples\n",
      "Epoch 1/20\n",
      "60000/60000 [==============================] - 7s 124us/step - loss: 2.2816 - acc: 0.1595 - val_loss: 2.1349 - val_acc: 0.1172\n",
      "Epoch 2/20\n",
      "60000/60000 [==============================] - 5s 86us/step - loss: 1.7515 - acc: 0.1135 - val_loss: 1.0516 - val_acc: 0.1136\n",
      "Epoch 3/20\n",
      "60000/60000 [==============================] - 5s 81us/step - loss: 1.0272 - acc: 0.1139 - val_loss: 0.9894 - val_acc: 0.1151\n",
      "Epoch 4/20\n",
      "60000/60000 [==============================] - 4s 71us/step - loss: 0.9996 - acc: 0.1177 - val_loss: 0.9790 - val_acc: 0.1168\n",
      "Epoch 5/20\n",
      "60000/60000 [==============================] - 3s 56us/step - loss: 0.9875 - acc: 0.1224 - val_loss: 0.9786 - val_acc: 0.1286\n",
      "Epoch 6/20\n",
      "60000/60000 [==============================] - 3s 58us/step - loss: 0.9817 - acc: 0.1290 - val_loss: 0.9798 - val_acc: 0.1305\n",
      "Epoch 7/20\n",
      "60000/60000 [==============================] - 4s 69us/step - loss: 0.9765 - acc: 0.1351 - val_loss: 0.9764 - val_acc: 0.1391\n",
      "Epoch 8/20\n",
      "60000/60000 [==============================] - 4s 60us/step - loss: 0.9724 - acc: 0.1438 - val_loss: 1.0080 - val_acc: 0.1520\n",
      "Epoch 9/20\n",
      "60000/60000 [==============================] - 3s 56us/step - loss: 0.9686 - acc: 0.1586 - val_loss: 0.9833 - val_acc: 0.1764\n",
      "Epoch 10/20\n",
      "60000/60000 [==============================] - 4s 62us/step - loss: 0.9659 - acc: 0.1984 - val_loss: 0.9710 - val_acc: 0.2775\n",
      "Epoch 11/20\n",
      "60000/60000 [==============================] - 4s 65us/step - loss: 0.4391 - acc: 0.8220 - val_loss: 0.3285 - val_acc: 0.9103\n",
      "Epoch 12/20\n",
      "60000/60000 [==============================] - 4s 59us/step - loss: 0.3259 - acc: 0.9087 - val_loss: 0.3775 - val_acc: 0.8998\n",
      "Epoch 13/20\n",
      "60000/60000 [==============================] - 3s 55us/step - loss: 0.3165 - acc: 0.9120 - val_loss: 0.3396 - val_acc: 0.9052\n",
      "Epoch 14/20\n",
      "60000/60000 [==============================] - 3s 54us/step - loss: 0.3089 - acc: 0.9149 - val_loss: 0.3208 - val_acc: 0.9142\n",
      "Epoch 15/20\n",
      "60000/60000 [==============================] - 4s 58us/step - loss: 0.3056 - acc: 0.9141 - val_loss: 0.3333 - val_acc: 0.9115\n",
      "Epoch 16/20\n",
      "60000/60000 [==============================] - 4s 72us/step - loss: 0.3042 - acc: 0.9141 - val_loss: 0.3206 - val_acc: 0.9137\n",
      "Epoch 17/20\n",
      "60000/60000 [==============================] - 4s 74us/step - loss: 0.2997 - acc: 0.9163 - val_loss: 0.3149 - val_acc: 0.9153\n",
      "Epoch 18/20\n",
      "60000/60000 [==============================] - 4s 63us/step - loss: 0.2988 - acc: 0.9165 - val_loss: 0.3520 - val_acc: 0.9026\n",
      "Epoch 19/20\n",
      "60000/60000 [==============================] - 4s 65us/step - loss: 0.2960 - acc: 0.9171 - val_loss: 0.2994 - val_acc: 0.9203\n",
      "Epoch 20/20\n",
      "60000/60000 [==============================] - 4s 68us/step - loss: 0.2922 - acc: 0.9174 - val_loss: 0.3219 - val_acc: 0.9150\n"
     ]
    },
    {
     "data": {
      "text/plain": [
       "<keras.callbacks.History at 0x18171589e8>"
      ]
     },
     "execution_count": 8,
     "metadata": {},
     "output_type": "execute_result"
    }
   ],
   "source": [
    "model.fit(X_train,\n",
    "          y_train_hot,\n",
    "          epochs=20,\n",
    "          validation_data=(X_test, y_test_hot))"
   ]
  },
  {
   "cell_type": "code",
   "execution_count": 9,
   "metadata": {},
   "outputs": [
    {
     "name": "stdout",
     "output_type": "stream",
     "text": [
      "Accuracy = 0.915000\n"
     ]
    },
    {
     "data": {
      "text/html": [
       "<div>\n",
       "<style>\n",
       "    .dataframe thead tr:only-child th {\n",
       "        text-align: right;\n",
       "    }\n",
       "\n",
       "    .dataframe thead th {\n",
       "        text-align: left;\n",
       "    }\n",
       "\n",
       "    .dataframe tbody tr th {\n",
       "        vertical-align: top;\n",
       "    }\n",
       "</style>\n",
       "<table border=\"1\" class=\"dataframe\">\n",
       "  <thead>\n",
       "    <tr style=\"text-align: right;\">\n",
       "      <th></th>\n",
       "      <th>actual</th>\n",
       "      <th>predict</th>\n",
       "    </tr>\n",
       "  </thead>\n",
       "  <tbody>\n",
       "    <tr>\n",
       "      <th>0</th>\n",
       "      <td>7</td>\n",
       "      <td>7</td>\n",
       "    </tr>\n",
       "    <tr>\n",
       "      <th>1</th>\n",
       "      <td>2</td>\n",
       "      <td>2</td>\n",
       "    </tr>\n",
       "    <tr>\n",
       "      <th>2</th>\n",
       "      <td>1</td>\n",
       "      <td>1</td>\n",
       "    </tr>\n",
       "    <tr>\n",
       "      <th>3</th>\n",
       "      <td>0</td>\n",
       "      <td>0</td>\n",
       "    </tr>\n",
       "    <tr>\n",
       "      <th>4</th>\n",
       "      <td>4</td>\n",
       "      <td>4</td>\n",
       "    </tr>\n",
       "    <tr>\n",
       "      <th>5</th>\n",
       "      <td>1</td>\n",
       "      <td>1</td>\n",
       "    </tr>\n",
       "    <tr>\n",
       "      <th>6</th>\n",
       "      <td>4</td>\n",
       "      <td>4</td>\n",
       "    </tr>\n",
       "    <tr>\n",
       "      <th>7</th>\n",
       "      <td>9</td>\n",
       "      <td>9</td>\n",
       "    </tr>\n",
       "    <tr>\n",
       "      <th>8</th>\n",
       "      <td>5</td>\n",
       "      <td>6</td>\n",
       "    </tr>\n",
       "    <tr>\n",
       "      <th>9</th>\n",
       "      <td>9</td>\n",
       "      <td>9</td>\n",
       "    </tr>\n",
       "  </tbody>\n",
       "</table>\n",
       "</div>"
      ],
      "text/plain": [
       "   actual  predict\n",
       "0       7        7\n",
       "1       2        2\n",
       "2       1        1\n",
       "3       0        0\n",
       "4       4        4\n",
       "5       1        1\n",
       "6       4        4\n",
       "7       9        9\n",
       "8       5        6\n",
       "9       9        9"
      ]
     },
     "execution_count": 9,
     "metadata": {},
     "output_type": "execute_result"
    }
   ],
   "source": [
    "predictions = model.predict(X_test)\n",
    "predictions = np.argmax(predictions, axis=1)\n",
    "\n",
    "result = pd.DataFrame({'actual': y_test, 'predict': predictions})\n",
    "\n",
    "accuracy = (result['actual'] == result['predict']).mean()\n",
    "print(\"Accuracy = {0:.6f}\".format(accuracy))\n",
    "      \n",
    "result.head(10)"
   ]
  },
  {
   "cell_type": "markdown",
   "metadata": {},
   "source": [
    "### Build a Multi-layer Neural Network"
   ]
  },
  {
   "cell_type": "code",
   "execution_count": 10,
   "metadata": {
    "collapsed": true
   },
   "outputs": [],
   "source": [
    "from keras.models import Sequential\n",
    "from keras.layers import Dense, Activation\n",
    "from keras.initializers import RandomUniform\n",
    "from keras.optimizers import SGD\n",
    "\n",
    "model = Sequential()\n",
    "model.add(Dense(units=1000,\n",
    "                kernel_initializer=RandomUniform(minval=-0.058, maxval=0.058),\n",
    "                input_shape=(28 * 28,)))\n",
    "model.add(Activation('sigmoid'))\n",
    "model.add(Dense(units=10,\n",
    "                kernel_initializer=RandomUniform(minval=-0.077, maxval=0.077)))\n",
    "\n",
    "model.add(Activation('sigmoid'))\n",
    "\n",
    "optimizers = SGD(lr=0.0001)\n",
    "model.compile(optimizer=optimizers,\n",
    "              loss='categorical_crossentropy',\n",
    "              metrics=['accuracy'])"
   ]
  },
  {
   "cell_type": "code",
   "execution_count": 11,
   "metadata": {},
   "outputs": [
    {
     "name": "stdout",
     "output_type": "stream",
     "text": [
      "Train on 60000 samples, validate on 10000 samples\n",
      "Epoch 1/30\n",
      "60000/60000 [==============================] - 37s 624us/step - loss: 2.1917 - acc: 0.2092 - val_loss: 2.0066 - val_acc: 0.3986\n",
      "Epoch 2/30\n",
      "60000/60000 [==============================] - 34s 572us/step - loss: 1.8178 - acc: 0.5373 - val_loss: 1.5939 - val_acc: 0.6430\n",
      "Epoch 3/30\n",
      "60000/60000 [==============================] - 27s 449us/step - loss: 1.4097 - acc: 0.6938 - val_loss: 1.2145 - val_acc: 0.7497\n",
      "Epoch 4/30\n",
      "60000/60000 [==============================] - 31s 518us/step - loss: 1.1065 - acc: 0.7708 - val_loss: 0.9806 - val_acc: 0.8023\n",
      "Epoch 5/30\n",
      "60000/60000 [==============================] - 33s 542us/step - loss: 0.9202 - acc: 0.8096 - val_loss: 0.8370 - val_acc: 0.8270\n",
      "Epoch 6/30\n",
      "60000/60000 [==============================] - 26s 437us/step - loss: 0.7999 - acc: 0.8326 - val_loss: 0.7414 - val_acc: 0.8442\n",
      "Epoch 7/30\n",
      "60000/60000 [==============================] - 23s 382us/step - loss: 0.7165 - acc: 0.8480 - val_loss: 0.6729 - val_acc: 0.8549\n",
      "Epoch 8/30\n",
      "60000/60000 [==============================] - 26s 438us/step - loss: 0.6551 - acc: 0.8589 - val_loss: 0.6215 - val_acc: 0.8630\n",
      "Epoch 9/30\n",
      "60000/60000 [==============================] - 22s 361us/step - loss: 0.6077 - acc: 0.8683 - val_loss: 0.5819 - val_acc: 0.8693\n",
      "Epoch 10/30\n",
      "60000/60000 [==============================] - 24s 397us/step - loss: 0.5699 - acc: 0.8752 - val_loss: 0.5497 - val_acc: 0.8761\n",
      "Epoch 11/30\n",
      "60000/60000 [==============================] - 23s 388us/step - loss: 0.5387 - acc: 0.8809 - val_loss: 0.5231 - val_acc: 0.8811\n",
      "Epoch 12/30\n",
      "60000/60000 [==============================] - 26s 441us/step - loss: 0.5126 - acc: 0.8863 - val_loss: 0.5010 - val_acc: 0.8834\n",
      "Epoch 13/30\n",
      "60000/60000 [==============================] - 25s 418us/step - loss: 0.4904 - acc: 0.8900 - val_loss: 0.4822 - val_acc: 0.8870\n",
      "Epoch 14/30\n",
      "60000/60000 [==============================] - 26s 426us/step - loss: 0.4712 - acc: 0.8939 - val_loss: 0.4658 - val_acc: 0.8893\n",
      "Epoch 15/30\n",
      "60000/60000 [==============================] - 27s 446us/step - loss: 0.4544 - acc: 0.8969 - val_loss: 0.4514 - val_acc: 0.8925\n",
      "Epoch 16/30\n",
      "60000/60000 [==============================] - 26s 428us/step - loss: 0.4396 - acc: 0.8995 - val_loss: 0.4385 - val_acc: 0.8946\n",
      "Epoch 17/30\n",
      "60000/60000 [==============================] - 33s 552us/step - loss: 0.4262 - acc: 0.9025 - val_loss: 0.4275 - val_acc: 0.8964\n",
      "Epoch 18/30\n",
      "60000/60000 [==============================] - 31s 515us/step - loss: 0.4142 - acc: 0.9050 - val_loss: 0.4171 - val_acc: 0.8977\n",
      "Epoch 19/30\n",
      "60000/60000 [==============================] - 32s 535us/step - loss: 0.4033 - acc: 0.9072 - val_loss: 0.4078 - val_acc: 0.8991\n",
      "Epoch 20/30\n",
      "60000/60000 [==============================] - 33s 557us/step - loss: 0.3934 - acc: 0.9087 - val_loss: 0.3994 - val_acc: 0.9007\n",
      "Epoch 21/30\n",
      "60000/60000 [==============================] - 31s 517us/step - loss: 0.3842 - acc: 0.9102 - val_loss: 0.3918 - val_acc: 0.9018\n",
      "Epoch 22/30\n",
      "60000/60000 [==============================] - 28s 461us/step - loss: 0.3758 - acc: 0.9119 - val_loss: 0.3847 - val_acc: 0.9022\n",
      "Epoch 23/30\n",
      "60000/60000 [==============================] - 27s 455us/step - loss: 0.3679 - acc: 0.9135 - val_loss: 0.3783 - val_acc: 0.9045\n",
      "Epoch 24/30\n",
      "60000/60000 [==============================] - 35s 586us/step - loss: 0.3606 - acc: 0.9147 - val_loss: 0.3722 - val_acc: 0.9054\n",
      "Epoch 25/30\n",
      "60000/60000 [==============================] - 31s 517us/step - loss: 0.3538 - acc: 0.9160 - val_loss: 0.3667 - val_acc: 0.9067\n",
      "Epoch 26/30\n",
      "60000/60000 [==============================] - 33s 554us/step - loss: 0.3474 - acc: 0.9176 - val_loss: 0.3614 - val_acc: 0.9073\n",
      "Epoch 27/30\n",
      "60000/60000 [==============================] - 37s 616us/step - loss: 0.3413 - acc: 0.9189 - val_loss: 0.3565 - val_acc: 0.9075\n",
      "Epoch 28/30\n",
      "60000/60000 [==============================] - 34s 569us/step - loss: 0.3357 - acc: 0.9202 - val_loss: 0.3520 - val_acc: 0.9083\n",
      "Epoch 29/30\n",
      "60000/60000 [==============================] - 35s 576us/step - loss: 0.3303 - acc: 0.9213 - val_loss: 0.3476 - val_acc: 0.9082\n",
      "Epoch 30/30\n",
      "60000/60000 [==============================] - 36s 605us/step - loss: 0.3252 - acc: 0.9224 - val_loss: 0.3436 - val_acc: 0.9094\n"
     ]
    },
    {
     "data": {
      "text/plain": [
       "<keras.callbacks.History at 0x1823d511d0>"
      ]
     },
     "execution_count": 11,
     "metadata": {},
     "output_type": "execute_result"
    }
   ],
   "source": [
    "model.fit(X_train,\n",
    "          y_train_hot,\n",
    "          epochs=30,\n",
    "#           epochs=100,\n",
    "          validation_data=(X_test, y_test_hot))"
   ]
  },
  {
   "cell_type": "code",
   "execution_count": 12,
   "metadata": {},
   "outputs": [
    {
     "name": "stdout",
     "output_type": "stream",
     "text": [
      "Accuracy = 0.909400\n"
     ]
    },
    {
     "data": {
      "text/html": [
       "<div>\n",
       "<style>\n",
       "    .dataframe thead tr:only-child th {\n",
       "        text-align: right;\n",
       "    }\n",
       "\n",
       "    .dataframe thead th {\n",
       "        text-align: left;\n",
       "    }\n",
       "\n",
       "    .dataframe tbody tr th {\n",
       "        vertical-align: top;\n",
       "    }\n",
       "</style>\n",
       "<table border=\"1\" class=\"dataframe\">\n",
       "  <thead>\n",
       "    <tr style=\"text-align: right;\">\n",
       "      <th></th>\n",
       "      <th>actual</th>\n",
       "      <th>predict</th>\n",
       "    </tr>\n",
       "  </thead>\n",
       "  <tbody>\n",
       "    <tr>\n",
       "      <th>0</th>\n",
       "      <td>7</td>\n",
       "      <td>7</td>\n",
       "    </tr>\n",
       "    <tr>\n",
       "      <th>1</th>\n",
       "      <td>2</td>\n",
       "      <td>2</td>\n",
       "    </tr>\n",
       "    <tr>\n",
       "      <th>2</th>\n",
       "      <td>1</td>\n",
       "      <td>1</td>\n",
       "    </tr>\n",
       "    <tr>\n",
       "      <th>3</th>\n",
       "      <td>0</td>\n",
       "      <td>0</td>\n",
       "    </tr>\n",
       "    <tr>\n",
       "      <th>4</th>\n",
       "      <td>4</td>\n",
       "      <td>4</td>\n",
       "    </tr>\n",
       "    <tr>\n",
       "      <th>5</th>\n",
       "      <td>1</td>\n",
       "      <td>1</td>\n",
       "    </tr>\n",
       "    <tr>\n",
       "      <th>6</th>\n",
       "      <td>4</td>\n",
       "      <td>4</td>\n",
       "    </tr>\n",
       "    <tr>\n",
       "      <th>7</th>\n",
       "      <td>9</td>\n",
       "      <td>9</td>\n",
       "    </tr>\n",
       "    <tr>\n",
       "      <th>8</th>\n",
       "      <td>5</td>\n",
       "      <td>2</td>\n",
       "    </tr>\n",
       "    <tr>\n",
       "      <th>9</th>\n",
       "      <td>9</td>\n",
       "      <td>9</td>\n",
       "    </tr>\n",
       "  </tbody>\n",
       "</table>\n",
       "</div>"
      ],
      "text/plain": [
       "   actual  predict\n",
       "0       7        7\n",
       "1       2        2\n",
       "2       1        1\n",
       "3       0        0\n",
       "4       4        4\n",
       "5       1        1\n",
       "6       4        4\n",
       "7       9        9\n",
       "8       5        2\n",
       "9       9        9"
      ]
     },
     "execution_count": 12,
     "metadata": {},
     "output_type": "execute_result"
    }
   ],
   "source": [
    "predictions = model.predict(X_test)\n",
    "predictions = np.argmax(predictions, axis=1)\n",
    "\n",
    "result = pd.DataFrame({'actual': y_test, 'predict': predictions})\n",
    "\n",
    "accuracy = (result['actual'] == result['predict']).mean()\n",
    "print(\"Accuracy = {0:.6f}\".format(accuracy))\n",
    "      \n",
    "result.head(10)"
   ]
  },
  {
   "cell_type": "markdown",
   "metadata": {},
   "source": [
    "## Convolutional Neural Network"
   ]
  },
  {
   "cell_type": "markdown",
   "metadata": {},
   "source": [
    "## Preprocessing"
   ]
  },
  {
   "cell_type": "code",
   "execution_count": 13,
   "metadata": {},
   "outputs": [
    {
     "name": "stdout",
     "output_type": "stream",
     "text": [
      "(60000, 28, 28, 1) (10000, 28, 28, 1)\n"
     ]
    }
   ],
   "source": [
    "X_train = X_train.reshape(60000, 28, 28, 1)\n",
    "X_test = X_test.reshape(10000, 28, 28, 1)\n",
    "\n",
    "print(X_train.shape, X_test.shape)"
   ]
  },
  {
   "cell_type": "markdown",
   "metadata": {},
   "source": [
    "## Build a Model"
   ]
  },
  {
   "cell_type": "markdown",
   "metadata": {},
   "source": [
    "### Convolutional Neural Network"
   ]
  },
  {
   "cell_type": "code",
   "execution_count": 14,
   "metadata": {
    "collapsed": true
   },
   "outputs": [],
   "source": [
    "from keras.models import Sequential\n",
    "from keras.layers import Conv2D, MaxPooling2D, Flatten, Dense\n",
    "\n",
    "model = Sequential()\n",
    "\n",
    "model.add(Conv2D(filters=6,\n",
    "                 kernel_initializer='random_uniform',\n",
    "                 activation='sigmoid',\n",
    "                 kernel_size=(5, 5),\n",
    "                 input_shape=(28, 28, 1)))\n",
    "model.add(MaxPooling2D(pool_size=(2, 2),\n",
    "                       strides=(2, 2)))\n",
    "\n",
    "model.add(Conv2D(filters=12,\n",
    "                 kernel_initializer='random_uniform',\n",
    "                 activation='sigmoid',\n",
    "                 kernel_size=(5, 5)))\n",
    "model.add(MaxPooling2D(pool_size=(2, 2),\n",
    "                       strides=(2, 2)))\n",
    "\n",
    "model.add(Flatten())\n",
    "\n",
    "model.add(Dense(units=128,\n",
    "                kernel_initializer='random_uniform',\n",
    "                activation='sigmoid'))\n",
    "model.add(Dense(units=10,\n",
    "                kernel_initializer='random_uniform',\n",
    "                activation='sigmoid'))\n",
    "\n",
    "from keras.optimizers import SGD\n",
    "\n",
    "optimizer = SGD(lr=0.1)\n",
    "\n",
    "model.compile(optimizer=optimizer,\n",
    "              loss='categorical_crossentropy',\n",
    "              metrics=['accuracy'])"
   ]
  },
  {
   "cell_type": "code",
   "execution_count": 15,
   "metadata": {},
   "outputs": [
    {
     "name": "stdout",
     "output_type": "stream",
     "text": [
      "Train on 60000 samples, validate on 10000 samples\n",
      "Epoch 1/10\n",
      "60000/60000 [==============================] - 57s 951us/step - loss: 2.3028 - acc: 0.1094 - val_loss: 2.2999 - val_acc: 0.1135\n",
      "Epoch 2/10\n",
      "60000/60000 [==============================] - 49s 816us/step - loss: 2.1976 - acc: 0.1954 - val_loss: 1.0644 - val_acc: 0.7314\n",
      "Epoch 3/10\n",
      "60000/60000 [==============================] - 45s 747us/step - loss: 0.4030 - acc: 0.8903 - val_loss: 0.2083 - val_acc: 0.9414\n",
      "Epoch 4/10\n",
      "60000/60000 [==============================] - 36s 608us/step - loss: 0.1906 - acc: 0.9441 - val_loss: 0.1547 - val_acc: 0.9553\n",
      "Epoch 5/10\n",
      "60000/60000 [==============================] - 39s 657us/step - loss: 0.1412 - acc: 0.9580 - val_loss: 0.1109 - val_acc: 0.9675\n",
      "Epoch 6/10\n",
      "60000/60000 [==============================] - 36s 595us/step - loss: 0.1147 - acc: 0.9658 - val_loss: 0.0932 - val_acc: 0.9725\n",
      "Epoch 7/10\n",
      "60000/60000 [==============================] - 36s 594us/step - loss: 0.1038 - acc: 0.9688 - val_loss: 0.0807 - val_acc: 0.9761\n",
      "Epoch 8/10\n",
      "60000/60000 [==============================] - 37s 614us/step - loss: 0.0933 - acc: 0.9718 - val_loss: 0.0817 - val_acc: 0.9756\n",
      "Epoch 9/10\n",
      "60000/60000 [==============================] - 35s 591us/step - loss: 0.0847 - acc: 0.9744 - val_loss: 0.0695 - val_acc: 0.9795\n",
      "Epoch 10/10\n",
      "60000/60000 [==============================] - 37s 609us/step - loss: 0.0781 - acc: 0.9767 - val_loss: 0.0709 - val_acc: 0.9772\n"
     ]
    },
    {
     "data": {
      "text/plain": [
       "<keras.callbacks.History at 0x18239d4ef0>"
      ]
     },
     "execution_count": 15,
     "metadata": {},
     "output_type": "execute_result"
    }
   ],
   "source": [
    "model.fit(X_train,\n",
    "          y_train_hot,\n",
    "          epochs=10,\n",
    "#           epochs=30,\n",
    "          validation_data=(X_test, y_test_hot))"
   ]
  },
  {
   "cell_type": "code",
   "execution_count": 16,
   "metadata": {},
   "outputs": [
    {
     "name": "stdout",
     "output_type": "stream",
     "text": [
      "Accuracy = 0.977200\n"
     ]
    },
    {
     "data": {
      "text/html": [
       "<div>\n",
       "<style>\n",
       "    .dataframe thead tr:only-child th {\n",
       "        text-align: right;\n",
       "    }\n",
       "\n",
       "    .dataframe thead th {\n",
       "        text-align: left;\n",
       "    }\n",
       "\n",
       "    .dataframe tbody tr th {\n",
       "        vertical-align: top;\n",
       "    }\n",
       "</style>\n",
       "<table border=\"1\" class=\"dataframe\">\n",
       "  <thead>\n",
       "    <tr style=\"text-align: right;\">\n",
       "      <th></th>\n",
       "      <th>actual</th>\n",
       "      <th>predict</th>\n",
       "    </tr>\n",
       "  </thead>\n",
       "  <tbody>\n",
       "    <tr>\n",
       "      <th>0</th>\n",
       "      <td>7</td>\n",
       "      <td>7</td>\n",
       "    </tr>\n",
       "    <tr>\n",
       "      <th>1</th>\n",
       "      <td>2</td>\n",
       "      <td>2</td>\n",
       "    </tr>\n",
       "    <tr>\n",
       "      <th>2</th>\n",
       "      <td>1</td>\n",
       "      <td>1</td>\n",
       "    </tr>\n",
       "    <tr>\n",
       "      <th>3</th>\n",
       "      <td>0</td>\n",
       "      <td>0</td>\n",
       "    </tr>\n",
       "    <tr>\n",
       "      <th>4</th>\n",
       "      <td>4</td>\n",
       "      <td>4</td>\n",
       "    </tr>\n",
       "    <tr>\n",
       "      <th>5</th>\n",
       "      <td>1</td>\n",
       "      <td>1</td>\n",
       "    </tr>\n",
       "    <tr>\n",
       "      <th>6</th>\n",
       "      <td>4</td>\n",
       "      <td>4</td>\n",
       "    </tr>\n",
       "    <tr>\n",
       "      <th>7</th>\n",
       "      <td>9</td>\n",
       "      <td>9</td>\n",
       "    </tr>\n",
       "    <tr>\n",
       "      <th>8</th>\n",
       "      <td>5</td>\n",
       "      <td>5</td>\n",
       "    </tr>\n",
       "    <tr>\n",
       "      <th>9</th>\n",
       "      <td>9</td>\n",
       "      <td>9</td>\n",
       "    </tr>\n",
       "  </tbody>\n",
       "</table>\n",
       "</div>"
      ],
      "text/plain": [
       "   actual  predict\n",
       "0       7        7\n",
       "1       2        2\n",
       "2       1        1\n",
       "3       0        0\n",
       "4       4        4\n",
       "5       1        1\n",
       "6       4        4\n",
       "7       9        9\n",
       "8       5        5\n",
       "9       9        9"
      ]
     },
     "execution_count": 16,
     "metadata": {},
     "output_type": "execute_result"
    }
   ],
   "source": [
    "predictions = model.predict(X_test)\n",
    "predictions = np.argmax(predictions, axis=1)\n",
    "\n",
    "result = pd.DataFrame({'actual': y_test, 'predict': predictions})\n",
    "\n",
    "accuracy = (result['actual'] == result['predict']).mean()\n",
    "print(\"Accuracy = {0:.6f}\".format(accuracy))\n",
    "      \n",
    "result.head(10)"
   ]
  },
  {
   "cell_type": "code",
   "execution_count": null,
   "metadata": {
    "collapsed": true
   },
   "outputs": [],
   "source": []
  }
 ],
 "metadata": {
  "kernelspec": {
   "display_name": "Python 3",
   "language": "python",
   "name": "python3"
  },
  "language_info": {
   "codemirror_mode": {
    "name": "ipython",
    "version": 3
   },
   "file_extension": ".py",
   "mimetype": "text/x-python",
   "name": "python",
   "nbconvert_exporter": "python",
   "pygments_lexer": "ipython3",
   "version": "3.6.5"
  }
 },
 "nbformat": 4,
 "nbformat_minor": 2
}
