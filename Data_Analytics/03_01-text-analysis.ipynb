{
 "cells": [
  {
   "cell_type": "markdown",
   "metadata": {},
   "source": [
    "# 텍스트 분석 + a\n",
    "\n",
    "이번 시간에는 판다스로 텍스트를 정리하고 분석하는 방법에 대해 배웁니다. 또한 1주차에서 배우지 못한 판다스의 DataFrame을 다루는 몇몇 고급 기능과, 데이터를 고치면서 주기적으로 백업하는 방법 등에 대해서도 배울 것입니다."
   ]
  },
  {
   "cell_type": "code",
   "execution_count": 1,
   "metadata": {},
   "outputs": [],
   "source": [
    "import pandas as pd"
   ]
  },
  {
   "cell_type": "markdown",
   "metadata": {},
   "source": [
    "## 한글 파일을 읽어오기\n",
    "\n",
    "판다스로 텍스트 분석을 할 때 가장 곤란을 겪은 부분 중 하나가 한글 파일을 읽어오는 것입니다. 대부분의 한글 파일은 잘 읽히지만, 간혹 읽히지 않거나 한글이 깨져서 나오는 경우가 많습니다. (관공서 데이터가 가장 대표적입니다)\n",
    "\n",
    "이번 시간에는 이러한 한글 데이터를 어떻게 읽어올 수 있는지 배워보겠습니다."
   ]
  },
  {
   "cell_type": "code",
   "execution_count": 5,
   "metadata": {},
   "outputs": [],
   "source": [
    "# 일반적인 한글 데이터는 평범하게 read_csv를 해도 잘 읽힙니다.\n",
    "pd.read_csv(\"data/review.csv\")"
   ]
  },
  {
   "cell_type": "code",
   "execution_count": 4,
   "metadata": {},
   "outputs": [],
   "source": [
    "# 하지만 몇몇 데이터(특히나 관공서 데이터)의 경우\n",
    "# UnicodeDecodeError 가 나면서 잘 안 읽히는 경우가 있습니다.\n",
    "pd.read_csv(\"data/car-crash.csv\")"
   ]
  },
  {
   "cell_type": "code",
   "execution_count": 26,
   "metadata": {},
   "outputs": [
    {
     "data": {
      "text/html": [
       "<div>\n",
       "<style>\n",
       "    .dataframe thead tr:only-child th {\n",
       "        text-align: right;\n",
       "    }\n",
       "\n",
       "    .dataframe thead th {\n",
       "        text-align: left;\n",
       "    }\n",
       "\n",
       "    .dataframe tbody tr th {\n",
       "        vertical-align: top;\n",
       "    }\n",
       "</style>\n",
       "<table border=\"1\" class=\"dataframe\">\n",
       "  <thead>\n",
       "    <tr style=\"text-align: right;\">\n",
       "      <th></th>\n",
       "      <th>�߻��⵵</th>\n",
       "      <th>����</th>\n",
       "      <th>�հ�</th>\n",
       "      <th>�Ϲݱ���</th>\n",
       "      <th>���浵</th>\n",
       "      <th>Ư�������õ�</th>\n",
       "      <th>�õ�</th>\n",
       "      <th>����.1</th>\n",
       "      <th>���ӱ���</th>\n",
       "      <th>��Ÿ</th>\n",
       "    </tr>\n",
       "  </thead>\n",
       "  <tbody>\n",
       "    <tr>\n",
       "      <th>0</th>\n",
       "      <td>2013</td>\n",
       "      <td>�߻��Ǽ�</td>\n",
       "      <td>215,354</td>\n",
       "      <td>17,450</td>\n",
       "      <td>18,655</td>\n",
       "      <td>87,139</td>\n",
       "      <td>65,877</td>\n",
       "      <td>6,865</td>\n",
       "      <td>3,231</td>\n",
       "      <td>16,137</td>\n",
       "    </tr>\n",
       "    <tr>\n",
       "      <th>1</th>\n",
       "      <td>2013</td>\n",
       "      <td>������(%)</td>\n",
       "      <td>100</td>\n",
       "      <td>8.1</td>\n",
       "      <td>8.7</td>\n",
       "      <td>40.5</td>\n",
       "      <td>30.6</td>\n",
       "      <td>3.2</td>\n",
       "      <td>1.5</td>\n",
       "      <td>7.5</td>\n",
       "    </tr>\n",
       "    <tr>\n",
       "      <th>2</th>\n",
       "      <td>2013</td>\n",
       "      <td>������</td>\n",
       "      <td>-8,302</td>\n",
       "      <td>-2,185</td>\n",
       "      <td>-1,189</td>\n",
       "      <td>-7,954</td>\n",
       "      <td>-2,194</td>\n",
       "      <td>-244</td>\n",
       "      <td>-319</td>\n",
       "      <td>5,783</td>\n",
       "    </tr>\n",
       "    <tr>\n",
       "      <th>3</th>\n",
       "      <td>2013</td>\n",
       "      <td>������</td>\n",
       "      <td>-3.7</td>\n",
       "      <td>-11.1</td>\n",
       "      <td>-6</td>\n",
       "      <td>-8.4</td>\n",
       "      <td>-3.2</td>\n",
       "      <td>-3.4</td>\n",
       "      <td>-9</td>\n",
       "      <td>55.9</td>\n",
       "    </tr>\n",
       "    <tr>\n",
       "      <th>4</th>\n",
       "      <td>2012</td>\n",
       "      <td>�߻��Ǽ�</td>\n",
       "      <td>223,656</td>\n",
       "      <td>19,635</td>\n",
       "      <td>19,844</td>\n",
       "      <td>95,093</td>\n",
       "      <td>68,071</td>\n",
       "      <td>7,109</td>\n",
       "      <td>3,550</td>\n",
       "      <td>10,354</td>\n",
       "    </tr>\n",
       "    <tr>\n",
       "      <th>5</th>\n",
       "      <td>2012</td>\n",
       "      <td>������(%)</td>\n",
       "      <td>100</td>\n",
       "      <td>8.8</td>\n",
       "      <td>8.9</td>\n",
       "      <td>42.5</td>\n",
       "      <td>30.4</td>\n",
       "      <td>3.2</td>\n",
       "      <td>1.6</td>\n",
       "      <td>4.6</td>\n",
       "    </tr>\n",
       "    <tr>\n",
       "      <th>6</th>\n",
       "      <td>2012</td>\n",
       "      <td>������</td>\n",
       "      <td>-</td>\n",
       "      <td>-</td>\n",
       "      <td>-</td>\n",
       "      <td>-</td>\n",
       "      <td>-</td>\n",
       "      <td>-</td>\n",
       "      <td>-</td>\n",
       "      <td>-</td>\n",
       "    </tr>\n",
       "    <tr>\n",
       "      <th>7</th>\n",
       "      <td>2012</td>\n",
       "      <td>������</td>\n",
       "      <td>-</td>\n",
       "      <td>-</td>\n",
       "      <td>-</td>\n",
       "      <td>-</td>\n",
       "      <td>-</td>\n",
       "      <td>-</td>\n",
       "      <td>-</td>\n",
       "      <td>-</td>\n",
       "    </tr>\n",
       "  </tbody>\n",
       "</table>\n",
       "</div>"
      ],
      "text/plain": [
       "   �߻��⵵       ����      �հ�  �Ϲݱ���    ���浵 Ư�������õ�     �õ� ����.1  \\\n",
       "0   2013     �߻��Ǽ�  215,354  17,450  18,655     87,139  65,877  6,865   \n",
       "1   2013  ������(%)      100     8.1     8.7       40.5    30.6    3.2   \n",
       "2   2013     ������   -8,302  -2,185  -1,189     -7,954  -2,194   -244   \n",
       "3   2013     ������     -3.7   -11.1      -6       -8.4    -3.2   -3.4   \n",
       "4   2012     �߻��Ǽ�  223,656  19,635  19,844     95,093  68,071  7,109   \n",
       "5   2012  ������(%)      100     8.8     8.9       42.5    30.4    3.2   \n",
       "6   2012     ������        -       -       -          -       -      -   \n",
       "7   2012     ������        -       -       -          -       -      -   \n",
       "\n",
       "  ���ӱ���     ��Ÿ  \n",
       "0   3,231  16,137  \n",
       "1     1.5     7.5  \n",
       "2    -319   5,783  \n",
       "3      -9    55.9  \n",
       "4   3,550  10,354  \n",
       "5     1.6     4.6  \n",
       "6       -       -  \n",
       "7       -       -  "
      ]
     },
     "execution_count": 26,
     "metadata": {},
     "output_type": "execute_result"
    }
   ],
   "source": [
    "# 이 경우에는 engine=\"python\" 옵션을 주면 잘 읽히는 경우가 있습니다.\n",
    "# engine=\"python\" 옵션은 csv를 해결하는 프로그램을 C버전을 사용할지, Python 버전을 사용할지 선택하는 것입니다.\n",
    "# C버전이 빠르기 때문에 기본 설정이며, Python 버전을 쓰면 느리지만 한글 데이터에서 잘 동작합니다.\n",
    "# 하지만 이 파일은 engine=\"python\" 옵션으로 읽어왔을 경우 한글 파일이 깨져 보입니다.\n",
    "pd.read_csv(\"data/car-crash.csv\", engine='python')"
   ]
  },
  {
   "cell_type": "code",
   "execution_count": 27,
   "metadata": {},
   "outputs": [
    {
     "data": {
      "text/html": [
       "<div>\n",
       "<style>\n",
       "    .dataframe thead tr:only-child th {\n",
       "        text-align: right;\n",
       "    }\n",
       "\n",
       "    .dataframe thead th {\n",
       "        text-align: left;\n",
       "    }\n",
       "\n",
       "    .dataframe tbody tr th {\n",
       "        vertical-align: top;\n",
       "    }\n",
       "</style>\n",
       "<table border=\"1\" class=\"dataframe\">\n",
       "  <thead>\n",
       "    <tr style=\"text-align: right;\">\n",
       "      <th></th>\n",
       "      <th>발생년도</th>\n",
       "      <th>구분</th>\n",
       "      <th>합계</th>\n",
       "      <th>일반국도</th>\n",
       "      <th>지방도</th>\n",
       "      <th>특별광역시도</th>\n",
       "      <th>시도</th>\n",
       "      <th>군도</th>\n",
       "      <th>고속국도</th>\n",
       "      <th>기타</th>\n",
       "    </tr>\n",
       "  </thead>\n",
       "  <tbody>\n",
       "    <tr>\n",
       "      <th>0</th>\n",
       "      <td>2013</td>\n",
       "      <td>발생건수</td>\n",
       "      <td>215,354</td>\n",
       "      <td>17,450</td>\n",
       "      <td>18,655</td>\n",
       "      <td>87,139</td>\n",
       "      <td>65,877</td>\n",
       "      <td>6,865</td>\n",
       "      <td>3,231</td>\n",
       "      <td>16,137</td>\n",
       "    </tr>\n",
       "    <tr>\n",
       "      <th>1</th>\n",
       "      <td>2013</td>\n",
       "      <td>구성비(%)</td>\n",
       "      <td>100</td>\n",
       "      <td>8.1</td>\n",
       "      <td>8.7</td>\n",
       "      <td>40.5</td>\n",
       "      <td>30.6</td>\n",
       "      <td>3.2</td>\n",
       "      <td>1.5</td>\n",
       "      <td>7.5</td>\n",
       "    </tr>\n",
       "    <tr>\n",
       "      <th>2</th>\n",
       "      <td>2013</td>\n",
       "      <td>증감수</td>\n",
       "      <td>-8,302</td>\n",
       "      <td>-2,185</td>\n",
       "      <td>-1,189</td>\n",
       "      <td>-7,954</td>\n",
       "      <td>-2,194</td>\n",
       "      <td>-244</td>\n",
       "      <td>-319</td>\n",
       "      <td>5,783</td>\n",
       "    </tr>\n",
       "    <tr>\n",
       "      <th>3</th>\n",
       "      <td>2013</td>\n",
       "      <td>증감률</td>\n",
       "      <td>-3.7</td>\n",
       "      <td>-11.1</td>\n",
       "      <td>-6</td>\n",
       "      <td>-8.4</td>\n",
       "      <td>-3.2</td>\n",
       "      <td>-3.4</td>\n",
       "      <td>-9</td>\n",
       "      <td>55.9</td>\n",
       "    </tr>\n",
       "    <tr>\n",
       "      <th>4</th>\n",
       "      <td>2012</td>\n",
       "      <td>발생건수</td>\n",
       "      <td>223,656</td>\n",
       "      <td>19,635</td>\n",
       "      <td>19,844</td>\n",
       "      <td>95,093</td>\n",
       "      <td>68,071</td>\n",
       "      <td>7,109</td>\n",
       "      <td>3,550</td>\n",
       "      <td>10,354</td>\n",
       "    </tr>\n",
       "    <tr>\n",
       "      <th>5</th>\n",
       "      <td>2012</td>\n",
       "      <td>구성비(%)</td>\n",
       "      <td>100</td>\n",
       "      <td>8.8</td>\n",
       "      <td>8.9</td>\n",
       "      <td>42.5</td>\n",
       "      <td>30.4</td>\n",
       "      <td>3.2</td>\n",
       "      <td>1.6</td>\n",
       "      <td>4.6</td>\n",
       "    </tr>\n",
       "    <tr>\n",
       "      <th>6</th>\n",
       "      <td>2012</td>\n",
       "      <td>증감수</td>\n",
       "      <td>-</td>\n",
       "      <td>-</td>\n",
       "      <td>-</td>\n",
       "      <td>-</td>\n",
       "      <td>-</td>\n",
       "      <td>-</td>\n",
       "      <td>-</td>\n",
       "      <td>-</td>\n",
       "    </tr>\n",
       "    <tr>\n",
       "      <th>7</th>\n",
       "      <td>2012</td>\n",
       "      <td>증감률</td>\n",
       "      <td>-</td>\n",
       "      <td>-</td>\n",
       "      <td>-</td>\n",
       "      <td>-</td>\n",
       "      <td>-</td>\n",
       "      <td>-</td>\n",
       "      <td>-</td>\n",
       "      <td>-</td>\n",
       "    </tr>\n",
       "  </tbody>\n",
       "</table>\n",
       "</div>"
      ],
      "text/plain": [
       "   발생년도      구분       합계    일반국도     지방도  특별광역시도      시도     군도   고속국도      기타\n",
       "0  2013    발생건수  215,354  17,450  18,655  87,139  65,877  6,865  3,231  16,137\n",
       "1  2013  구성비(%)      100     8.1     8.7    40.5    30.6    3.2    1.5     7.5\n",
       "2  2013     증감수   -8,302  -2,185  -1,189  -7,954  -2,194   -244   -319   5,783\n",
       "3  2013     증감률     -3.7   -11.1      -6    -8.4    -3.2   -3.4     -9    55.9\n",
       "4  2012    발생건수  223,656  19,635  19,844  95,093  68,071  7,109  3,550  10,354\n",
       "5  2012  구성비(%)      100     8.8     8.9    42.5    30.4    3.2    1.6     4.6\n",
       "6  2012     증감수        -       -       -       -       -      -      -       -\n",
       "7  2012     증감률        -       -       -       -       -      -      -       -"
      ]
     },
     "execution_count": 27,
     "metadata": {},
     "output_type": "execute_result"
    }
   ],
   "source": [
    "# 또다른 옵션인 encoding='euc-kr' 를 주었습니다.\n",
    "# 보통 한글 파일의 경우 UTF-8이라는 포멧으로 저장하는데, 예전 파일이나 웹페이지의 경우 EUC-KR이라는 포멧으로 저장합니다.\n",
    "# 그래서 encoding='euc-kr' 옵션을 주면 잘 읽히는 것을 알 수 있습니다.\n",
    "pd.read_csv(\"data/car-crash.csv\", encoding='euc-kr')"
   ]
  },
  {
   "cell_type": "code",
   "execution_count": 28,
   "metadata": {},
   "outputs": [
    {
     "data": {
      "text/html": [
       "<div>\n",
       "<style>\n",
       "    .dataframe thead tr:only-child th {\n",
       "        text-align: right;\n",
       "    }\n",
       "\n",
       "    .dataframe thead th {\n",
       "        text-align: left;\n",
       "    }\n",
       "\n",
       "    .dataframe tbody tr th {\n",
       "        vertical-align: top;\n",
       "    }\n",
       "</style>\n",
       "<table border=\"1\" class=\"dataframe\">\n",
       "  <thead>\n",
       "    <tr style=\"text-align: right;\">\n",
       "      <th></th>\n",
       "      <th>발생년도</th>\n",
       "      <th>구분</th>\n",
       "      <th>합계</th>\n",
       "      <th>일반국도</th>\n",
       "      <th>지방도</th>\n",
       "      <th>특별광역시도</th>\n",
       "      <th>시도</th>\n",
       "      <th>군도</th>\n",
       "      <th>고속국도</th>\n",
       "      <th>기타</th>\n",
       "    </tr>\n",
       "  </thead>\n",
       "  <tbody>\n",
       "    <tr>\n",
       "      <th>0</th>\n",
       "      <td>2013</td>\n",
       "      <td>발생건수</td>\n",
       "      <td>215,354</td>\n",
       "      <td>17,450</td>\n",
       "      <td>18,655</td>\n",
       "      <td>87,139</td>\n",
       "      <td>65,877</td>\n",
       "      <td>6,865</td>\n",
       "      <td>3,231</td>\n",
       "      <td>16,137</td>\n",
       "    </tr>\n",
       "    <tr>\n",
       "      <th>1</th>\n",
       "      <td>2013</td>\n",
       "      <td>구성비(%)</td>\n",
       "      <td>100</td>\n",
       "      <td>8.1</td>\n",
       "      <td>8.7</td>\n",
       "      <td>40.5</td>\n",
       "      <td>30.6</td>\n",
       "      <td>3.2</td>\n",
       "      <td>1.5</td>\n",
       "      <td>7.5</td>\n",
       "    </tr>\n",
       "    <tr>\n",
       "      <th>2</th>\n",
       "      <td>2013</td>\n",
       "      <td>증감수</td>\n",
       "      <td>-8,302</td>\n",
       "      <td>-2,185</td>\n",
       "      <td>-1,189</td>\n",
       "      <td>-7,954</td>\n",
       "      <td>-2,194</td>\n",
       "      <td>-244</td>\n",
       "      <td>-319</td>\n",
       "      <td>5,783</td>\n",
       "    </tr>\n",
       "    <tr>\n",
       "      <th>3</th>\n",
       "      <td>2013</td>\n",
       "      <td>증감률</td>\n",
       "      <td>-3.7</td>\n",
       "      <td>-11.1</td>\n",
       "      <td>-6</td>\n",
       "      <td>-8.4</td>\n",
       "      <td>-3.2</td>\n",
       "      <td>-3.4</td>\n",
       "      <td>-9</td>\n",
       "      <td>55.9</td>\n",
       "    </tr>\n",
       "    <tr>\n",
       "      <th>4</th>\n",
       "      <td>2012</td>\n",
       "      <td>발생건수</td>\n",
       "      <td>223,656</td>\n",
       "      <td>19,635</td>\n",
       "      <td>19,844</td>\n",
       "      <td>95,093</td>\n",
       "      <td>68,071</td>\n",
       "      <td>7,109</td>\n",
       "      <td>3,550</td>\n",
       "      <td>10,354</td>\n",
       "    </tr>\n",
       "    <tr>\n",
       "      <th>5</th>\n",
       "      <td>2012</td>\n",
       "      <td>구성비(%)</td>\n",
       "      <td>100</td>\n",
       "      <td>8.8</td>\n",
       "      <td>8.9</td>\n",
       "      <td>42.5</td>\n",
       "      <td>30.4</td>\n",
       "      <td>3.2</td>\n",
       "      <td>1.6</td>\n",
       "      <td>4.6</td>\n",
       "    </tr>\n",
       "    <tr>\n",
       "      <th>6</th>\n",
       "      <td>2012</td>\n",
       "      <td>증감수</td>\n",
       "      <td>-</td>\n",
       "      <td>-</td>\n",
       "      <td>-</td>\n",
       "      <td>-</td>\n",
       "      <td>-</td>\n",
       "      <td>-</td>\n",
       "      <td>-</td>\n",
       "      <td>-</td>\n",
       "    </tr>\n",
       "    <tr>\n",
       "      <th>7</th>\n",
       "      <td>2012</td>\n",
       "      <td>증감률</td>\n",
       "      <td>-</td>\n",
       "      <td>-</td>\n",
       "      <td>-</td>\n",
       "      <td>-</td>\n",
       "      <td>-</td>\n",
       "      <td>-</td>\n",
       "      <td>-</td>\n",
       "      <td>-</td>\n",
       "    </tr>\n",
       "  </tbody>\n",
       "</table>\n",
       "</div>"
      ],
      "text/plain": [
       "   발생년도      구분       합계    일반국도     지방도  특별광역시도      시도     군도   고속국도      기타\n",
       "0  2013    발생건수  215,354  17,450  18,655  87,139  65,877  6,865  3,231  16,137\n",
       "1  2013  구성비(%)      100     8.1     8.7    40.5    30.6    3.2    1.5     7.5\n",
       "2  2013     증감수   -8,302  -2,185  -1,189  -7,954  -2,194   -244   -319   5,783\n",
       "3  2013     증감률     -3.7   -11.1      -6    -8.4    -3.2   -3.4     -9    55.9\n",
       "4  2012    발생건수  223,656  19,635  19,844  95,093  68,071  7,109  3,550  10,354\n",
       "5  2012  구성비(%)      100     8.8     8.9    42.5    30.4    3.2    1.6     4.6\n",
       "6  2012     증감수        -       -       -       -       -      -      -       -\n",
       "7  2012     증감률        -       -       -       -       -      -      -       -"
      ]
     },
     "execution_count": 28,
     "metadata": {},
     "output_type": "execute_result"
    }
   ],
   "source": [
    "# 만일 encoding='euc-kr' 옵션을 넣어도 잘 읽히지 않는다면,\n",
    "# 구글 드라이브 https://drive.google.com 에서 CSV파일을 업로드 하고 다시 다운로드 받아보세요.\n",
    "# 구글 드라이브가 자동으로 UTF-8로 변경해서 제공해줍니다.\n",
    "pd.read_csv(\"data/car-crash-gd.csv\")"
   ]
  },
  {
   "cell_type": "markdown",
   "metadata": {},
   "source": [
    "### 텍스트 데이터를 다루기\n",
    "\n",
    "이번에는 읽어온 한굴 데이터를 활용해 텍스트를 정리하고 분석하는 작업을 진행해보겠습니다. \n",
    "\n",
    "판다스의 ```Series```에는 ```.str```이라는 옵션을 제공하는데, 이 옵션을 통해 판다스의 텍스트(이하 문자열)를 다양한 방식으로 정리하고 분석할 수 있습니다."
   ]
  },
  {
   "cell_type": "code",
   "execution_count": 29,
   "metadata": {},
   "outputs": [
    {
     "data": {
      "text/html": [
       "<div>\n",
       "<style>\n",
       "    .dataframe thead tr:only-child th {\n",
       "        text-align: right;\n",
       "    }\n",
       "\n",
       "    .dataframe thead th {\n",
       "        text-align: left;\n",
       "    }\n",
       "\n",
       "    .dataframe tbody tr th {\n",
       "        vertical-align: top;\n",
       "    }\n",
       "</style>\n",
       "<table border=\"1\" class=\"dataframe\">\n",
       "  <thead>\n",
       "    <tr style=\"text-align: right;\">\n",
       "      <th></th>\n",
       "      <th>사용자</th>\n",
       "      <th>리뷰</th>\n",
       "      <th>평점</th>\n",
       "    </tr>\n",
       "  </thead>\n",
       "  <tbody>\n",
       "    <tr>\n",
       "      <th>0</th>\n",
       "      <td>김경이</td>\n",
       "      <td>위치나 시설, 직원태도등 최근 방문한 호텔중 Best였음.</td>\n",
       "      <td>8점</td>\n",
       "    </tr>\n",
       "    <tr>\n",
       "      <th>1</th>\n",
       "      <td>박진형</td>\n",
       "      <td>위치도 좋고 침대가 편안해서 숙면을 취한점이 좋았습니다. 직원들도 모두 친절해서 매...</td>\n",
       "      <td>9점</td>\n",
       "    </tr>\n",
       "    <tr>\n",
       "      <th>2</th>\n",
       "      <td>강석민</td>\n",
       "      <td>한국인 직원이 있어서 채크인/아웃 할때 많이 편했고, 음식점 추천과 예약 등 세심하...</td>\n",
       "      <td>10점</td>\n",
       "    </tr>\n",
       "    <tr>\n",
       "      <th>3</th>\n",
       "      <td>최진강</td>\n",
       "      <td>호텔이 너무 좋아서 밖으로 못나감..ㅠㅠ 정말 최고입니다.</td>\n",
       "      <td>8점</td>\n",
       "    </tr>\n",
       "  </tbody>\n",
       "</table>\n",
       "</div>"
      ],
      "text/plain": [
       "   사용자                                                 리뷰   평점\n",
       "0  김경이                   위치나 시설, 직원태도등 최근 방문한 호텔중 Best였음.   8점\n",
       "1  박진형  위치도 좋고 침대가 편안해서 숙면을 취한점이 좋았습니다. 직원들도 모두 친절해서 매...   9점\n",
       "2  강석민  한국인 직원이 있어서 채크인/아웃 할때 많이 편했고, 음식점 추천과 예약 등 세심하...  10점\n",
       "3  최진강                   호텔이 너무 좋아서 밖으로 못나감..ㅠㅠ 정말 최고입니다.   8점"
      ]
     },
     "execution_count": 29,
     "metadata": {},
     "output_type": "execute_result"
    }
   ],
   "source": [
    "# 일반적인 한글 데이터는 평범하게 read_csv를 해도 잘 읽힙니다.\n",
    "review = pd.read_csv(\"data/review.csv\")\n",
    "review"
   ]
  },
  {
   "cell_type": "code",
   "execution_count": 30,
   "metadata": {},
   "outputs": [
    {
     "data": {
      "text/plain": [
       "0     32\n",
       "1     60\n",
       "2    134\n",
       "3     32\n",
       "Name: 리뷰, dtype: int64"
      ]
     },
     "execution_count": 30,
     "metadata": {},
     "output_type": "execute_result"
    }
   ],
   "source": [
    "# 텍스트의 길이를 구할 수 있습니다.\n",
    "review[\"리뷰\"].str.len()"
   ]
  },
  {
   "cell_type": "code",
   "execution_count": 31,
   "metadata": {},
   "outputs": [
    {
     "data": {
      "text/plain": [
       "0                     위치나 시설, 직원태도등 최근 방문한 호텔중 BEST였음.\n",
       "1    위치도 좋고 침대가 편안해서 숙면을 취한점이 좋았습니다. 직원들도 모두 친절해서 매...\n",
       "2    한국인 직원이 있어서 채크인/아웃 할때 많이 편했고, 음식점 추천과 예약 등 세심하...\n",
       "3                     호텔이 너무 좋아서 밖으로 못나감..ㅠㅠ 정말 최고입니다.\n",
       "Name: 리뷰, dtype: object"
      ]
     },
     "execution_count": 31,
     "metadata": {},
     "output_type": "execute_result"
    }
   ],
   "source": [
    "# 영어의 경우 upper 옵션을 통해 모든 알파벳을 대문자로 바꿀 수 있습니다.\n",
    "review[\"리뷰\"].str.upper()"
   ]
  },
  {
   "cell_type": "code",
   "execution_count": 32,
   "metadata": {},
   "outputs": [
    {
     "data": {
      "text/plain": [
       "0                     위치나 시설, 직원태도등 최근 방문한 호텔중 best였음.\n",
       "1    위치도 좋고 침대가 편안해서 숙면을 취한점이 좋았습니다. 직원들도 모두 친절해서 매...\n",
       "2    한국인 직원이 있어서 채크인/아웃 할때 많이 편했고, 음식점 추천과 예약 등 세심하...\n",
       "3                     호텔이 너무 좋아서 밖으로 못나감..ㅠㅠ 정말 최고입니다.\n",
       "Name: 리뷰, dtype: object"
      ]
     },
     "execution_count": 32,
     "metadata": {},
     "output_type": "execute_result"
    }
   ],
   "source": [
    "# 정 반대에 해당하는 lower 옵션도 있습니다.\n",
    "review[\"리뷰\"].str.lower()"
   ]
  },
  {
   "cell_type": "code",
   "execution_count": 33,
   "metadata": {},
   "outputs": [
    {
     "data": {
      "text/html": [
       "<div>\n",
       "<style>\n",
       "    .dataframe thead tr:only-child th {\n",
       "        text-align: right;\n",
       "    }\n",
       "\n",
       "    .dataframe thead th {\n",
       "        text-align: left;\n",
       "    }\n",
       "\n",
       "    .dataframe tbody tr th {\n",
       "        vertical-align: top;\n",
       "    }\n",
       "</style>\n",
       "<table border=\"1\" class=\"dataframe\">\n",
       "  <thead>\n",
       "    <tr style=\"text-align: right;\">\n",
       "      <th></th>\n",
       "      <th>사용자</th>\n",
       "      <th>리뷰</th>\n",
       "      <th>평점</th>\n",
       "    </tr>\n",
       "  </thead>\n",
       "  <tbody>\n",
       "    <tr>\n",
       "      <th>0</th>\n",
       "      <td>김경이</td>\n",
       "      <td>위치나 시설, 직원태도등 최근 방문한 호텔중 Best였음.</td>\n",
       "      <td>8점</td>\n",
       "    </tr>\n",
       "  </tbody>\n",
       "</table>\n",
       "</div>"
      ],
      "text/plain": [
       "   사용자                                리뷰  평점\n",
       "0  김경이  위치나 시설, 직원태도등 최근 방문한 호텔중 Best였음.  8점"
      ]
     },
     "execution_count": 33,
     "metadata": {},
     "output_type": "execute_result"
    }
   ],
   "source": [
    "# 특정 사용자만 가져오는 방식은 판다스의 일반적인 색인 기능을 사용하면 됩니다.\n",
    "review[review[\"사용자\"] == \"김경이\"]"
   ]
  },
  {
   "cell_type": "code",
   "execution_count": 34,
   "metadata": {},
   "outputs": [
    {
     "data": {
      "text/html": [
       "<div>\n",
       "<style>\n",
       "    .dataframe thead tr:only-child th {\n",
       "        text-align: right;\n",
       "    }\n",
       "\n",
       "    .dataframe thead th {\n",
       "        text-align: left;\n",
       "    }\n",
       "\n",
       "    .dataframe tbody tr th {\n",
       "        vertical-align: top;\n",
       "    }\n",
       "</style>\n",
       "<table border=\"1\" class=\"dataframe\">\n",
       "  <thead>\n",
       "    <tr style=\"text-align: right;\">\n",
       "      <th></th>\n",
       "      <th>사용자</th>\n",
       "      <th>리뷰</th>\n",
       "      <th>평점</th>\n",
       "    </tr>\n",
       "  </thead>\n",
       "  <tbody>\n",
       "    <tr>\n",
       "      <th>0</th>\n",
       "      <td>김경이</td>\n",
       "      <td>위치나 시설, 직원태도등 최근 방문한 호텔중 Best였음.</td>\n",
       "      <td>8점</td>\n",
       "    </tr>\n",
       "    <tr>\n",
       "      <th>1</th>\n",
       "      <td>박진형</td>\n",
       "      <td>위치도 좋고 침대가 편안해서 숙면을 취한점이 좋았습니다. 직원들도 모두 친절해서 매...</td>\n",
       "      <td>9점</td>\n",
       "    </tr>\n",
       "  </tbody>\n",
       "</table>\n",
       "</div>"
      ],
      "text/plain": [
       "   사용자                                                 리뷰  평점\n",
       "0  김경이                   위치나 시설, 직원태도등 최근 방문한 호텔중 Best였음.  8점\n",
       "1  박진형  위치도 좋고 침대가 편안해서 숙면을 취한점이 좋았습니다. 직원들도 모두 친절해서 매...  9점"
      ]
     },
     "execution_count": 34,
     "metadata": {},
     "output_type": "execute_result"
    }
   ],
   "source": [
    "# 여러 명의 사용자를 가져오고 싶다면? isin 옵션을 사용하면 됩니다.\n",
    "user_list = [\"김경이\", \"박진형\"]\n",
    "review[review[\"사용자\"].isin(user_list)]"
   ]
  },
  {
   "cell_type": "code",
   "execution_count": 72,
   "metadata": {},
   "outputs": [
    {
     "data": {
      "text/plain": [
       "0                     위치나 시설, 직원태도등 최근 방문한 호텔중 Best였음.\n",
       "1    위치도 좋고 침대가 편안해서 숙면을 취한점이 좋았습니다. 직원들도 모두 친절해서 매...\n",
       "2    한국인 직원이 있어서 체크인/아웃 할때 많이 편했고, 음식점 추천과 예약 등 세심하...\n",
       "3                     호텔이 너무 좋아서 밖으로 못나감..ㅠㅠ 정말 최고입니다.\n",
       "Name: 리뷰, dtype: object"
      ]
     },
     "execution_count": 72,
     "metadata": {},
     "output_type": "execute_result"
    }
   ],
   "source": [
    "# 특정 단어나 문장을 replace를 통해 바꿔줄 수도 있습니다.\n",
    "review[\"리뷰\"].str.replace(\"채크인\", \"체크인\")"
   ]
  },
  {
   "cell_type": "code",
   "execution_count": 35,
   "metadata": {},
   "outputs": [
    {
     "data": {
      "text/plain": [
       "0     True\n",
       "1     True\n",
       "2    False\n",
       "3    False\n",
       "Name: 리뷰, dtype: bool"
      ]
     },
     "execution_count": 35,
     "metadata": {},
     "output_type": "execute_result"
    }
   ],
   "source": [
    "# contains를 쓰면 특정 단어나 문장이 포함되어있는지 여부를 알 수 있습니다.\n",
    "review[\"리뷰\"].str.contains(\"위치\")"
   ]
  },
  {
   "cell_type": "code",
   "execution_count": 36,
   "metadata": {},
   "outputs": [
    {
     "data": {
      "text/plain": [
       "0     True\n",
       "1     True\n",
       "2     True\n",
       "3    False\n",
       "Name: 리뷰, dtype: bool"
      ]
     },
     "execution_count": 36,
     "metadata": {},
     "output_type": "execute_result"
    }
   ],
   "source": [
    "# or(|) operator를 통해 위치나 시설 중 하나가 들어가있는지를 체크할 수 있습니다.\n",
    "# 아래와 같은 표현을 전문용어로 정규표현식(regular expression)이라고 합니다.\n",
    "review[\"리뷰\"].str.contains(\"위치|시설\")"
   ]
  },
  {
   "cell_type": "code",
   "execution_count": 37,
   "metadata": {},
   "outputs": [
    {
     "data": {
      "text/plain": [
       "0     True\n",
       "1    False\n",
       "2    False\n",
       "3    False\n",
       "Name: 리뷰, dtype: bool"
      ]
     },
     "execution_count": 37,
     "metadata": {},
     "output_type": "execute_result"
    }
   ],
   "source": [
    "# and 조건은 조금 복잡하지만 마찬가지로 정규표현식을 통해 표현할 수 있습니다.\n",
    "# 정규표현식은 이번 수업의 메인 주제가 아니기 때문에 간단하게 다루도록 하겠습니다.\n",
    "review[\"리뷰\"].str.contains(\"(?=.*위치)(?=.*시설)\")"
   ]
  },
  {
   "cell_type": "code",
   "execution_count": 38,
   "metadata": {},
   "outputs": [
    {
     "data": {
      "text/plain": [
       "0    1\n",
       "1    0\n",
       "2    0\n",
       "3    0\n",
       "Name: 리뷰, dtype: int64"
      ]
     },
     "execution_count": 38,
     "metadata": {},
     "output_type": "execute_result"
    }
   ],
   "source": [
    "# 단순히 존재하냐/존재하지 않냐가 아니라, 해당 단어의 갯수가 몇 개인지도 파악할 수 있습니다.\n",
    "review[\"리뷰\"].str.count(\"(?=.*위치)(?=.*시설)\")"
   ]
  },
  {
   "cell_type": "code",
   "execution_count": 39,
   "metadata": {},
   "outputs": [
    {
     "data": {
      "text/plain": [
       "0             [위치나, 시설,, 직원태도등, 최근, 방문한, 호텔중, Best였음.]\n",
       "1    [위치도, 좋고, 침대가, 편안해서, 숙면을, 취한점이, 좋았습니다., 직원들도, ...\n",
       "2    [한국인, 직원이, 있어서, 채크인/아웃, 할때, 많이, 편했고,, 음식점, 추천과...\n",
       "3             [호텔이, 너무, 좋아서, 밖으로, 못나감..ㅠㅠ, 정말, 최고입니다.]\n",
       "Name: 리뷰, dtype: object"
      ]
     },
     "execution_count": 39,
     "metadata": {},
     "output_type": "execute_result"
    }
   ],
   "source": [
    "# split를 사용하면 문장을 단어로 쪼갤 수 있습니다. 단어로 쪼개는 가장 기본 조건은 띄어쓰기(\" \")입니다.\n",
    "review[\"리뷰\"].str.split()"
   ]
  },
  {
   "cell_type": "code",
   "execution_count": 40,
   "metadata": {},
   "outputs": [
    {
     "data": {
      "text/plain": [
       "0                  [위치나 시설,  직원태도등 최근 방문한 호텔중 Best였음.]\n",
       "1    [위치도 좋고 침대가 편안해서 숙면을 취한점이 좋았습니다. 직원들도 모두 친절해서 ...\n",
       "2    [한국인 직원이 있어서 채크인/아웃 할때 많이 편했고,  음식점 추천과 예약 등 세...\n",
       "3                   [호텔이 너무 좋아서 밖으로 못나감..ㅠㅠ 정말 최고입니다.]\n",
       "Name: 리뷰, dtype: object"
      ]
     },
     "execution_count": 40,
     "metadata": {},
     "output_type": "execute_result"
    }
   ],
   "source": [
    "# split에 쪼개는 조건을 넣어주면 해당 조건으로 쪼갤 수 있습니다.\n",
    "review[\"리뷰\"].str.split(\",\")"
   ]
  },
  {
   "cell_type": "code",
   "execution_count": 41,
   "metadata": {},
   "outputs": [
    {
     "data": {
      "text/html": [
       "<div>\n",
       "<style>\n",
       "    .dataframe thead tr:only-child th {\n",
       "        text-align: right;\n",
       "    }\n",
       "\n",
       "    .dataframe thead th {\n",
       "        text-align: left;\n",
       "    }\n",
       "\n",
       "    .dataframe tbody tr th {\n",
       "        vertical-align: top;\n",
       "    }\n",
       "</style>\n",
       "<table border=\"1\" class=\"dataframe\">\n",
       "  <thead>\n",
       "    <tr style=\"text-align: right;\">\n",
       "      <th></th>\n",
       "      <th>사용자</th>\n",
       "      <th>리뷰</th>\n",
       "      <th>평점</th>\n",
       "    </tr>\n",
       "  </thead>\n",
       "  <tbody>\n",
       "    <tr>\n",
       "      <th>0</th>\n",
       "      <td>김경이</td>\n",
       "      <td>위치나 시설, 직원태도등 최근 방문한 호텔중 Best였음.</td>\n",
       "      <td>8점</td>\n",
       "    </tr>\n",
       "    <tr>\n",
       "      <th>1</th>\n",
       "      <td>박진형</td>\n",
       "      <td>위치도 좋고 침대가 편안해서 숙면을 취한점이 좋았습니다. 직원들도 모두 친절해서 매...</td>\n",
       "      <td>9점</td>\n",
       "    </tr>\n",
       "    <tr>\n",
       "      <th>2</th>\n",
       "      <td>강석민</td>\n",
       "      <td>한국인 직원이 있어서 채크인/아웃 할때 많이 편했고, 음식점 추천과 예약 등 세심하...</td>\n",
       "      <td>10점</td>\n",
       "    </tr>\n",
       "    <tr>\n",
       "      <th>3</th>\n",
       "      <td>최진강</td>\n",
       "      <td>호텔이 너무 좋아서 밖으로 못나감..ㅠㅠ 정말 최고입니다.</td>\n",
       "      <td>8점</td>\n",
       "    </tr>\n",
       "  </tbody>\n",
       "</table>\n",
       "</div>"
      ],
      "text/plain": [
       "  사용자                                                 리뷰    평점\n",
       "0  김경이                   위치나 시설, 직원태도등 최근 방문한 호텔중 Best였음.   8점\n",
       "1  박진형  위치도 좋고 침대가 편안해서 숙면을 취한점이 좋았습니다. 직원들도 모두 친절해서 매...   9점\n",
       "2  강석민  한국인 직원이 있어서 채크인/아웃 할때 많이 편했고, 음식점 추천과 예약 등 세심하...  10점\n",
       "3  최진강                   호텔이 너무 좋아서 밖으로 못나감..ㅠㅠ 정말 최고입니다.   8점"
      ]
     },
     "execution_count": 41,
     "metadata": {},
     "output_type": "execute_result"
    }
   ],
   "source": [
    "# 데이터를 다루다가 가끔 일어나는 문제인데, 데이터를 제공해주는 측에서 정리를 실수해서\n",
    "# 컬럼 이름에 띄어쓰기(\" \")가 포함해서 제공해주는 경우도 있습니다.\n",
    "raw_review = review.copy()\n",
    "\n",
    "# 컬럼에 띄어쓰기가 들어가 있습니다.\n",
    "raw_review.columns = [\"사용자 \", \" 리뷰 \", \" 평점\"]\n",
    "\n",
    "# 이 경우 DataFrame을 출력하는 화면에서는 눈치챌 수 없습니다.\n",
    "raw_review"
   ]
  },
  {
   "cell_type": "code",
   "execution_count": 42,
   "metadata": {},
   "outputs": [
    {
     "ename": "KeyError",
     "evalue": "'사용자'",
     "output_type": "error",
     "traceback": [
      "\u001b[0;31m----------------------------------------------\u001b[0m",
      "\u001b[0;31mKeyError\u001b[0m     Traceback (most recent call last)",
      "\u001b[0;32m~/anaconda3/lib/python3.6/site-packages/pandas/core/indexes/base.py\u001b[0m in \u001b[0;36mget_loc\u001b[0;34m(self, key, method, tolerance)\u001b[0m\n\u001b[1;32m   2441\u001b[0m             \u001b[0;32mtry\u001b[0m\u001b[0;34m:\u001b[0m\u001b[0;34m\u001b[0m\u001b[0m\n\u001b[0;32m-> 2442\u001b[0;31m                 \u001b[0;32mreturn\u001b[0m \u001b[0mself\u001b[0m\u001b[0;34m.\u001b[0m\u001b[0m_engine\u001b[0m\u001b[0;34m.\u001b[0m\u001b[0mget_loc\u001b[0m\u001b[0;34m(\u001b[0m\u001b[0mkey\u001b[0m\u001b[0;34m)\u001b[0m\u001b[0;34m\u001b[0m\u001b[0m\n\u001b[0m\u001b[1;32m   2443\u001b[0m             \u001b[0;32mexcept\u001b[0m \u001b[0mKeyError\u001b[0m\u001b[0;34m:\u001b[0m\u001b[0;34m\u001b[0m\u001b[0m\n",
      "\u001b[0;32mpandas/_libs/index.pyx\u001b[0m in \u001b[0;36mpandas._libs.index.IndexEngine.get_loc\u001b[0;34m()\u001b[0m\n",
      "\u001b[0;32mpandas/_libs/index.pyx\u001b[0m in \u001b[0;36mpandas._libs.index.IndexEngine.get_loc\u001b[0;34m()\u001b[0m\n",
      "\u001b[0;32mpandas/_libs/hashtable_class_helper.pxi\u001b[0m in \u001b[0;36mpandas._libs.hashtable.PyObjectHashTable.get_item\u001b[0;34m()\u001b[0m\n",
      "\u001b[0;32mpandas/_libs/hashtable_class_helper.pxi\u001b[0m in \u001b[0;36mpandas._libs.hashtable.PyObjectHashTable.get_item\u001b[0;34m()\u001b[0m\n",
      "\u001b[0;31mKeyError\u001b[0m: '사용자'",
      "\nDuring handling of the above exception, another exception occurred:\n",
      "\u001b[0;31mKeyError\u001b[0m     Traceback (most recent call last)",
      "\u001b[0;32m<ipython-input-42-c10959fcb83c>\u001b[0m in \u001b[0;36m<module>\u001b[0;34m()\u001b[0m\n\u001b[1;32m      1\u001b[0m \u001b[0;31m# 이 경우 \"사용자\" 라고 검색하면 컬럼을 가져오지 못합니다.\u001b[0m\u001b[0;34m\u001b[0m\u001b[0;34m\u001b[0m\u001b[0m\n\u001b[0;32m----> 2\u001b[0;31m \u001b[0mraw_review\u001b[0m\u001b[0;34m[\u001b[0m\u001b[0;34m\"사용자\"\u001b[0m\u001b[0;34m]\u001b[0m\u001b[0;34m\u001b[0m\u001b[0m\n\u001b[0m",
      "\u001b[0;32m~/anaconda3/lib/python3.6/site-packages/pandas/core/frame.py\u001b[0m in \u001b[0;36m__getitem__\u001b[0;34m(self, key)\u001b[0m\n\u001b[1;32m   1962\u001b[0m             \u001b[0;32mreturn\u001b[0m \u001b[0mself\u001b[0m\u001b[0;34m.\u001b[0m\u001b[0m_getitem_multilevel\u001b[0m\u001b[0;34m(\u001b[0m\u001b[0mkey\u001b[0m\u001b[0;34m)\u001b[0m\u001b[0;34m\u001b[0m\u001b[0m\n\u001b[1;32m   1963\u001b[0m         \u001b[0;32melse\u001b[0m\u001b[0;34m:\u001b[0m\u001b[0;34m\u001b[0m\u001b[0m\n\u001b[0;32m-> 1964\u001b[0;31m             \u001b[0;32mreturn\u001b[0m \u001b[0mself\u001b[0m\u001b[0;34m.\u001b[0m\u001b[0m_getitem_column\u001b[0m\u001b[0;34m(\u001b[0m\u001b[0mkey\u001b[0m\u001b[0;34m)\u001b[0m\u001b[0;34m\u001b[0m\u001b[0m\n\u001b[0m\u001b[1;32m   1965\u001b[0m \u001b[0;34m\u001b[0m\u001b[0m\n\u001b[1;32m   1966\u001b[0m     \u001b[0;32mdef\u001b[0m \u001b[0m_getitem_column\u001b[0m\u001b[0;34m(\u001b[0m\u001b[0mself\u001b[0m\u001b[0;34m,\u001b[0m \u001b[0mkey\u001b[0m\u001b[0;34m)\u001b[0m\u001b[0;34m:\u001b[0m\u001b[0;34m\u001b[0m\u001b[0m\n",
      "\u001b[0;32m~/anaconda3/lib/python3.6/site-packages/pandas/core/frame.py\u001b[0m in \u001b[0;36m_getitem_column\u001b[0;34m(self, key)\u001b[0m\n\u001b[1;32m   1969\u001b[0m         \u001b[0;31m# get column\u001b[0m\u001b[0;34m\u001b[0m\u001b[0;34m\u001b[0m\u001b[0m\n\u001b[1;32m   1970\u001b[0m         \u001b[0;32mif\u001b[0m \u001b[0mself\u001b[0m\u001b[0;34m.\u001b[0m\u001b[0mcolumns\u001b[0m\u001b[0;34m.\u001b[0m\u001b[0mis_unique\u001b[0m\u001b[0;34m:\u001b[0m\u001b[0;34m\u001b[0m\u001b[0m\n\u001b[0;32m-> 1971\u001b[0;31m             \u001b[0;32mreturn\u001b[0m \u001b[0mself\u001b[0m\u001b[0;34m.\u001b[0m\u001b[0m_get_item_cache\u001b[0m\u001b[0;34m(\u001b[0m\u001b[0mkey\u001b[0m\u001b[0;34m)\u001b[0m\u001b[0;34m\u001b[0m\u001b[0m\n\u001b[0m\u001b[1;32m   1972\u001b[0m \u001b[0;34m\u001b[0m\u001b[0m\n\u001b[1;32m   1973\u001b[0m         \u001b[0;31m# duplicate columns & possible reduce dimensionality\u001b[0m\u001b[0;34m\u001b[0m\u001b[0;34m\u001b[0m\u001b[0m\n",
      "\u001b[0;32m~/anaconda3/lib/python3.6/site-packages/pandas/core/generic.py\u001b[0m in \u001b[0;36m_get_item_cache\u001b[0;34m(self, item)\u001b[0m\n\u001b[1;32m   1643\u001b[0m         \u001b[0mres\u001b[0m \u001b[0;34m=\u001b[0m \u001b[0mcache\u001b[0m\u001b[0;34m.\u001b[0m\u001b[0mget\u001b[0m\u001b[0;34m(\u001b[0m\u001b[0mitem\u001b[0m\u001b[0;34m)\u001b[0m\u001b[0;34m\u001b[0m\u001b[0m\n\u001b[1;32m   1644\u001b[0m         \u001b[0;32mif\u001b[0m \u001b[0mres\u001b[0m \u001b[0;32mis\u001b[0m \u001b[0;32mNone\u001b[0m\u001b[0;34m:\u001b[0m\u001b[0;34m\u001b[0m\u001b[0m\n\u001b[0;32m-> 1645\u001b[0;31m             \u001b[0mvalues\u001b[0m \u001b[0;34m=\u001b[0m \u001b[0mself\u001b[0m\u001b[0;34m.\u001b[0m\u001b[0m_data\u001b[0m\u001b[0;34m.\u001b[0m\u001b[0mget\u001b[0m\u001b[0;34m(\u001b[0m\u001b[0mitem\u001b[0m\u001b[0;34m)\u001b[0m\u001b[0;34m\u001b[0m\u001b[0m\n\u001b[0m\u001b[1;32m   1646\u001b[0m             \u001b[0mres\u001b[0m \u001b[0;34m=\u001b[0m \u001b[0mself\u001b[0m\u001b[0;34m.\u001b[0m\u001b[0m_box_item_values\u001b[0m\u001b[0;34m(\u001b[0m\u001b[0mitem\u001b[0m\u001b[0;34m,\u001b[0m \u001b[0mvalues\u001b[0m\u001b[0;34m)\u001b[0m\u001b[0;34m\u001b[0m\u001b[0m\n\u001b[1;32m   1647\u001b[0m             \u001b[0mcache\u001b[0m\u001b[0;34m[\u001b[0m\u001b[0mitem\u001b[0m\u001b[0;34m]\u001b[0m \u001b[0;34m=\u001b[0m \u001b[0mres\u001b[0m\u001b[0;34m\u001b[0m\u001b[0m\n",
      "\u001b[0;32m~/anaconda3/lib/python3.6/site-packages/pandas/core/internals.py\u001b[0m in \u001b[0;36mget\u001b[0;34m(self, item, fastpath)\u001b[0m\n\u001b[1;32m   3588\u001b[0m \u001b[0;34m\u001b[0m\u001b[0m\n\u001b[1;32m   3589\u001b[0m             \u001b[0;32mif\u001b[0m \u001b[0;32mnot\u001b[0m \u001b[0misnull\u001b[0m\u001b[0;34m(\u001b[0m\u001b[0mitem\u001b[0m\u001b[0;34m)\u001b[0m\u001b[0;34m:\u001b[0m\u001b[0;34m\u001b[0m\u001b[0m\n\u001b[0;32m-> 3590\u001b[0;31m                 \u001b[0mloc\u001b[0m \u001b[0;34m=\u001b[0m \u001b[0mself\u001b[0m\u001b[0;34m.\u001b[0m\u001b[0mitems\u001b[0m\u001b[0;34m.\u001b[0m\u001b[0mget_loc\u001b[0m\u001b[0;34m(\u001b[0m\u001b[0mitem\u001b[0m\u001b[0;34m)\u001b[0m\u001b[0;34m\u001b[0m\u001b[0m\n\u001b[0m\u001b[1;32m   3591\u001b[0m             \u001b[0;32melse\u001b[0m\u001b[0;34m:\u001b[0m\u001b[0;34m\u001b[0m\u001b[0m\n\u001b[1;32m   3592\u001b[0m                 \u001b[0mindexer\u001b[0m \u001b[0;34m=\u001b[0m \u001b[0mnp\u001b[0m\u001b[0;34m.\u001b[0m\u001b[0marange\u001b[0m\u001b[0;34m(\u001b[0m\u001b[0mlen\u001b[0m\u001b[0;34m(\u001b[0m\u001b[0mself\u001b[0m\u001b[0;34m.\u001b[0m\u001b[0mitems\u001b[0m\u001b[0;34m)\u001b[0m\u001b[0;34m)\u001b[0m\u001b[0;34m[\u001b[0m\u001b[0misnull\u001b[0m\u001b[0;34m(\u001b[0m\u001b[0mself\u001b[0m\u001b[0;34m.\u001b[0m\u001b[0mitems\u001b[0m\u001b[0;34m)\u001b[0m\u001b[0;34m]\u001b[0m\u001b[0;34m\u001b[0m\u001b[0m\n",
      "\u001b[0;32m~/anaconda3/lib/python3.6/site-packages/pandas/core/indexes/base.py\u001b[0m in \u001b[0;36mget_loc\u001b[0;34m(self, key, method, tolerance)\u001b[0m\n\u001b[1;32m   2442\u001b[0m                 \u001b[0;32mreturn\u001b[0m \u001b[0mself\u001b[0m\u001b[0;34m.\u001b[0m\u001b[0m_engine\u001b[0m\u001b[0;34m.\u001b[0m\u001b[0mget_loc\u001b[0m\u001b[0;34m(\u001b[0m\u001b[0mkey\u001b[0m\u001b[0;34m)\u001b[0m\u001b[0;34m\u001b[0m\u001b[0m\n\u001b[1;32m   2443\u001b[0m             \u001b[0;32mexcept\u001b[0m \u001b[0mKeyError\u001b[0m\u001b[0;34m:\u001b[0m\u001b[0;34m\u001b[0m\u001b[0m\n\u001b[0;32m-> 2444\u001b[0;31m                 \u001b[0;32mreturn\u001b[0m \u001b[0mself\u001b[0m\u001b[0;34m.\u001b[0m\u001b[0m_engine\u001b[0m\u001b[0;34m.\u001b[0m\u001b[0mget_loc\u001b[0m\u001b[0;34m(\u001b[0m\u001b[0mself\u001b[0m\u001b[0;34m.\u001b[0m\u001b[0m_maybe_cast_indexer\u001b[0m\u001b[0;34m(\u001b[0m\u001b[0mkey\u001b[0m\u001b[0;34m)\u001b[0m\u001b[0;34m)\u001b[0m\u001b[0;34m\u001b[0m\u001b[0m\n\u001b[0m\u001b[1;32m   2445\u001b[0m \u001b[0;34m\u001b[0m\u001b[0m\n\u001b[1;32m   2446\u001b[0m         \u001b[0mindexer\u001b[0m \u001b[0;34m=\u001b[0m \u001b[0mself\u001b[0m\u001b[0;34m.\u001b[0m\u001b[0mget_indexer\u001b[0m\u001b[0;34m(\u001b[0m\u001b[0;34m[\u001b[0m\u001b[0mkey\u001b[0m\u001b[0;34m]\u001b[0m\u001b[0;34m,\u001b[0m \u001b[0mmethod\u001b[0m\u001b[0;34m=\u001b[0m\u001b[0mmethod\u001b[0m\u001b[0;34m,\u001b[0m \u001b[0mtolerance\u001b[0m\u001b[0;34m=\u001b[0m\u001b[0mtolerance\u001b[0m\u001b[0;34m)\u001b[0m\u001b[0;34m\u001b[0m\u001b[0m\n",
      "\u001b[0;32mpandas/_libs/index.pyx\u001b[0m in \u001b[0;36mpandas._libs.index.IndexEngine.get_loc\u001b[0;34m()\u001b[0m\n",
      "\u001b[0;32mpandas/_libs/index.pyx\u001b[0m in \u001b[0;36mpandas._libs.index.IndexEngine.get_loc\u001b[0;34m()\u001b[0m\n",
      "\u001b[0;32mpandas/_libs/hashtable_class_helper.pxi\u001b[0m in \u001b[0;36mpandas._libs.hashtable.PyObjectHashTable.get_item\u001b[0;34m()\u001b[0m\n",
      "\u001b[0;32mpandas/_libs/hashtable_class_helper.pxi\u001b[0m in \u001b[0;36mpandas._libs.hashtable.PyObjectHashTable.get_item\u001b[0;34m()\u001b[0m\n",
      "\u001b[0;31mKeyError\u001b[0m: '사용자'"
     ]
    }
   ],
   "source": [
    "# 이 경우 \"사용자\" 라고 검색하면 컬럼을 가져오지 못합니다.\n",
    "raw_review[\"사용자\"]"
   ]
  },
  {
   "cell_type": "code",
   "execution_count": 43,
   "metadata": {},
   "outputs": [
    {
     "data": {
      "text/plain": [
       "0    김경이\n",
       "1    박진형\n",
       "2    강석민\n",
       "3    최진강\n",
       "Name: 사용자 , dtype: object"
      ]
     },
     "execution_count": 43,
     "metadata": {},
     "output_type": "execute_result"
    }
   ],
   "source": [
    "# 하지만 \"사용자 \" 라고 검색하면 컬럼을 가져옵니다.\n",
    "raw_review[\"사용자 \"]"
   ]
  },
  {
   "cell_type": "code",
   "execution_count": 44,
   "metadata": {},
   "outputs": [
    {
     "data": {
      "text/plain": [
       "Index(['사용자', '리뷰', '평점'], dtype='object')"
      ]
     },
     "execution_count": 44,
     "metadata": {},
     "output_type": "execute_result"
    }
   ],
   "source": [
    "# 이럴 때는 데이터를 로딩할 때 컬럼에서 띄어쓰기를 제거해 줘야 하는데,\n",
    "# 이 경우 가장 많이 쓰이는 기능이 strip 입니다.\n",
    "raw_review.columns.str.strip()"
   ]
  },
  {
   "cell_type": "code",
   "execution_count": 45,
   "metadata": {},
   "outputs": [
    {
     "data": {
      "text/plain": [
       "Index(['사용자 ', '리뷰 ', '평점'], dtype='object')"
      ]
     },
     "execution_count": 45,
     "metadata": {},
     "output_type": "execute_result"
    }
   ],
   "source": [
    "# lstrip은 왼쪽 띄어쓰기만 제거하고\n",
    "raw_review.columns.str.lstrip()"
   ]
  },
  {
   "cell_type": "code",
   "execution_count": 46,
   "metadata": {},
   "outputs": [
    {
     "data": {
      "text/plain": [
       "Index(['사용자', ' 리뷰', ' 평점'], dtype='object')"
      ]
     },
     "execution_count": 46,
     "metadata": {},
     "output_type": "execute_result"
    }
   ],
   "source": [
    "# rstrip은 오른쪽 띄어쓰기만 제거합니다.\n",
    "raw_review.columns.str.rstrip()"
   ]
  },
  {
   "cell_type": "code",
   "execution_count": 47,
   "metadata": {},
   "outputs": [
    {
     "data": {
      "text/plain": [
       "0    김경이\n",
       "1    박진형\n",
       "2    강석민\n",
       "3    최진강\n",
       "Name: 사용자, dtype: object"
      ]
     },
     "execution_count": 47,
     "metadata": {},
     "output_type": "execute_result"
    }
   ],
   "source": [
    "# strip을 활용해서 컬럼의 띄어쓰기를 제거해주면\n",
    "raw_review.columns = raw_review.columns.str.strip()\n",
    "\n",
    "# 이제는 \"사용자 \"가 아닌 \"사용자\"로 가져올 수 있습니다.\n",
    "raw_review[\"사용자\"]"
   ]
  },
  {
   "cell_type": "code",
   "execution_count": 48,
   "metadata": {},
   "outputs": [
    {
     "data": {
      "text/html": [
       "<div>\n",
       "<style>\n",
       "    .dataframe thead tr:only-child th {\n",
       "        text-align: right;\n",
       "    }\n",
       "\n",
       "    .dataframe thead th {\n",
       "        text-align: left;\n",
       "    }\n",
       "\n",
       "    .dataframe tbody tr th {\n",
       "        vertical-align: top;\n",
       "    }\n",
       "</style>\n",
       "<table border=\"1\" class=\"dataframe\">\n",
       "  <thead>\n",
       "    <tr style=\"text-align: right;\">\n",
       "      <th></th>\n",
       "      <th>Best였음.</th>\n",
       "      <th>깨끗하고</th>\n",
       "      <th>너무</th>\n",
       "      <th>등</th>\n",
       "      <th>따로</th>\n",
       "      <th>룸서비스,조식</th>\n",
       "      <th>만족한</th>\n",
       "      <th>많이</th>\n",
       "      <th>매우</th>\n",
       "      <th>모두</th>\n",
       "      <th>...</th>\n",
       "      <th>친절해서</th>\n",
       "      <th>침대가</th>\n",
       "      <th>편안해서</th>\n",
       "      <th>편했고,</th>\n",
       "      <th>포함되어있지</th>\n",
       "      <th>한국인</th>\n",
       "      <th>할때</th>\n",
       "      <th>현대적입니다.</th>\n",
       "      <th>호텔이</th>\n",
       "      <th>호텔중</th>\n",
       "    </tr>\n",
       "  </thead>\n",
       "  <tbody>\n",
       "    <tr>\n",
       "      <th>0</th>\n",
       "      <td>1</td>\n",
       "      <td>0</td>\n",
       "      <td>0</td>\n",
       "      <td>0</td>\n",
       "      <td>0</td>\n",
       "      <td>0</td>\n",
       "      <td>0</td>\n",
       "      <td>0</td>\n",
       "      <td>0</td>\n",
       "      <td>0</td>\n",
       "      <td>...</td>\n",
       "      <td>0</td>\n",
       "      <td>0</td>\n",
       "      <td>0</td>\n",
       "      <td>0</td>\n",
       "      <td>0</td>\n",
       "      <td>0</td>\n",
       "      <td>0</td>\n",
       "      <td>0</td>\n",
       "      <td>0</td>\n",
       "      <td>1</td>\n",
       "    </tr>\n",
       "    <tr>\n",
       "      <th>1</th>\n",
       "      <td>0</td>\n",
       "      <td>0</td>\n",
       "      <td>0</td>\n",
       "      <td>0</td>\n",
       "      <td>0</td>\n",
       "      <td>0</td>\n",
       "      <td>1</td>\n",
       "      <td>0</td>\n",
       "      <td>1</td>\n",
       "      <td>1</td>\n",
       "      <td>...</td>\n",
       "      <td>1</td>\n",
       "      <td>1</td>\n",
       "      <td>1</td>\n",
       "      <td>0</td>\n",
       "      <td>0</td>\n",
       "      <td>0</td>\n",
       "      <td>0</td>\n",
       "      <td>0</td>\n",
       "      <td>0</td>\n",
       "      <td>0</td>\n",
       "    </tr>\n",
       "    <tr>\n",
       "      <th>2</th>\n",
       "      <td>0</td>\n",
       "      <td>1</td>\n",
       "      <td>0</td>\n",
       "      <td>1</td>\n",
       "      <td>1</td>\n",
       "      <td>1</td>\n",
       "      <td>0</td>\n",
       "      <td>1</td>\n",
       "      <td>0</td>\n",
       "      <td>0</td>\n",
       "      <td>...</td>\n",
       "      <td>0</td>\n",
       "      <td>0</td>\n",
       "      <td>0</td>\n",
       "      <td>1</td>\n",
       "      <td>1</td>\n",
       "      <td>1</td>\n",
       "      <td>1</td>\n",
       "      <td>1</td>\n",
       "      <td>0</td>\n",
       "      <td>0</td>\n",
       "    </tr>\n",
       "    <tr>\n",
       "      <th>3</th>\n",
       "      <td>0</td>\n",
       "      <td>0</td>\n",
       "      <td>1</td>\n",
       "      <td>0</td>\n",
       "      <td>0</td>\n",
       "      <td>0</td>\n",
       "      <td>0</td>\n",
       "      <td>0</td>\n",
       "      <td>0</td>\n",
       "      <td>0</td>\n",
       "      <td>...</td>\n",
       "      <td>0</td>\n",
       "      <td>0</td>\n",
       "      <td>0</td>\n",
       "      <td>0</td>\n",
       "      <td>0</td>\n",
       "      <td>0</td>\n",
       "      <td>0</td>\n",
       "      <td>0</td>\n",
       "      <td>1</td>\n",
       "      <td>0</td>\n",
       "    </tr>\n",
       "  </tbody>\n",
       "</table>\n",
       "<p>4 rows × 54 columns</p>\n",
       "</div>"
      ],
      "text/plain": [
       "   Best였음.  깨끗하고  너무  등  따로  룸서비스,조식  만족한  많이  매우  모두 ...   친절해서  침대가  편안해서  \\\n",
       "0        1     0   0  0   0        0    0   0   0   0 ...      0    0     0   \n",
       "1        0     0   0  0   0        0    1   0   1   1 ...      1    1     1   \n",
       "2        0     1   0  1   1        1    0   1   0   0 ...      0    0     0   \n",
       "3        0     0   1  0   0        0    0   0   0   0 ...      0    0     0   \n",
       "\n",
       "   편했고,  포함되어있지  한국인  할때  현대적입니다.  호텔이  호텔중  \n",
       "0     0       0    0   0        0    0    1  \n",
       "1     0       0    0   0        0    0    0  \n",
       "2     1       1    1   1        1    0    0  \n",
       "3     0       0    0   0        0    1    0  \n",
       "\n",
       "[4 rows x 54 columns]"
      ]
     },
     "execution_count": 48,
     "metadata": {},
     "output_type": "execute_result"
    }
   ],
   "source": [
    "# str에는 get_dummies라는 재미있는 기능이 있습니다.\n",
    "# sep에 구분자가 되는 텍스트를 지정해 주면, 1) 해당 텍스트로 문장을 쪼개준 뒤\n",
    "# 2) 쪼갠 결과(아마도 단어)가 문장마다 몇 개가 있는지를 알아서 계산해줍니다.\n",
    "review_tokens = review[\"리뷰\"].str.get_dummies(sep=\" \")\n",
    "review_tokens"
   ]
  },
  {
   "cell_type": "code",
   "execution_count": 49,
   "metadata": {},
   "outputs": [
    {
     "data": {
      "text/html": [
       "<div>\n",
       "<style>\n",
       "    .dataframe thead tr:only-child th {\n",
       "        text-align: right;\n",
       "    }\n",
       "\n",
       "    .dataframe thead th {\n",
       "        text-align: left;\n",
       "    }\n",
       "\n",
       "    .dataframe tbody tr th {\n",
       "        vertical-align: top;\n",
       "    }\n",
       "</style>\n",
       "<table border=\"1\" class=\"dataframe\">\n",
       "  <thead>\n",
       "    <tr style=\"text-align: right;\">\n",
       "      <th></th>\n",
       "      <th>사용자</th>\n",
       "      <th>리뷰</th>\n",
       "      <th>평점</th>\n",
       "      <th>Best였음.</th>\n",
       "      <th>깨끗하고</th>\n",
       "      <th>너무</th>\n",
       "      <th>등</th>\n",
       "      <th>따로</th>\n",
       "      <th>룸서비스,조식</th>\n",
       "      <th>만족한</th>\n",
       "      <th>...</th>\n",
       "      <th>친절해서</th>\n",
       "      <th>침대가</th>\n",
       "      <th>편안해서</th>\n",
       "      <th>편했고,</th>\n",
       "      <th>포함되어있지</th>\n",
       "      <th>한국인</th>\n",
       "      <th>할때</th>\n",
       "      <th>현대적입니다.</th>\n",
       "      <th>호텔이</th>\n",
       "      <th>호텔중</th>\n",
       "    </tr>\n",
       "  </thead>\n",
       "  <tbody>\n",
       "    <tr>\n",
       "      <th>0</th>\n",
       "      <td>김경이</td>\n",
       "      <td>위치나 시설, 직원태도등 최근 방문한 호텔중 Best였음.</td>\n",
       "      <td>8점</td>\n",
       "      <td>1</td>\n",
       "      <td>0</td>\n",
       "      <td>0</td>\n",
       "      <td>0</td>\n",
       "      <td>0</td>\n",
       "      <td>0</td>\n",
       "      <td>0</td>\n",
       "      <td>...</td>\n",
       "      <td>0</td>\n",
       "      <td>0</td>\n",
       "      <td>0</td>\n",
       "      <td>0</td>\n",
       "      <td>0</td>\n",
       "      <td>0</td>\n",
       "      <td>0</td>\n",
       "      <td>0</td>\n",
       "      <td>0</td>\n",
       "      <td>1</td>\n",
       "    </tr>\n",
       "    <tr>\n",
       "      <th>1</th>\n",
       "      <td>박진형</td>\n",
       "      <td>위치도 좋고 침대가 편안해서 숙면을 취한점이 좋았습니다. 직원들도 모두 친절해서 매...</td>\n",
       "      <td>9점</td>\n",
       "      <td>0</td>\n",
       "      <td>0</td>\n",
       "      <td>0</td>\n",
       "      <td>0</td>\n",
       "      <td>0</td>\n",
       "      <td>0</td>\n",
       "      <td>1</td>\n",
       "      <td>...</td>\n",
       "      <td>1</td>\n",
       "      <td>1</td>\n",
       "      <td>1</td>\n",
       "      <td>0</td>\n",
       "      <td>0</td>\n",
       "      <td>0</td>\n",
       "      <td>0</td>\n",
       "      <td>0</td>\n",
       "      <td>0</td>\n",
       "      <td>0</td>\n",
       "    </tr>\n",
       "    <tr>\n",
       "      <th>2</th>\n",
       "      <td>강석민</td>\n",
       "      <td>한국인 직원이 있어서 채크인/아웃 할때 많이 편했고, 음식점 추천과 예약 등 세심하...</td>\n",
       "      <td>10점</td>\n",
       "      <td>0</td>\n",
       "      <td>1</td>\n",
       "      <td>0</td>\n",
       "      <td>1</td>\n",
       "      <td>1</td>\n",
       "      <td>1</td>\n",
       "      <td>0</td>\n",
       "      <td>...</td>\n",
       "      <td>0</td>\n",
       "      <td>0</td>\n",
       "      <td>0</td>\n",
       "      <td>1</td>\n",
       "      <td>1</td>\n",
       "      <td>1</td>\n",
       "      <td>1</td>\n",
       "      <td>1</td>\n",
       "      <td>0</td>\n",
       "      <td>0</td>\n",
       "    </tr>\n",
       "    <tr>\n",
       "      <th>3</th>\n",
       "      <td>최진강</td>\n",
       "      <td>호텔이 너무 좋아서 밖으로 못나감..ㅠㅠ 정말 최고입니다.</td>\n",
       "      <td>8점</td>\n",
       "      <td>0</td>\n",
       "      <td>0</td>\n",
       "      <td>1</td>\n",
       "      <td>0</td>\n",
       "      <td>0</td>\n",
       "      <td>0</td>\n",
       "      <td>0</td>\n",
       "      <td>...</td>\n",
       "      <td>0</td>\n",
       "      <td>0</td>\n",
       "      <td>0</td>\n",
       "      <td>0</td>\n",
       "      <td>0</td>\n",
       "      <td>0</td>\n",
       "      <td>0</td>\n",
       "      <td>0</td>\n",
       "      <td>1</td>\n",
       "      <td>0</td>\n",
       "    </tr>\n",
       "  </tbody>\n",
       "</table>\n",
       "<p>4 rows × 57 columns</p>\n",
       "</div>"
      ],
      "text/plain": [
       "   사용자                                                 리뷰   평점  Best였음.  깨끗하고  \\\n",
       "0  김경이                   위치나 시설, 직원태도등 최근 방문한 호텔중 Best였음.   8점        1     0   \n",
       "1  박진형  위치도 좋고 침대가 편안해서 숙면을 취한점이 좋았습니다. 직원들도 모두 친절해서 매...   9점        0     0   \n",
       "2  강석민  한국인 직원이 있어서 채크인/아웃 할때 많이 편했고, 음식점 추천과 예약 등 세심하...  10점        0     1   \n",
       "3  최진강                   호텔이 너무 좋아서 밖으로 못나감..ㅠㅠ 정말 최고입니다.   8점        0     0   \n",
       "\n",
       "   너무  등  따로  룸서비스,조식  만족한 ...   친절해서  침대가  편안해서  편했고,  포함되어있지  한국인  할때  \\\n",
       "0   0  0   0        0    0 ...      0    0     0     0       0    0   0   \n",
       "1   0  0   0        0    1 ...      1    1     1     0       0    0   0   \n",
       "2   0  1   1        1    0 ...      0    0     0     1       1    1   1   \n",
       "3   1  0   0        0    0 ...      0    0     0     0       0    0   0   \n",
       "\n",
       "   현대적입니다.  호텔이  호텔중  \n",
       "0        0    0    1  \n",
       "1        0    0    0  \n",
       "2        1    0    0  \n",
       "3        0    1    0  \n",
       "\n",
       "[4 rows x 57 columns]"
      ]
     },
     "execution_count": 49,
     "metadata": {},
     "output_type": "execute_result"
    }
   ],
   "source": [
    "# 이를 concat를 통해 원본 데이터 옆에 붙여준 뒤 분석에 포함시키는 게 일반적인 사용 방식입니다.\n",
    "pd.concat([review, review_tokens], axis=1)"
   ]
  },
  {
   "cell_type": "markdown",
   "metadata": {},
   "source": [
    "## 파일 저장하기\n",
    "\n",
    "대용량의 데이터를 판다스로 많은 작업을 하게되면, 종종 같은 작업을 반복하지 않도록 처리 결과를 중간중간 미리 저장해놓으면 좋습니다. 판다스와 파이썬에는 다양한 저장 방식이 있는데, 가장 빈번하게 사용하는 것은 1) CSV, 2) pickle, 3) joblib 입니다."
   ]
  },
  {
   "cell_type": "markdown",
   "metadata": {},
   "source": [
    "** CSV로 파일 저장하기 / 로드하기 **\n",
    "\n",
    "판다스의 가장 기본적인 저장 방식입니다. 장점은 저장 결과가 사람이 읽을 수 있는 텍스트 형태로 나오기 때문에 가독성이 있습니다. 단점은 가독성을 중시하기 때문에 파일을 압축하지 않아 저장 용량도 크고 저장 속도도 다소 오래 걸립니다."
   ]
  },
  {
   "cell_type": "code",
   "execution_count": 50,
   "metadata": {},
   "outputs": [
    {
     "name": "stdout",
     "output_type": "stream",
     "text": [
      "(40000, 3)\n"
     ]
    },
    {
     "data": {
      "text/html": [
       "<div>\n",
       "<style>\n",
       "    .dataframe thead tr:only-child th {\n",
       "        text-align: right;\n",
       "    }\n",
       "\n",
       "    .dataframe thead th {\n",
       "        text-align: left;\n",
       "    }\n",
       "\n",
       "    .dataframe tbody tr th {\n",
       "        vertical-align: top;\n",
       "    }\n",
       "</style>\n",
       "<table border=\"1\" class=\"dataframe\">\n",
       "  <thead>\n",
       "    <tr style=\"text-align: right;\">\n",
       "      <th></th>\n",
       "      <th>사용자</th>\n",
       "      <th>리뷰</th>\n",
       "      <th>평점</th>\n",
       "    </tr>\n",
       "  </thead>\n",
       "  <tbody>\n",
       "    <tr>\n",
       "      <th>0</th>\n",
       "      <td>김경이</td>\n",
       "      <td>위치나 시설, 직원태도등 최근 방문한 호텔중 Best였음.</td>\n",
       "      <td>8점</td>\n",
       "    </tr>\n",
       "    <tr>\n",
       "      <th>1</th>\n",
       "      <td>박진형</td>\n",
       "      <td>위치도 좋고 침대가 편안해서 숙면을 취한점이 좋았습니다. 직원들도 모두 친절해서 매...</td>\n",
       "      <td>9점</td>\n",
       "    </tr>\n",
       "    <tr>\n",
       "      <th>2</th>\n",
       "      <td>강석민</td>\n",
       "      <td>한국인 직원이 있어서 채크인/아웃 할때 많이 편했고, 음식점 추천과 예약 등 세심하...</td>\n",
       "      <td>10점</td>\n",
       "    </tr>\n",
       "    <tr>\n",
       "      <th>3</th>\n",
       "      <td>최진강</td>\n",
       "      <td>호텔이 너무 좋아서 밖으로 못나감..ㅠㅠ 정말 최고입니다.</td>\n",
       "      <td>8점</td>\n",
       "    </tr>\n",
       "    <tr>\n",
       "      <th>0</th>\n",
       "      <td>김경이</td>\n",
       "      <td>위치나 시설, 직원태도등 최근 방문한 호텔중 Best였음.</td>\n",
       "      <td>8점</td>\n",
       "    </tr>\n",
       "  </tbody>\n",
       "</table>\n",
       "</div>"
      ],
      "text/plain": [
       "   사용자                                                 리뷰   평점\n",
       "0  김경이                   위치나 시설, 직원태도등 최근 방문한 호텔중 Best였음.   8점\n",
       "1  박진형  위치도 좋고 침대가 편안해서 숙면을 취한점이 좋았습니다. 직원들도 모두 친절해서 매...   9점\n",
       "2  강석민  한국인 직원이 있어서 채크인/아웃 할때 많이 편했고, 음식점 추천과 예약 등 세심하...  10점\n",
       "3  최진강                   호텔이 너무 좋아서 밖으로 못나감..ㅠㅠ 정말 최고입니다.   8점\n",
       "0  김경이                   위치나 시설, 직원태도등 최근 방문한 호텔중 Best였음.   8점"
      ]
     },
     "execution_count": 50,
     "metadata": {},
     "output_type": "execute_result"
    }
   ],
   "source": [
    "review_large = pd.concat([review.copy() for _ in range(10000)])\n",
    "\n",
    "print(review_large.shape)\n",
    "review_large.head()"
   ]
  },
  {
   "cell_type": "code",
   "execution_count": 51,
   "metadata": {},
   "outputs": [
    {
     "name": "stdout",
     "output_type": "stream",
     "text": [
      "CPU times: user 128 ms, sys: 114 ms, total: 242 ms\n",
      "Wall time: 354 ms\n"
     ]
    }
   ],
   "source": [
    "# to_csv로 저장하면\n",
    "%time review_large.to_csv(\"review_large.csv\", index=False)"
   ]
  },
  {
   "cell_type": "code",
   "execution_count": 52,
   "metadata": {},
   "outputs": [
    {
     "name": "stdout",
     "output_type": "stream",
     "text": [
      "CPU times: user 68.3 ms, sys: 12.5 ms, total: 80.8 ms\n",
      "Wall time: 85.9 ms\n"
     ]
    },
    {
     "data": {
      "text/html": [
       "<div>\n",
       "<style>\n",
       "    .dataframe thead tr:only-child th {\n",
       "        text-align: right;\n",
       "    }\n",
       "\n",
       "    .dataframe thead th {\n",
       "        text-align: left;\n",
       "    }\n",
       "\n",
       "    .dataframe tbody tr th {\n",
       "        vertical-align: top;\n",
       "    }\n",
       "</style>\n",
       "<table border=\"1\" class=\"dataframe\">\n",
       "  <thead>\n",
       "    <tr style=\"text-align: right;\">\n",
       "      <th></th>\n",
       "      <th>사용자</th>\n",
       "      <th>리뷰</th>\n",
       "      <th>평점</th>\n",
       "    </tr>\n",
       "  </thead>\n",
       "  <tbody>\n",
       "    <tr>\n",
       "      <th>0</th>\n",
       "      <td>김경이</td>\n",
       "      <td>위치나 시설, 직원태도등 최근 방문한 호텔중 Best였음.</td>\n",
       "      <td>8점</td>\n",
       "    </tr>\n",
       "  </tbody>\n",
       "</table>\n",
       "</div>"
      ],
      "text/plain": [
       "   사용자                                리뷰  평점\n",
       "0  김경이  위치나 시설, 직원태도등 최근 방문한 호텔중 Best였음.  8점"
      ]
     },
     "execution_count": 52,
     "metadata": {},
     "output_type": "execute_result"
    }
   ],
   "source": [
    "# read_csv로 읽어올 수 있습니다.\n",
    "%time review_large = pd.read_csv(\"review_large.csv\")\n",
    "review_large.head(1)"
   ]
  },
  {
   "cell_type": "code",
   "execution_count": 53,
   "metadata": {},
   "outputs": [
    {
     "name": "stdout",
     "output_type": "stream",
     "text": [
      "7070024\r\n"
     ]
    }
   ],
   "source": [
    "!stat -f '%z' \"review_large.csv\""
   ]
  },
  {
   "cell_type": "markdown",
   "metadata": {},
   "source": [
    "** pickle로 파일 저장하기/로드하기 **\n",
    "\n",
    "파이썬에서 권장하는 가장 기본적인 저장 방식입니다. 장점은 1) 데이터프레임뿐만 아니라 모든 형식의 데이터는 전부 Pickle로 저장할 수 있곡, 2) CSV보다 더 효율적인 용량으로 저장할 수 있고 3) 저장 속도와 파일을 읽는 속도 둘 다 훨씬 빠릅니다. 단점은 CSV와는 달리 가독성있는 형태로 저장되지 않습니다.\n",
    "\n",
    "보통 전처리 중간중간 파일을 저장하고 싶을 경우 가장 많이 사용하는 포멧입니다."
   ]
  },
  {
   "cell_type": "code",
   "execution_count": 54,
   "metadata": {},
   "outputs": [
    {
     "name": "stdout",
     "output_type": "stream",
     "text": [
      "CPU times: user 4.88 ms, sys: 1.92 ms, total: 6.8 ms\n",
      "Wall time: 6.28 ms\n"
     ]
    }
   ],
   "source": [
    "import pickle\n",
    "\n",
    "%time pickle.dump(review_large, open(\"review_large.p\", \"wb\"))"
   ]
  },
  {
   "cell_type": "code",
   "execution_count": 55,
   "metadata": {},
   "outputs": [
    {
     "name": "stdout",
     "output_type": "stream",
     "text": [
      "CPU times: user 5.48 ms, sys: 2.96 ms, total: 8.43 ms\n",
      "Wall time: 11.2 ms\n"
     ]
    },
    {
     "data": {
      "text/html": [
       "<div>\n",
       "<style>\n",
       "    .dataframe thead tr:only-child th {\n",
       "        text-align: right;\n",
       "    }\n",
       "\n",
       "    .dataframe thead th {\n",
       "        text-align: left;\n",
       "    }\n",
       "\n",
       "    .dataframe tbody tr th {\n",
       "        vertical-align: top;\n",
       "    }\n",
       "</style>\n",
       "<table border=\"1\" class=\"dataframe\">\n",
       "  <thead>\n",
       "    <tr style=\"text-align: right;\">\n",
       "      <th></th>\n",
       "      <th>사용자</th>\n",
       "      <th>리뷰</th>\n",
       "      <th>평점</th>\n",
       "    </tr>\n",
       "  </thead>\n",
       "  <tbody>\n",
       "    <tr>\n",
       "      <th>0</th>\n",
       "      <td>김경이</td>\n",
       "      <td>위치나 시설, 직원태도등 최근 방문한 호텔중 Best였음.</td>\n",
       "      <td>8점</td>\n",
       "    </tr>\n",
       "  </tbody>\n",
       "</table>\n",
       "</div>"
      ],
      "text/plain": [
       "   사용자                                리뷰  평점\n",
       "0  김경이  위치나 시설, 직원태도등 최근 방문한 호텔중 Best였음.  8점"
      ]
     },
     "execution_count": 55,
     "metadata": {},
     "output_type": "execute_result"
    }
   ],
   "source": [
    "%time review_large = pickle.load(open(\"review_large.p\", \"rb\"))\n",
    "review_large.head(1)"
   ]
  },
  {
   "cell_type": "code",
   "execution_count": 56,
   "metadata": {},
   "outputs": [
    {
     "name": "stdout",
     "output_type": "stream",
     "text": [
      "241761\r\n"
     ]
    }
   ],
   "source": [
    "!stat -f '%z' \"review_large.p\""
   ]
  },
  {
   "cell_type": "markdown",
   "metadata": {},
   "source": [
    "** joblib로 파일 저장하기/로드하기 **\n",
    "\n",
    "파이썬에는 pickle 외에도 joblib라고 하는 데이터 저장용 패키지가 있습니다. pickle과 유사하게 동작하지만, 1) compress=True 옵션을 주면 파일 크기가 비약적으로 작아지고, 2) pickle보다 속도가 다소 느리지만 그렇다고 심각하진 않습니다. 하지만 joblib라는 별도의 라이브러리를 설정해줘야 하는 단점이 있습니다.\n",
    "\n",
    "보통은 데이터가 작으면 pickle, 데이터가 크면 joblib를 사용합니다."
   ]
  },
  {
   "cell_type": "code",
   "execution_count": 57,
   "metadata": {},
   "outputs": [
    {
     "name": "stdout",
     "output_type": "stream",
     "text": [
      "Requirement already satisfied: joblib in /Users/shaynekang/anaconda3/lib/python3.6/site-packages\r\n"
     ]
    }
   ],
   "source": [
    "!pip install joblib"
   ]
  },
  {
   "cell_type": "code",
   "execution_count": 58,
   "metadata": {},
   "outputs": [
    {
     "name": "stdout",
     "output_type": "stream",
     "text": [
      "CPU times: user 12.5 ms, sys: 2.22 ms, total: 14.7 ms\n",
      "Wall time: 14.2 ms\n"
     ]
    },
    {
     "data": {
      "text/plain": [
       "['review_large.pkl']"
      ]
     },
     "execution_count": 58,
     "metadata": {},
     "output_type": "execute_result"
    }
   ],
   "source": [
    "import joblib\n",
    "# from sklearn.externals import joblib\n",
    "\n",
    "%time joblib.dump(review_large, 'review_large.pkl', compress=True)"
   ]
  },
  {
   "cell_type": "code",
   "execution_count": 59,
   "metadata": {},
   "outputs": [
    {
     "name": "stdout",
     "output_type": "stream",
     "text": [
      "CPU times: user 13.8 ms, sys: 5.9 ms, total: 19.7 ms\n",
      "Wall time: 19.5 ms\n"
     ]
    },
    {
     "data": {
      "text/html": [
       "<div>\n",
       "<style>\n",
       "    .dataframe thead tr:only-child th {\n",
       "        text-align: right;\n",
       "    }\n",
       "\n",
       "    .dataframe thead th {\n",
       "        text-align: left;\n",
       "    }\n",
       "\n",
       "    .dataframe tbody tr th {\n",
       "        vertical-align: top;\n",
       "    }\n",
       "</style>\n",
       "<table border=\"1\" class=\"dataframe\">\n",
       "  <thead>\n",
       "    <tr style=\"text-align: right;\">\n",
       "      <th></th>\n",
       "      <th>사용자</th>\n",
       "      <th>리뷰</th>\n",
       "      <th>평점</th>\n",
       "    </tr>\n",
       "  </thead>\n",
       "  <tbody>\n",
       "    <tr>\n",
       "      <th>0</th>\n",
       "      <td>김경이</td>\n",
       "      <td>위치나 시설, 직원태도등 최근 방문한 호텔중 Best였음.</td>\n",
       "      <td>8점</td>\n",
       "    </tr>\n",
       "  </tbody>\n",
       "</table>\n",
       "</div>"
      ],
      "text/plain": [
       "   사용자                                리뷰  평점\n",
       "0  김경이  위치나 시설, 직원태도등 최근 방문한 호텔중 Best였음.  8점"
      ]
     },
     "execution_count": 59,
     "metadata": {},
     "output_type": "execute_result"
    }
   ],
   "source": [
    "%time review_large = joblib.load('review_large.pkl')\n",
    "review_large.head(1)"
   ]
  },
  {
   "cell_type": "code",
   "execution_count": 60,
   "metadata": {},
   "outputs": [
    {
     "name": "stdout",
     "output_type": "stream",
     "text": [
      "5557\r\n"
     ]
    }
   ],
   "source": [
    "!stat -f '%z' \"review_large.pkl\""
   ]
  },
  {
   "cell_type": "markdown",
   "metadata": {
    "collapsed": true
   },
   "source": [
    "또한 파일을 저장할 때 폴더를 지정할 수 있는데, 이 경우 폴더가 없을 것을 대비하여 새 폴더를 만들어주는 코드를 추가로 작성해주는 게 도움이 됩니다."
   ]
  },
  {
   "cell_type": "code",
   "execution_count": 64,
   "metadata": {
    "collapsed": true
   },
   "outputs": [],
   "source": [
    "import os\n",
    "import pickle\n",
    "\n",
    "# 폴더명을 지정합니다.\n",
    "directory = \"history/\"\n",
    "\n",
    "# 해당 폴덕가 없으면\n",
    "if not os.path.exists(directory):\n",
    "    # makedires로 새 폴더를 만듭니다.\n",
    "    os.makedirs(directory)\n",
    "\n",
    "# 이후 해당 폴더에 파일을 저장합니다.\n",
    "filepath = directory + \"review_large.p\"\n",
    "pickle.dump(review_large, open(filepath, \"wb\"))"
   ]
  },
  {
   "cell_type": "code",
   "execution_count": 65,
   "metadata": {},
   "outputs": [
    {
     "data": {
      "text/html": [
       "<div>\n",
       "<style>\n",
       "    .dataframe thead tr:only-child th {\n",
       "        text-align: right;\n",
       "    }\n",
       "\n",
       "    .dataframe thead th {\n",
       "        text-align: left;\n",
       "    }\n",
       "\n",
       "    .dataframe tbody tr th {\n",
       "        vertical-align: top;\n",
       "    }\n",
       "</style>\n",
       "<table border=\"1\" class=\"dataframe\">\n",
       "  <thead>\n",
       "    <tr style=\"text-align: right;\">\n",
       "      <th></th>\n",
       "      <th>사용자</th>\n",
       "      <th>리뷰</th>\n",
       "      <th>평점</th>\n",
       "    </tr>\n",
       "  </thead>\n",
       "  <tbody>\n",
       "    <tr>\n",
       "      <th>0</th>\n",
       "      <td>김경이</td>\n",
       "      <td>위치나 시설, 직원태도등 최근 방문한 호텔중 Best였음.</td>\n",
       "      <td>8점</td>\n",
       "    </tr>\n",
       "  </tbody>\n",
       "</table>\n",
       "</div>"
      ],
      "text/plain": [
       "   사용자                                리뷰  평점\n",
       "0  김경이  위치나 시설, 직원태도등 최근 방문한 호텔중 Best였음.  8점"
      ]
     },
     "execution_count": 65,
     "metadata": {},
     "output_type": "execute_result"
    }
   ],
   "source": [
    "review_large = pickle.load(open(\"review_large.p\", \"rb\"))\n",
    "review_large.head(1)"
   ]
  },
  {
   "cell_type": "code",
   "execution_count": null,
   "metadata": {
    "collapsed": true
   },
   "outputs": [],
   "source": []
  }
 ],
 "metadata": {
  "kernelspec": {
   "display_name": "Python 3",
   "language": "python",
   "name": "python3"
  },
  "language_info": {
   "codemirror_mode": {
    "name": "ipython",
    "version": 3
   },
   "file_extension": ".py",
   "mimetype": "text/x-python",
   "name": "python",
   "nbconvert_exporter": "python",
   "pygments_lexer": "ipython3",
   "version": "3.6.5"
  }
 },
 "nbformat": 4,
 "nbformat_minor": 2
}
