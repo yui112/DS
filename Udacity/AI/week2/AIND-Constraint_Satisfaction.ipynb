{
 "cells": [
  {
   "cell_type": "markdown",
   "metadata": {},
   "source": [
    "# Constraint Satisfaction Problems\n",
    "---\n",
    "Constraint satisfaction is a general problem solving technique for solving a class of combinatorial optimization problems by imposing limits on the values in the solution. The goal of this exercise is to practice formulating some classical example problems as constraint satisfaction problems (CSPs), and then to explore using a powerful open source constraint satisfaction tool called [Z3](https://github.com/Z3Prover/z3) from Microsoft Research to solve them. Practicing with these simple problems will help you to recognize real-world problems that can be posed as CSPs; some solvers even have specialized utilities for specific types of problem (vehicle routing, planning, scheduling, etc.).\n",
    "\n",
    "There are many different kinds of CSP solvers available for CSPs. Z3 is a \"Satisfiability Modulo Theories\" (SMT) solver, which means that unlike the backtracking and variable assignment heuristics discussed in lecture, Z3 first converts CSPs to satisfiability problems then uses a [boolean satisfiability](https://en.wikipedia.org/wiki/Boolean_satisfiability_problem) (SAT) solver to determine feasibility. Z3 includes a number of efficient solver algorithms primarily developed to perform formal program verification, but it can also be used on general CSPs. Google's [OR tools](https://developers.google.com/optimization/) includes a CSP solver using backtracking with specialized subroutines for some common CP domains.\n",
    "\n",
    "## I. The Road Ahead\n",
    "\n",
    "0. [Cryptarithmetic](#I.-Cryptarithmetic) - introducing the Z3 API with simple word puzzles\n",
    "0. [Map Coloring](#II.-Map-Coloring) - solving the map coloring problem from lectures\n",
    "0. [N-Queens](#III.-N-Queens) - experimenting with problems that scale\n",
    "0. [Revisiting Sudoku](#IV.-Revisiting-Sudoku) - revisit the sudoku project with the Z3 solver"
   ]
  },
  {
   "cell_type": "markdown",
   "metadata": {},
   "source": [
    "<div class=\"alert alert-box alert-info\">\n",
    "NOTE: You can find solutions to this exercise in the \"solutions\" branch of the git repo, or on GitHub [here](https://github.com/udacity/artificial-intelligence/blob/solutions/Exercises/1_Constraint%20Satisfaction/AIND-Constraint_Satisfaction.ipynb).\n",
    "</div>"
   ]
  },
  {
   "cell_type": "code",
   "execution_count": 1,
   "metadata": {},
   "outputs": [],
   "source": [
    "%matplotlib inline"
   ]
  },
  {
   "cell_type": "code",
   "execution_count": 2,
   "metadata": {},
   "outputs": [],
   "source": [
    "import matplotlib as mpl\n",
    "import matplotlib.pyplot as plt\n",
    "\n",
    "# from util import displayBoard\n",
    "from itertools import product\n",
    "from IPython.display import display\n",
    "\n",
    "__builtins__.Z3_LIB_DIRS = ['/home/workspace/z3/bin']\n",
    "from z3 import *"
   ]
  },
  {
   "cell_type": "markdown",
   "metadata": {},
   "source": [
    "---\n",
    "## I. Cryptarithmetic\n",
    "\n",
    "We'll start by exploring the Z3 module with a _very_ simple & classic CSP problem called cryptarithmetic. A cryptarithmetic puzzle is posed as an arithmetic equation made up of words where each letter represents a distinct digit in the range (0-9). (This problem has no practical significance in AI, but it is a useful illustration of the basic ideas of CSPs.) For example, consider the problem and one possible solution shown below:\n",
    "\n",
    "```\n",
    "  T W O  :    9 3 8\n",
    "+ T W O  :  + 9 3 8\n",
    "-------  :  -------\n",
    "F O U R  :  1 8 7 6\n",
    "```\n",
    "There are six distinct variables (F, O, R, T, U, W), and when we require each letter to represent a disctinct number (e.g., F != O, R != T, ..., etc.) and disallow leading zeros (i.e., T != 0 and F != 0) then one possible solution is (F=1, O=8, R=6, T=9, U=7, W=3). \n",
    "\n",
    "### IMPLEMENTATION: Declaring Variables\n",
    "For this problem we need a single variable for each distinct letter in the puzzle, and each variable will have an integer values between 0-9. (We will handle restricting the leading digits separately.) Complete the declarations in the next cell to create all of the remaining variables and constraint them to the range 0-9."
   ]
  },
  {
   "cell_type": "code",
   "execution_count": 4,
   "metadata": {},
   "outputs": [],
   "source": [
    "ca_solver = Solver()  # create an instance of a Z3 CSP solver\n",
    "\n",
    "F = Int('F')  # create an z3.Int type variable instance called \"F\"\n",
    "ca_solver.add(0 <= F, F <= 9)  # add constraints to the solver: 0 <= F <= 9\n",
    "# ...\n",
    "# TODO: Add all the missing letter variables\n",
    "O = Int('O')\n",
    "ca_solver.add(0 <= O, O <= 9)\n",
    "\n",
    "R = Int('R')\n",
    "ca_solver.add(0 <= R, R <= 9)\n",
    "\n",
    "T = Int('T')\n",
    "ca_solver.add(0 <= T, T <= 9)\n",
    "\n",
    "U = Int('U')\n",
    "ca_solver.add(0 <= U, U <= 9)\n",
    "\n",
    "W = Int('W')\n",
    "ca_solver.add(0 <= W, W <= 9)"
   ]
  },
  {
   "cell_type": "markdown",
   "metadata": {},
   "source": [
    "### IMPLEMENTATION: Encoding Assumptions as Constraints\n",
    "We had two additional assumptions that need to be added as constraints: 1) leading digits cannot be zero, and 2) no two distinct letters represent the same digits. The first assumption can simply be added as a boolean statement like M != 0. And the second is a _very_ common CSP constraint (so common, in fact, that most libraries have a built in function to support it); z3 is no exception, with the Distinct(var_list) constraint function."
   ]
  },
  {
   "cell_type": "code",
   "execution_count": 9,
   "metadata": {},
   "outputs": [],
   "source": [
    "# TODO: Add constraints prohibiting leading digits F & T from taking the value 0\n",
    "ca_solver.add(T != 0, F != 0)\n",
    "\n",
    "# TODO: Add a Distinct constraint for all the variables\n",
    "ca_solver.add(F != O, F != R, F != T, F != U, F != W)\n",
    "ca_solver.add(O != F, O != R, O != T, O != U, O != W)\n",
    "ca_solver.add(R != O, R != F, R != T, R != U, R != W)\n",
    "ca_solver.add(T != O, T != R, T != F, T != U, T != W)\n",
    "ca_solver.add(U != O, U != R, U != T, U != F, U != W)\n",
    "ca_solver.add(W != O, W != R, W != T, W != F, W != U)"
   ]
  },
  {
   "cell_type": "markdown",
   "metadata": {},
   "source": [
    "### Choosing Problem Constraints\n",
    "There are often multiple ways to express the constraints for a problem. For example, in this case we could write a single large constraint combining all of the letters simultaneously $T\\times10^2 + W\\times10^1 + O\\times10^0 + T\\times10^2 + W\\times10^1 + O\\times10^0 = F\\times10^3 + O\\times10^2 + U\\times10^1 + R\\times10^0$. This kind of constraint works fine for some problems, but large constraints cannot usually be evaluated for satisfiability unless every variable is bound to a specific value. Expressing the problem with smaller constraints can sometimes allow the solver to finish faster.\n",
    "\n",
    "For example, we can break out each pair of digits in the summands and introduce a carry variable for each column: $(O + O)\\times10^0 = R\\times10^0 + carry_1\\times10^1$ This constraint can be evaluated as True/False with only four values assigned.\n",
    "\n",
    "The choice of encoding on this problem is unlikely to have any effect (because the problem is so small), however it is worth considering on more complex problems.\n",
    "\n",
    "### Implementation: Add the Problem Constraints\n",
    "Pick one of the possible encodings discussed above and add the required constraints into the solver in the next cell. "
   ]
  },
  {
   "cell_type": "code",
   "execution_count": 10,
   "metadata": {},
   "outputs": [],
   "source": [
    "# TODO: add any required variables and/or constraints to solve the cryptarithmetic puzzle\n",
    "# Primary solution using single constraint for the cryptarithmetic equation\n",
    "ca_solver.add((T+T)*10**2 + (W+W)*10 + (O+O) == F*10**3 + O*10**2 + U*10 + R)"
   ]
  },
  {
   "cell_type": "code",
   "execution_count": 11,
   "metadata": {},
   "outputs": [
    {
     "name": "stdout",
     "output_type": "stream",
     "text": [
      "  T W O  :    8 4 6\n",
      "+ T W O  :  + 8 4 6\n",
      "-------  :  -------\n",
      "F O U R  :  1 6 9 2\n"
     ]
    }
   ],
   "source": [
    "assert ca_solver.check() == sat, \"Uh oh...the solver did not find a solution. Check your constraints.\"\n",
    "print(\"  T W O  :    {} {} {}\".format(ca_solver.model()[T], ca_solver.model()[W], ca_solver.model()[O]))\n",
    "print(\"+ T W O  :  + {} {} {}\".format(ca_solver.model()[T], ca_solver.model()[W], ca_solver.model()[O]))\n",
    "print(\"-------  :  -------\")\n",
    "print(\"F O U R  :  {} {} {} {}\".format(ca_solver.model()[F], ca_solver.model()[O], ca_solver.model()[U], ca_solver.model()[R]))"
   ]
  },
  {
   "cell_type": "markdown",
   "metadata": {},
   "source": [
    "### Cryptarithmetic Challenges\n",
    "0. Search online for [more cryptarithmetic puzzles](https://www.reddit.com/r/dailyprogrammer/comments/7p5p2o/20180108_challenge_346_easy_cryptarithmetic_solver/) (or create your own). Come to office hours or join a discussion channel to chat with your peers about the trade-offs between monolithic constraints & splitting up the constraints. (Is one way or another easier to generalize or scale with new problems? Is one of them faster for large or small problems?)\n",
    "0. Can you extend the solution to handle complex puzzles (e.g., using multiplication WORD1 x WORD2 = OUTPUT)?"
   ]
  },
  {
   "cell_type": "markdown",
   "metadata": {},
   "source": [
    "---\n",
    "## II. Map Coloring\n",
    "\n",
    "[Map coloring](https://en.wikipedia.org/wiki/Map_coloring) is a classic example of CSPs. A map coloring problem is specified by a set of colors and a map showing the borders between distinct regions. A solution to a map coloring problem is an assignment of one color to each region of the map such that no pair of adjacent regions have the same color.\n",
    "\n",
    "Run the first cell below to declare the color palette and a solver. The color palette specifies a mapping from integer to color. We'll use integers to represent the values in each constraint; then we can decode the solution from Z3 to determine the color applied to each region in the map.\n",
    "\n",
    "![Map coloring is a classic example CSP](map.png)"
   ]
  },
  {
   "cell_type": "code",
   "execution_count": 13,
   "metadata": {},
   "outputs": [],
   "source": [
    "# create instance of Z3 solver & declare color palette\n",
    "mc_solver = Solver()\n",
    "colors = {'0': \"Blue\", '1': \"Red\", '2': \"Green\"}"
   ]
  },
  {
   "cell_type": "markdown",
   "metadata": {},
   "source": [
    "### IMPLEMENTATION: Add Variables\n",
    "Add a variable to represent each region on the map above. Use the abbreviated name for the regions: WA=Western Australia, SA=Southern Australia, NT=Northern Territory, Q=Queensland, NSW=New South Wales, V=Victoria, T=Tasmania. Add constraints to each variable to restrict it to one of the available colors: 0=Blue, 1=Red, 2=Green."
   ]
  },
  {
   "cell_type": "code",
   "execution_count": 14,
   "metadata": {},
   "outputs": [],
   "source": [
    "WA = Int('WA')\n",
    "mc_solver.add(0 <= WA, WA <= 2)\n",
    "# ...\n",
    "# TODO: add the remaining six regions and color constraints\n",
    "NT = Int('NT')\n",
    "mc_solver.add(0 <= NT, NT <= 2)\n",
    "SA = Int('SA')\n",
    "mc_solver.add(0 <= SA, SA <= 2)\n",
    "Q = Int('Q')\n",
    "mc_solver.add(0 <= Q, Q <= 2)\n",
    "NSW = Int('NSW')\n",
    "mc_solver.add(0 <= NSW, NSW <= 2)\n",
    "V = Int('V')\n",
    "mc_solver.add(0 <= V, V <= 2)\n",
    "T = Int('T')\n",
    "mc_solver.add(0 <= T, T <= 2)"
   ]
  },
  {
   "cell_type": "markdown",
   "metadata": {},
   "source": [
    "### IMPLEMENTATION: Distinct Adjacent Colors Constraints\n",
    "As in the previous example, there are many valid ways to add constraints that enforce assigning different colors to adjacent regions of the map. One way is to add boolean constraints for each pair of adjacent regions, e.g., WA != SA; WA != NT; etc.\n",
    "\n",
    "Another way is to use so-called pseudo-boolean cardinality constraint, which is a constraint of the form $ \\sum w_i l_i = k $. Constraints of this form can be created in Z3 using `PbEq(((booleanA, w_A), (booleanB, w_B), ...), k)`. Distinct neighbors can be written with k=0, and w_i = 1 for all values of i. (Note: Z3 also has `PbLe()` for $\\sum w_i l_i <= k $ and `PbGe()` for $\\sum w_i l_i >= k $)\n",
    "\n",
    "Choose one of the encodings discussed above and add the required constraints to the solver in the next cell."
   ]
  },
  {
   "cell_type": "code",
   "execution_count": 15,
   "metadata": {},
   "outputs": [],
   "source": [
    "# TODO: add constraints to require adjacent regions to take distinct colors\n",
    "mc_solver.add(PbEq(((WA==NT, 1), (WA==SA, 1)), 0))\n",
    "mc_solver.add(PbEq(((NT==WA, 1), (NT==SA, 1), (NT==Q, 1)), 0))\n",
    "mc_solver.add(PbEq(((SA==WA, 1), (SA==NT, 1), (SA==Q, 1), (SA==NSW, 1), (SA==V, 1)), 0))\n",
    "mc_solver.add(PbEq(((Q==NT, 1), (Q==SA, 1), (Q==NSW, 1)), 0))\n",
    "mc_solver.add(PbEq(((NSW==SA, 1), (NSW==Q, 1), (NSW==V, 1)), 0))\n",
    "mc_solver.add(PbEq(((V==SA, 1), (V==NSW, 1)), 0))"
   ]
  },
  {
   "cell_type": "code",
   "execution_count": 16,
   "metadata": {},
   "outputs": [
    {
     "name": "stdout",
     "output_type": "stream",
     "text": [
      "WA=Green\n",
      "NT=Blue\n",
      "SA=Red\n",
      "Q=Green\n",
      "NSW=Blue\n",
      "V=Green\n",
      "T=Blue\n"
     ]
    }
   ],
   "source": [
    "assert mc_solver.check() == sat, \"Uh oh. The solver failed to find a solution. Check your constraints.\"\n",
    "print(\"WA={}\".format(colors[mc_solver.model()[WA].as_string()]))\n",
    "print(\"NT={}\".format(colors[mc_solver.model()[NT].as_string()]))\n",
    "print(\"SA={}\".format(colors[mc_solver.model()[SA].as_string()]))\n",
    "print(\"Q={}\".format(colors[mc_solver.model()[Q].as_string()]))\n",
    "print(\"NSW={}\".format(colors[mc_solver.model()[NSW].as_string()]))\n",
    "print(\"V={}\".format(colors[mc_solver.model()[V].as_string()]))\n",
    "print(\"T={}\".format(colors[mc_solver.model()[T].as_string()]))"
   ]
  },
  {
   "cell_type": "markdown",
   "metadata": {
    "collapsed": true
   },
   "source": [
    "#### Map Coloring Challenge Problems\n",
    "1. Generalize the procedure for this problem and try it on a larger map (countries in Africa, states in the USA, etc.)\n",
    "2. Extend your procedure to perform [graph coloring](https://en.wikipedia.org/wiki/Graph_coloring) (maps are planar graphs; extending to all graphs generalizes the concept of \"neighbors\" to any pair of connected nodes). (Note: graph coloring is [NP-hard](https://en.wikipedia.org/wiki/Graph_coloring#Computational_complexity), so it may take a very long time to color large graphs.)"
   ]
  },
  {
   "cell_type": "markdown",
   "metadata": {},
   "source": [
    "---\n",
    "## III. N-Queens\n",
    "\n",
    "In the next problem domain you'll solve the 8-queens puzzle, then use it to explore the complexity of solving CSPs. The 8-queens problem asks you to place 8 queens on a standard 8x8 chessboard such that none of the queens are in \"check\" (i.e., no two queens occupy the same row, column, or diagonal). The N-queens problem generalizes the puzzle to to any size square board.\n",
    "\n",
    "![The 8-queens problem is another classic CSP example](EightQueens.gif)\n",
    "\n",
    "There are many acceptable ways to represent the N-queens problem, but one convenient way is to recognize that one of the constraints (either the row or column constraint) can be enforced implicitly by the encoding.  If we represent a solution as an array with N elements, then each position in the array can represent a column of the board, and the value at each position can represent which row the queen is placed on.\n",
    "\n",
    "In this encoding, we only need a constraint to make sure that no two queens occupy the same row, and one to make sure that no two queens occupy the same diagonal.\n",
    "\n",
    "#### IMPLEMENTATION: N-Queens Solver\n",
    "Complete the function below to take an integer N >= 5 and return a Z3 solver instance with appropriate constraints to solve the N-Queens problem. NOTE: it may take a few minutes for the solver to complete the suggested sizes below."
   ]
  },
  {
   "cell_type": "code",
   "execution_count": 18,
   "metadata": {},
   "outputs": [],
   "source": [
    "def Abs(x):\n",
    "    return If(x >= 0, x, -x)\n",
    "\n",
    "def nqueens(N):\n",
    "    # TODO: Finish this function!\n",
    "#     raise NotImplementedError\n",
    "    nq_solver = Solver()\n",
    "    queens = [Int('Q{}'.format(i)) for i in range(N)]\n",
    "    nq_solver.add(*chain(*[(0 <= q, q < N) for q in queens]))  # valid range constraint\n",
    "    nq_solver.add(Distinct(queens))  # different row constraint\n",
    "    for i, q1 in enumerate(queens):\n",
    "        for j, q2 in enumerate(queens):\n",
    "            if i == j: continue\n",
    "            nq_solver.add(Abs(q1 - q2) != abs(i - j))  # different diagonal constraint\n",
    "    return nq_solver"
   ]
  },
  {
   "cell_type": "code",
   "execution_count": 19,
   "metadata": {},
   "outputs": [
    {
     "name": "stdout",
     "output_type": "stream",
     "text": [
      "8-queens: 17.805724000027112ms\n",
      "16-queens: 205.43469999984154ms\n",
      "32-queens: 3063.5761849998744ms\n",
      "64-queens: 44303.13325999987ms\n"
     ]
    },
    {
     "data": {
      "text/plain": [
       "[<matplotlib.lines.Line2D at 0x7f212aa8bf28>]"
      ]
     },
     "execution_count": 19,
     "metadata": {},
     "output_type": "execute_result"
    },
    {
     "data": {
      "image/png": "[encoded data removed]",
      "text/plain": [
       "<matplotlib.figure.Figure at 0x7f212ab74da0>"
      ]
     },
     "metadata": {
      "needs_background": "light"
     },
     "output_type": "display_data"
    }
   ],
   "source": [
    "import time\n",
    "from itertools import chain\n",
    "\n",
    "runtimes = []\n",
    "solutions = []\n",
    "sizes = [8, 16, 32, 64]\n",
    "\n",
    "for N in sizes:\n",
    "    nq_solver = nqueens(N)\n",
    "    start = time.perf_counter()\n",
    "    assert nq_solver.check(), \"Uh oh...The solver failed to find a solution. Check your constraints.\"\n",
    "    end = time.perf_counter()\n",
    "    print(\"{}-queens: {}ms\".format(N, (end-start) * 1000))\n",
    "    runtimes.append((end - start) * 1000)\n",
    "    solutions.append(nq_solver)\n",
    "\n",
    "plt.plot(sizes, runtimes)"
   ]
  },
  {
   "cell_type": "markdown",
   "metadata": {},
   "source": [
    "### Queen Problem Challenges\n",
    "- Extend the loop to run several times and estimate the variance in the solver. How consistent is the solver timing between runs?\n",
    "- Read the `displayBoard()` function in the `util.py` module and use it to show your N-queens solution."
   ]
  },
  {
   "cell_type": "markdown",
   "metadata": {},
   "source": [
    "---\n",
    "## IV. Revisiting Sudoku\n",
    "For the last CSP we'll revisit Sudoku from the first project. You previously solved Sudoku using backtracking search with constraint propagation. This time you'll re-write your solver using Z3. The backtracking search solver relied on domain-specific heuristics to select assignments during search, and to apply constraint propagation strategies (like elimination, only-choice, naked twins, etc.). The Z3 solver does not incorporate any domain-specific information, but makes up for that by incorporating a more sophisticated and a compiled solver routine.\n",
    "\n",
    "![Example of an easy sudoku puzzle](sudoku.png)"
   ]
  },
  {
   "cell_type": "code",
   "execution_count": 20,
   "metadata": {},
   "outputs": [],
   "source": [
    "from itertools import chain  # flatten nested lists; chain(*[[a, b], [c, d], ...]) == [a, b, c, d, ...]\n",
    "rows = 'ABCDEFGHI'\n",
    "cols = '123456789'\n",
    "boxes = [[Int(\"{}{}\".format(r, c)) for c in cols] for r in rows]  # declare variables for each box in the puzzle\n",
    "s_solver = Solver()  # create a solver instance"
   ]
  },
  {
   "cell_type": "markdown",
   "metadata": {},
   "source": [
    "#### IMPLEMENTATION: General Constraints\n",
    "Add constraints for each of the following conditions:\n",
    "- Boxes can only have values between 1-9 (inclusive)\n",
    "- Each box in a row must have a distinct value\n",
    "- Each box in a column must have a distinct value\n",
    "- Each box in a 3x3 block must have a distinct value"
   ]
  },
  {
   "cell_type": "code",
   "execution_count": 22,
   "metadata": {},
   "outputs": [],
   "source": [
    "# TODO: Add constraints that every box has a value between 1-9 (inclusive)\n",
    "s_solver.add(*chain(*[(1 <= b, b <= 9) for b in chain(*boxes)]))\n",
    "\n",
    "# TODO: Add constraints that every box in a row has a distinct value\n",
    "s_solver.add(*[Distinct(row) for row in boxes])\n",
    "\n",
    "# TODO: Add constraints that every box in a column has a distinct value\n",
    "s_solver.add(*[Distinct(col) for col in zip(*boxes)])\n",
    "\n",
    "# TODO: Add constraints so that every box in a 3x3 block has a distinct value\n",
    "s_solver.add(*[Distinct([boxes[i + ii][j + jj] for ii in range(3) for jj in range(3)]) for j in range(0, 9, 3) for i in range(0, 9, 3)])"
   ]
  },
  {
   "cell_type": "markdown",
   "metadata": {},
   "source": [
    "#### IMPLMENTATION: Puzzle-Specific Constraints\n",
    "Given the hints provided in the initial puzzle layout, you must also add constraints binding the box values to the specified values. For example, to solve the example puzzle you must specify A3 == 3 and B1 == 9, etc. The cells with a value of zero in the board below are \"blank\", so you should **not** create any constraint with the associate box."
   ]
  },
  {
   "cell_type": "code",
   "execution_count": 23,
   "metadata": {},
   "outputs": [],
   "source": [
    "# use the value 0 to indicate that a box does not have an assigned value\n",
    "board = ((0, 0, 3, 0, 2, 0, 6, 0, 0),\n",
    "         (9, 0, 0, 3, 0, 5, 0, 0, 1),\n",
    "         (0, 0, 1, 8, 0, 6, 4, 0, 0),\n",
    "         (0, 0, 8, 1, 0, 2, 9, 0, 0),\n",
    "         (7, 0, 0, 0, 0, 0, 0, 0, 8),\n",
    "         (0, 0, 6, 7, 0, 8, 2, 0, 0),\n",
    "         (0, 0, 2, 6, 0, 9, 5, 0, 0),\n",
    "         (8, 0, 0, 2, 0, 3, 0, 0, 9),\n",
    "         (0, 0, 5, 0, 1, 0, 3, 0, 0))\n",
    "\n",
    "# TODO: Add constraints boxes[i][j] == board[i][j] for each box where board[i][j] != 0\n",
    "s_solver.add(*[boxes[i][j] == board[i][j] for i in range(9) for j in range(9) if board[i][j] != 0])"
   ]
  },
  {
   "cell_type": "code",
   "execution_count": 24,
   "metadata": {},
   "outputs": [
    {
     "name": "stdout",
     "output_type": "stream",
     "text": [
      " 4  8  3 | 9  2  1 | 6  5  7 \n",
      " 9  6  7 | 3  4  5 | 8  2  1 \n",
      " 2  5  1 | 8  7  6 | 4  9  3 \n",
      "---------|---------|---------\n",
      " 5  4  8 | 1  3  2 | 9  7  6 \n",
      " 7  2  9 | 5  6  4 | 1  3  8 \n",
      " 1  3  6 | 7  9  8 | 2  4  5 \n",
      "---------|---------|---------\n",
      " 3  7  2 | 6  8  9 | 5  1  4 \n",
      " 8  1  4 | 2  5  3 | 7  6  9 \n",
      " 6  9  5 | 4  1  7 | 3  8  2 \n"
     ]
    }
   ],
   "source": [
    "assert s_solver.check() == sat, \"Uh oh. The solver didn't find a solution. Check your constraints.\"\n",
    "for row, _boxes in enumerate(boxes):\n",
    "    if row and row % 3 == 0:\n",
    "        print('-'*9+\"|\"+'-'*9+\"|\"+'-'*9)\n",
    "    for col, box in enumerate(_boxes):\n",
    "        if col and col % 3 == 0:\n",
    "            print('|', end='')\n",
    "        print(' {} '.format(s_solver.model()[box]), end='')\n",
    "    print()"
   ]
  },
  {
   "cell_type": "markdown",
   "metadata": {},
   "source": [
    "#### Sudoku Challenges\n",
    "1. Solve the \"[hardest sudoku puzzle](# https://www.telegraph.co.uk/news/science/science-news/9359579/Worlds-hardest-sudoku-can-you-crack-it.html)\"\n",
    "2. Search for \"3d Sudoku rules\", then extend your solver to handle 3d puzzles"
   ]
  }
 ],
 "metadata": {
  "anaconda-cloud": {},
  "kernelspec": {
   "display_name": "Python 3",
   "language": "python",
   "name": "python3"
  },
  "language_info": {
   "codemirror_mode": {
    "name": "ipython",
    "version": 3
   },
   "file_extension": ".py",
   "mimetype": "text/x-python",
   "name": "python",
   "nbconvert_exporter": "python",
   "pygments_lexer": "ipython3",
   "version": "3.6.3"
  }
 },
 "nbformat": 4,
 "nbformat_minor": 1
}
